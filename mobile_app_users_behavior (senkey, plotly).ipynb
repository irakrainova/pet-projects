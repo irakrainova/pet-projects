{
 "cells": [
  {
   "cell_type": "markdown",
   "id": "51e2ec302d12e5b4",
   "metadata": {},
   "source": [
    "## Анализ поведения пользователей мобильного приложения\n",
    "##  Описание данных:\n",
    "Датасет содержит данные о событиях, совершенных в мобильном приложении \"Ненужные вещи\". В нем пользователи продают свои ненужные вещи, размещая их на доске объявлений. В датасете содержатся данные пользователей, впервые совершивших действия в приложении после 7 октября 2019 года.\n",
    "\n",
    "Колонки в /datasets/mobile_sources.csv:\n",
    "userId — идентификатор пользователя,\n",
    "source — источник, с которого пользователь установил приложение.\n",
    "\n",
    "Колонки в /datasets/mobile_dataset.csv:\n",
    "event.time — время совершения,\n",
    "user.id — идентификатор пользователя, event.name — действие пользователя.   \n",
    "  \n",
    "Виды действий:\n",
    "advert_open — открыл карточки объявления,\n",
    "photos_show — просмотрел фотографий в объявлении,\n",
    "tips_show — увидел рекомендованные объявления,\n",
    "tips_click — кликнул по рекомендованному объявлению,\n",
    "contacts_show и show_contacts — посмотрел номер телефона,\n",
    "contacts_call — позвонил по номеру из объявления,\n",
    "map — открыл карту объявлений,\n",
    "search_1 — search_7 — разные действия, связанные с поиском по сайту,\n",
    "favorites_add — добавил объявление в избранное."
   ]
  },
  {
   "cell_type": "markdown",
   "id": "85f7ffdae04b9092",
   "metadata": {},
   "source": [
    "## Цели исследования\n",
    "1. Управление вовлеченностью клиентов (адаптация приложения по целевой и смежной\n",
    "аудитории) будет актуально только на основе данных о поведении пользователей.\n",
    "2. Получить на основе поведения пользователей гипотезы о том как можно было бы улучшить\n",
    " приложение с точки зрения пользовательского опыта.\n",
    "\n",
    "## Задачи:\n",
    "1. Проанализировать связь целевого события — просмотра контактов — и других действий пользователей.\n",
    "2. Оценить, какие действия чаще совершают те пользователи, которые просматривают контакты.\n",
    "## Основные вопросы исследования\n",
    "1. Проанализируйте связь целевого события —\n",
    "просмотра контактов — и других действий\n",
    "пользователей:\n",
    "1.1. В разрезе сессий отобрать сценарии\\паттерны, которые\n",
    "приводят к просмотру контактов\n",
    "1.2. Построить воронки по основным сценариям в разрезе\n",
    "уникальных пользователей\n",
    "2. Оцените, какие действия чаще совершают те\n",
    "пользователи, которые просматривают контакты:\n",
    "2.1. Рассчитать относительную частоту событий в разрезе двух\n",
    "групп пользователей:\n",
    "- группа пользователей, которые смотрели\n",
    "контакты contacts_show\n",
    "-  группа пользователей, которые не смотрели\n",
    "контакты contacts_show"
   ]
  },
  {
   "cell_type": "markdown",
   "id": "bd6ad36895fb6b7c",
   "metadata": {},
   "source": [
    "## Этапы исследования  ##\n",
    "  \n",
    "1. Изучение данных  \n",
    "2. Предобработка  \n",
    "- Переименование столбцов  \n",
    "- Изменение типов данных   \n",
    "- Проверка на явные и неявные дубликаты  \n",
    "- Добавление столбцов  \n",
    "- Проверка на аномальные значения  \n",
    "\n",
    "3. Исследовательский анализ   \n",
    "- Анализ активности пользователей    \n",
    "- Определение а анализ сессий  \n",
    "4. Какие действие совершают пользователи которые просматривают контакты   \n",
    "5. Проверка гипотез  \n",
    "6. Выводы  \n"
   ]
  },
  {
   "cell_type": "markdown",
   "id": "34038a580ff339f2",
   "metadata": {},
   "source": [
    "##  Изучение данных"
   ]
  },
  {
   "cell_type": "code",
   "execution_count": 1,
   "id": "initial_id",
   "metadata": {
    "ExecuteTime": {
     "end_time": "2023-11-16T14:52:53.497745Z",
     "start_time": "2023-11-16T14:52:53.162850Z"
    }
   },
   "outputs": [],
   "source": [
    "\n",
    "import numpy as np\n",
    "import pandas as pd\n",
    "import seaborn as sns\n",
    "from pandas.plotting import register_matplotlib_converters\n",
    "from plotly import graph_objects as go\n",
    "from datetime import datetime\n",
    "from datetime import timedelta\n",
    "\n",
    "import matplotlib.pyplot as plt\n",
    "register_matplotlib_converters()\n",
    "import warnings\n",
    "warnings.filterwarnings('ignore')"
   ]
  },
  {
   "cell_type": "code",
   "execution_count": 2,
   "id": "c88383650f19a601",
   "metadata": {
    "ExecuteTime": {
     "end_time": "2023-11-16T14:52:55.511622Z",
     "start_time": "2023-11-16T14:52:55.054602Z"
    }
   },
   "outputs": [],
   "source": [
    "import tqdm\n",
    "import requests\n",
    "from tqdm import tqdm\n",
    "tqdm.pandas()"
   ]
  },
  {
   "cell_type": "code",
   "execution_count": 3,
   "id": "41e35e290a81d769",
   "metadata": {
    "ExecuteTime": {
     "end_time": "2023-11-16T14:53:29.396668Z",
     "start_time": "2023-11-16T14:53:25.157348Z"
    }
   },
   "outputs": [
    {
     "ename": "FileNotFoundError",
     "evalue": "[Errno 2] No such file or directory: 'mobile_dataset.csv'",
     "output_type": "error",
     "traceback": [
      "\u001b[0;31m---------------------------------------------------------------------------\u001b[0m",
      "\u001b[0;31mFileNotFoundError\u001b[0m                         Traceback (most recent call last)",
      "\u001b[0;32m/tmp/ipykernel_332/1130948355.py\u001b[0m in \u001b[0;36m<module>\u001b[0;34m\u001b[0m\n\u001b[0;32m----> 1\u001b[0;31m \u001b[0mmobile_data\u001b[0m \u001b[0;34m=\u001b[0m \u001b[0mpd\u001b[0m\u001b[0;34m.\u001b[0m\u001b[0mread_csv\u001b[0m\u001b[0;34m(\u001b[0m\u001b[0;34m'mobile_dataset.csv'\u001b[0m\u001b[0;34m)\u001b[0m\u001b[0;34m\u001b[0m\u001b[0;34m\u001b[0m\u001b[0m\n\u001b[0m\u001b[1;32m      2\u001b[0m \u001b[0mmobile_sources\u001b[0m \u001b[0;34m=\u001b[0m \u001b[0mpd\u001b[0m\u001b[0;34m.\u001b[0m\u001b[0mread_csv\u001b[0m\u001b[0;34m(\u001b[0m\u001b[0;34m'mobile_sources.csv'\u001b[0m\u001b[0;34m)\u001b[0m\u001b[0;34m\u001b[0m\u001b[0;34m\u001b[0m\u001b[0m\n",
      "\u001b[0;32m/opt/conda/lib/python3.9/site-packages/pandas/io/parsers.py\u001b[0m in \u001b[0;36mread_csv\u001b[0;34m(filepath_or_buffer, sep, delimiter, header, names, index_col, usecols, squeeze, prefix, mangle_dupe_cols, dtype, engine, converters, true_values, false_values, skipinitialspace, skiprows, skipfooter, nrows, na_values, keep_default_na, na_filter, verbose, skip_blank_lines, parse_dates, infer_datetime_format, keep_date_col, date_parser, dayfirst, cache_dates, iterator, chunksize, compression, thousands, decimal, lineterminator, quotechar, quoting, doublequote, escapechar, comment, encoding, dialect, error_bad_lines, warn_bad_lines, delim_whitespace, low_memory, memory_map, float_precision, storage_options)\u001b[0m\n\u001b[1;32m    608\u001b[0m     \u001b[0mkwds\u001b[0m\u001b[0;34m.\u001b[0m\u001b[0mupdate\u001b[0m\u001b[0;34m(\u001b[0m\u001b[0mkwds_defaults\u001b[0m\u001b[0;34m)\u001b[0m\u001b[0;34m\u001b[0m\u001b[0;34m\u001b[0m\u001b[0m\n\u001b[1;32m    609\u001b[0m \u001b[0;34m\u001b[0m\u001b[0m\n\u001b[0;32m--> 610\u001b[0;31m     \u001b[0;32mreturn\u001b[0m \u001b[0m_read\u001b[0m\u001b[0;34m(\u001b[0m\u001b[0mfilepath_or_buffer\u001b[0m\u001b[0;34m,\u001b[0m \u001b[0mkwds\u001b[0m\u001b[0;34m)\u001b[0m\u001b[0;34m\u001b[0m\u001b[0;34m\u001b[0m\u001b[0m\n\u001b[0m\u001b[1;32m    611\u001b[0m \u001b[0;34m\u001b[0m\u001b[0m\n\u001b[1;32m    612\u001b[0m \u001b[0;34m\u001b[0m\u001b[0m\n",
      "\u001b[0;32m/opt/conda/lib/python3.9/site-packages/pandas/io/parsers.py\u001b[0m in \u001b[0;36m_read\u001b[0;34m(filepath_or_buffer, kwds)\u001b[0m\n\u001b[1;32m    460\u001b[0m \u001b[0;34m\u001b[0m\u001b[0m\n\u001b[1;32m    461\u001b[0m     \u001b[0;31m# Create the parser.\u001b[0m\u001b[0;34m\u001b[0m\u001b[0;34m\u001b[0m\u001b[0;34m\u001b[0m\u001b[0m\n\u001b[0;32m--> 462\u001b[0;31m     \u001b[0mparser\u001b[0m \u001b[0;34m=\u001b[0m \u001b[0mTextFileReader\u001b[0m\u001b[0;34m(\u001b[0m\u001b[0mfilepath_or_buffer\u001b[0m\u001b[0;34m,\u001b[0m \u001b[0;34m**\u001b[0m\u001b[0mkwds\u001b[0m\u001b[0;34m)\u001b[0m\u001b[0;34m\u001b[0m\u001b[0;34m\u001b[0m\u001b[0m\n\u001b[0m\u001b[1;32m    463\u001b[0m \u001b[0;34m\u001b[0m\u001b[0m\n\u001b[1;32m    464\u001b[0m     \u001b[0;32mif\u001b[0m \u001b[0mchunksize\u001b[0m \u001b[0;32mor\u001b[0m \u001b[0miterator\u001b[0m\u001b[0;34m:\u001b[0m\u001b[0;34m\u001b[0m\u001b[0;34m\u001b[0m\u001b[0m\n",
      "\u001b[0;32m/opt/conda/lib/python3.9/site-packages/pandas/io/parsers.py\u001b[0m in \u001b[0;36m__init__\u001b[0;34m(self, f, engine, **kwds)\u001b[0m\n\u001b[1;32m    817\u001b[0m             \u001b[0mself\u001b[0m\u001b[0;34m.\u001b[0m\u001b[0moptions\u001b[0m\u001b[0;34m[\u001b[0m\u001b[0;34m\"has_index_names\"\u001b[0m\u001b[0;34m]\u001b[0m \u001b[0;34m=\u001b[0m \u001b[0mkwds\u001b[0m\u001b[0;34m[\u001b[0m\u001b[0;34m\"has_index_names\"\u001b[0m\u001b[0;34m]\u001b[0m\u001b[0;34m\u001b[0m\u001b[0;34m\u001b[0m\u001b[0m\n\u001b[1;32m    818\u001b[0m \u001b[0;34m\u001b[0m\u001b[0m\n\u001b[0;32m--> 819\u001b[0;31m         \u001b[0mself\u001b[0m\u001b[0;34m.\u001b[0m\u001b[0m_engine\u001b[0m \u001b[0;34m=\u001b[0m \u001b[0mself\u001b[0m\u001b[0;34m.\u001b[0m\u001b[0m_make_engine\u001b[0m\u001b[0;34m(\u001b[0m\u001b[0mself\u001b[0m\u001b[0;34m.\u001b[0m\u001b[0mengine\u001b[0m\u001b[0;34m)\u001b[0m\u001b[0;34m\u001b[0m\u001b[0;34m\u001b[0m\u001b[0m\n\u001b[0m\u001b[1;32m    820\u001b[0m \u001b[0;34m\u001b[0m\u001b[0m\n\u001b[1;32m    821\u001b[0m     \u001b[0;32mdef\u001b[0m \u001b[0mclose\u001b[0m\u001b[0;34m(\u001b[0m\u001b[0mself\u001b[0m\u001b[0;34m)\u001b[0m\u001b[0;34m:\u001b[0m\u001b[0;34m\u001b[0m\u001b[0;34m\u001b[0m\u001b[0m\n",
      "\u001b[0;32m/opt/conda/lib/python3.9/site-packages/pandas/io/parsers.py\u001b[0m in \u001b[0;36m_make_engine\u001b[0;34m(self, engine)\u001b[0m\n\u001b[1;32m   1048\u001b[0m             )\n\u001b[1;32m   1049\u001b[0m         \u001b[0;31m# error: Too many arguments for \"ParserBase\"\u001b[0m\u001b[0;34m\u001b[0m\u001b[0;34m\u001b[0m\u001b[0;34m\u001b[0m\u001b[0m\n\u001b[0;32m-> 1050\u001b[0;31m         \u001b[0;32mreturn\u001b[0m \u001b[0mmapping\u001b[0m\u001b[0;34m[\u001b[0m\u001b[0mengine\u001b[0m\u001b[0;34m]\u001b[0m\u001b[0;34m(\u001b[0m\u001b[0mself\u001b[0m\u001b[0;34m.\u001b[0m\u001b[0mf\u001b[0m\u001b[0;34m,\u001b[0m \u001b[0;34m**\u001b[0m\u001b[0mself\u001b[0m\u001b[0;34m.\u001b[0m\u001b[0moptions\u001b[0m\u001b[0;34m)\u001b[0m  \u001b[0;31m# type: ignore[call-arg]\u001b[0m\u001b[0;34m\u001b[0m\u001b[0;34m\u001b[0m\u001b[0m\n\u001b[0m\u001b[1;32m   1051\u001b[0m \u001b[0;34m\u001b[0m\u001b[0m\n\u001b[1;32m   1052\u001b[0m     \u001b[0;32mdef\u001b[0m \u001b[0m_failover_to_python\u001b[0m\u001b[0;34m(\u001b[0m\u001b[0mself\u001b[0m\u001b[0;34m)\u001b[0m\u001b[0;34m:\u001b[0m\u001b[0;34m\u001b[0m\u001b[0;34m\u001b[0m\u001b[0m\n",
      "\u001b[0;32m/opt/conda/lib/python3.9/site-packages/pandas/io/parsers.py\u001b[0m in \u001b[0;36m__init__\u001b[0;34m(self, src, **kwds)\u001b[0m\n\u001b[1;32m   1865\u001b[0m \u001b[0;34m\u001b[0m\u001b[0m\n\u001b[1;32m   1866\u001b[0m         \u001b[0;31m# open handles\u001b[0m\u001b[0;34m\u001b[0m\u001b[0;34m\u001b[0m\u001b[0;34m\u001b[0m\u001b[0m\n\u001b[0;32m-> 1867\u001b[0;31m         \u001b[0mself\u001b[0m\u001b[0;34m.\u001b[0m\u001b[0m_open_handles\u001b[0m\u001b[0;34m(\u001b[0m\u001b[0msrc\u001b[0m\u001b[0;34m,\u001b[0m \u001b[0mkwds\u001b[0m\u001b[0;34m)\u001b[0m\u001b[0;34m\u001b[0m\u001b[0;34m\u001b[0m\u001b[0m\n\u001b[0m\u001b[1;32m   1868\u001b[0m         \u001b[0;32massert\u001b[0m \u001b[0mself\u001b[0m\u001b[0;34m.\u001b[0m\u001b[0mhandles\u001b[0m \u001b[0;32mis\u001b[0m \u001b[0;32mnot\u001b[0m \u001b[0;32mNone\u001b[0m\u001b[0;34m\u001b[0m\u001b[0;34m\u001b[0m\u001b[0m\n\u001b[1;32m   1869\u001b[0m         \u001b[0;32mfor\u001b[0m \u001b[0mkey\u001b[0m \u001b[0;32min\u001b[0m \u001b[0;34m(\u001b[0m\u001b[0;34m\"storage_options\"\u001b[0m\u001b[0;34m,\u001b[0m \u001b[0;34m\"encoding\"\u001b[0m\u001b[0;34m,\u001b[0m \u001b[0;34m\"memory_map\"\u001b[0m\u001b[0;34m,\u001b[0m \u001b[0;34m\"compression\"\u001b[0m\u001b[0;34m)\u001b[0m\u001b[0;34m:\u001b[0m\u001b[0;34m\u001b[0m\u001b[0;34m\u001b[0m\u001b[0m\n",
      "\u001b[0;32m/opt/conda/lib/python3.9/site-packages/pandas/io/parsers.py\u001b[0m in \u001b[0;36m_open_handles\u001b[0;34m(self, src, kwds)\u001b[0m\n\u001b[1;32m   1360\u001b[0m         \u001b[0mLet\u001b[0m \u001b[0mthe\u001b[0m \u001b[0mreaders\u001b[0m \u001b[0mopen\u001b[0m \u001b[0mIOHanldes\u001b[0m \u001b[0mafter\u001b[0m \u001b[0mthey\u001b[0m \u001b[0mare\u001b[0m \u001b[0mdone\u001b[0m \u001b[0;32mwith\u001b[0m \u001b[0mtheir\u001b[0m \u001b[0mpotential\u001b[0m \u001b[0mraises\u001b[0m\u001b[0;34m.\u001b[0m\u001b[0;34m\u001b[0m\u001b[0;34m\u001b[0m\u001b[0m\n\u001b[1;32m   1361\u001b[0m         \"\"\"\n\u001b[0;32m-> 1362\u001b[0;31m         self.handles = get_handle(\n\u001b[0m\u001b[1;32m   1363\u001b[0m             \u001b[0msrc\u001b[0m\u001b[0;34m,\u001b[0m\u001b[0;34m\u001b[0m\u001b[0;34m\u001b[0m\u001b[0m\n\u001b[1;32m   1364\u001b[0m             \u001b[0;34m\"r\"\u001b[0m\u001b[0;34m,\u001b[0m\u001b[0;34m\u001b[0m\u001b[0;34m\u001b[0m\u001b[0m\n",
      "\u001b[0;32m/opt/conda/lib/python3.9/site-packages/pandas/io/common.py\u001b[0m in \u001b[0;36mget_handle\u001b[0;34m(path_or_buf, mode, encoding, compression, memory_map, is_text, errors, storage_options)\u001b[0m\n\u001b[1;32m    640\u001b[0m                 \u001b[0merrors\u001b[0m \u001b[0;34m=\u001b[0m \u001b[0;34m\"replace\"\u001b[0m\u001b[0;34m\u001b[0m\u001b[0;34m\u001b[0m\u001b[0m\n\u001b[1;32m    641\u001b[0m             \u001b[0;31m# Encoding\u001b[0m\u001b[0;34m\u001b[0m\u001b[0;34m\u001b[0m\u001b[0;34m\u001b[0m\u001b[0m\n\u001b[0;32m--> 642\u001b[0;31m             handle = open(\n\u001b[0m\u001b[1;32m    643\u001b[0m                 \u001b[0mhandle\u001b[0m\u001b[0;34m,\u001b[0m\u001b[0;34m\u001b[0m\u001b[0;34m\u001b[0m\u001b[0m\n\u001b[1;32m    644\u001b[0m                 \u001b[0mioargs\u001b[0m\u001b[0;34m.\u001b[0m\u001b[0mmode\u001b[0m\u001b[0;34m,\u001b[0m\u001b[0;34m\u001b[0m\u001b[0;34m\u001b[0m\u001b[0m\n",
      "\u001b[0;31mFileNotFoundError\u001b[0m: [Errno 2] No such file or directory: 'mobile_dataset.csv'"
     ]
    }
   ],
   "source": [
    "mobile_data = pd.read_csv('mobile_dataset.csv') \n",
    "mobile_sources = pd.read_csv('mobile_sources.csv') \n"
   ]
  },
  {
   "cell_type": "code",
   "execution_count": null,
   "id": "223efa79b6e9db72",
   "metadata": {
    "ExecuteTime": {
     "end_time": "2023-11-16T14:53:31.376247Z",
     "start_time": "2023-11-16T14:53:31.063615Z"
    }
   },
   "outputs": [],
   "source": [
    "mobile_data.head(10)\n",
    "mobile_data.info()"
   ]
  },
  {
   "cell_type": "markdown",
   "id": "2e27a480d3e69625",
   "metadata": {},
   "source": [
    "В таблице mobile_data содержится информация о  74197 записях посещения приложения пользователями"
   ]
  },
  {
   "cell_type": "code",
   "execution_count": null,
   "id": "25113f16bc342262",
   "metadata": {
    "ExecuteTime": {
     "end_time": "2023-11-16T14:53:37.411205Z",
     "start_time": "2023-11-16T14:53:36.817712Z"
    }
   },
   "outputs": [],
   "source": [
    "mobile_sources.head(10)\n",
    "mobile_sources.info()"
   ]
  },
  {
   "cell_type": "code",
   "execution_count": null,
   "id": "1aacbbbaddc8713a",
   "metadata": {
    "ExecuteTime": {
     "end_time": "2023-11-16T14:53:39.282970Z",
     "start_time": "2023-11-16T14:53:38.732641Z"
    }
   },
   "outputs": [],
   "source": [
    "mobile_sources.describe()"
   ]
  },
  {
   "cell_type": "markdown",
   "id": "a76a234eaa10b09",
   "metadata": {},
   "source": [
    "В таблице 4293 записи. В колонке source - источники привлечения три уникальных записи. "
   ]
  },
  {
   "cell_type": "code",
   "execution_count": null,
   "id": "ec800c80f94aab0d",
   "metadata": {
    "ExecuteTime": {
     "end_time": "2023-11-16T14:53:41.873730Z",
     "start_time": "2023-11-16T14:53:41.706346Z"
    }
   },
   "outputs": [],
   "source": [
    "print('Пользователи привлекаются из трех типов источников: ',', '\\\n",
    "      .join(mobile_sources['source'].unique().tolist()))"
   ]
  },
  {
   "cell_type": "code",
   "execution_count": null,
   "id": "602b2ac6f5653dd",
   "metadata": {
    "ExecuteTime": {
     "end_time": "2023-11-16T14:53:50.344303Z",
     "start_time": "2023-11-16T14:53:49.182838Z"
    }
   },
   "outputs": [],
   "source": [
    "print('Типы событий: ')\n",
    "mobile_data['event.name'].unique()\n"
   ]
  },
  {
   "cell_type": "code",
   "execution_count": null,
   "id": "863570a11bb3bfa3",
   "metadata": {
    "ExecuteTime": {
     "end_time": "2023-11-16T14:53:53.038521Z",
     "start_time": "2023-11-16T14:53:51.579099Z"
    }
   },
   "outputs": [],
   "source": [
    "mobile_sources.info()"
   ]
  },
  {
   "cell_type": "code",
   "execution_count": null,
   "id": "ef29c6fee25f9ffe",
   "metadata": {
    "ExecuteTime": {
     "end_time": "2023-11-16T14:53:57.384891Z",
     "start_time": "2023-11-16T14:53:53.511821Z"
    }
   },
   "outputs": [],
   "source": [
    "print('Общее количество событий в логе:', mobile_data['event.name'].count())\n",
    "print('Количество пользователей в логе:', len(mobile_data['user.id'].unique()))\n",
    "\n",
    "print('Дата начала эксперимента:', mobile_data['event.time'].min())\n",
    "print('Дата конца эксперимента:', mobile_data['event.time'].max())\n"
   ]
  },
  {
   "cell_type": "markdown",
   "id": "455c89853fb6ad80",
   "metadata": {},
   "source": [
    "В списке событий есть дубликаты, далее их обработаем."
   ]
  },
  {
   "cell_type": "markdown",
   "id": "d179b31a6df778ec",
   "metadata": {},
   "source": [
    "**Выводы по результатам обзора данных.** \n",
    "- В таблице mobile_data содержится информация о  74197 записях посещения приложения пользователями. В таблице 5 стоблцов:event.time, event.name и user.id. \n",
    "В event.name представлены события, которые совершают пользователи на сайта. Всего 9 уникальных события, но в столбце есть дубликаты - далее их обработаем.\n",
    "\n",
    "- В таблице mobile_sources - информацию о 4293 записях в 2-х столбцах user_id и source. В source - инфомация о трех источниках привлечения - yandex, google, other\n",
    "В таблицах нет пропущенных значений"
   ]
  },
  {
   "cell_type": "markdown",
   "id": "988b484f37fdadf0",
   "metadata": {},
   "source": [
    "## Предобработка данных ##"
   ]
  },
  {
   "cell_type": "markdown",
   "id": "b5fe461c347d37db",
   "metadata": {},
   "source": [
    "**Этапы предобработки**  \n",
    "1. Переименование столбцов  \n",
    "2. Изменения типа данных  \n",
    "3. Проверка на скрытые и явные дубликаты  \n",
    "4. Добавление столбцов  \n",
    "5. Поиск аномалий   "
   ]
  },
  {
   "cell_type": "markdown",
   "id": "942c269e18093d73",
   "metadata": {},
   "source": [
    "### Переименование столбцов"
   ]
  },
  {
   "cell_type": "code",
   "execution_count": null,
   "id": "18ee612fbdaaf1e5",
   "metadata": {
    "ExecuteTime": {
     "end_time": "2023-11-16T14:53:58.075353Z",
     "start_time": "2023-11-16T14:53:57.308288Z"
    }
   },
   "outputs": [],
   "source": [
    "# переименование столбцов\n",
    "mobile_sources = mobile_sources.rename(columns={'userId': 'user_id'})\n",
    "mobile_data = mobile_data.rename(columns={'event.time': 'event_time','event.name': 'event_name',\\\n",
    "                                          'user.id': 'user_id'})"
   ]
  },
  {
   "cell_type": "markdown",
   "id": "b2eabb477f8f3faa",
   "metadata": {},
   "source": [
    "### Изменение типа данных"
   ]
  },
  {
   "cell_type": "code",
   "execution_count": null,
   "id": "25f09cf62daf2968",
   "metadata": {
    "ExecuteTime": {
     "end_time": "2023-11-16T14:54:02.001912Z",
     "start_time": "2023-11-16T14:53:57.366943Z"
    }
   },
   "outputs": [],
   "source": [
    "# меняем тип данных у столбца event_time в таблице \n",
    "mobile_data['event_time'] = pd.to_datetime(mobile_data['event_time']).round('ms')\n"
   ]
  },
  {
   "cell_type": "markdown",
   "id": "3d9efc6310f6710f",
   "metadata": {},
   "source": [
    "### Проверка на дубликаты"
   ]
  },
  {
   "cell_type": "code",
   "execution_count": null,
   "id": "2375bc9d701af84e",
   "metadata": {
    "ExecuteTime": {
     "end_time": "2023-11-16T14:54:03.237038Z",
     "start_time": "2023-11-16T14:53:59.691218Z"
    }
   },
   "outputs": [],
   "source": [
    "# проверка на скрытые дубликаты\n",
    "print(mobile_data['event_name'].unique())"
   ]
  },
  {
   "cell_type": "markdown",
   "id": "37a04d9deefc4d2e",
   "metadata": {},
   "source": [
    "В выводе есть дубликаты действия - search и show_contacts/contacts_show. Дубликаты убираем. Оставляем show_contacts и search соответственно."
   ]
  },
  {
   "cell_type": "code",
   "execution_count": null,
   "id": "436f6fb47ddc410c",
   "metadata": {
    "ExecuteTime": {
     "end_time": "2023-11-16T14:54:07.673235Z",
     "start_time": "2023-11-16T14:54:00.077460Z"
    }
   },
   "outputs": [],
   "source": [
    "\n",
    "mobile_data['event_name']=mobile_data['event_name'].str.replace('search_\\d+', 'search',regex = True)\n",
    "mobile_data['event_name']=mobile_data['event_name'].str\\\n",
    "                                            .replace('contacts_show', 'show_contacts',regex = True)"
   ]
  },
  {
   "cell_type": "code",
   "execution_count": null,
   "id": "f43c0f705046fd49",
   "metadata": {
    "ExecuteTime": {
     "end_time": "2023-11-16T14:54:07.673752Z",
     "start_time": "2023-11-16T14:54:07.536189Z"
    }
   },
   "outputs": [],
   "source": [
    "print(mobile_data['event_name'].unique())"
   ]
  },
  {
   "cell_type": "markdown",
   "id": "cd49b794548ac09c",
   "metadata": {},
   "source": [
    "Получаем 9 действий, которые делает пользователь. Целевое действие - просмотр контактов/ show_contacts"
   ]
  },
  {
   "cell_type": "code",
   "execution_count": null,
   "id": "8f415dd8fe731a99",
   "metadata": {
    "ExecuteTime": {
     "end_time": "2023-11-16T14:54:07.674033Z",
     "start_time": "2023-11-16T14:54:07.555371Z"
    }
   },
   "outputs": [],
   "source": [
    "# проверяем на скрытые дубликаты \n",
    "print('Дубликаты в mobile_data: ', mobile_data.duplicated().sum())\n",
    "print('Дубликаты в mobile_sources:', mobile_sources.duplicated().sum())\n"
   ]
  },
  {
   "cell_type": "code",
   "execution_count": null,
   "id": "c27642756b1e8106",
   "metadata": {
    "ExecuteTime": {
     "end_time": "2023-11-16T14:54:08.004300Z",
     "start_time": "2023-11-16T14:54:07.599904Z"
    }
   },
   "outputs": [],
   "source": [
    "# удаляем дубликаты из таблицы mobile_data\n",
    "mobile_data.drop_duplicates(inplace=True)\n",
    "mobile_data.reset_index(inplace=True, drop=True)\n",
    "print('Дубликаты в mobile_data: ', mobile_data.duplicated().sum())"
   ]
  },
  {
   "cell_type": "markdown",
   "id": "3c724336c0e17e7c",
   "metadata": {},
   "source": [
    "### Добавление столбцов"
   ]
  },
  {
   "cell_type": "code",
   "execution_count": null,
   "id": "adce97afde4256c3",
   "metadata": {
    "ExecuteTime": {
     "end_time": "2023-11-16T14:54:08.687508Z",
     "start_time": "2023-11-16T14:54:07.668615Z"
    }
   },
   "outputs": [],
   "source": [
    "# добавляем столбцы \n",
    "mobile_data['event_datetime'] = pd.to_datetime(mobile_data['event_time'], unit='ms')\n",
    "mobile_data['event_date'] = mobile_data['event_time'].dt.date\n",
    "mobile_data['day_of_week'] = mobile_data['event_time'].dt.day_of_week"
   ]
  },
  {
   "cell_type": "code",
   "execution_count": null,
   "id": "c62b07a59c70f504",
   "metadata": {
    "ExecuteTime": {
     "end_time": "2023-11-16T14:54:08.826150Z",
     "start_time": "2023-11-16T14:54:07.776620Z"
    }
   },
   "outputs": [],
   "source": [
    "mobile_data.head(10)"
   ]
  },
  {
   "cell_type": "markdown",
   "id": "976a8c9471aa91ae",
   "metadata": {},
   "source": [
    "### Проверка на аномалии числа событий на пользователя"
   ]
  },
  {
   "cell_type": "code",
   "execution_count": null,
   "id": "79b86c3af99a50fd",
   "metadata": {
    "ExecuteTime": {
     "end_time": "2023-11-16T14:54:12.761182Z",
     "start_time": "2023-11-16T14:54:11.250264Z"
    }
   },
   "outputs": [],
   "source": [
    "# считаем количество событий на пользователя\n",
    "user_event_table = mobile_data.groupby('user_id')['event_name'].size()\n",
    "user_event_table = pd.DataFrame(user_event_table)\n",
    "user_event_table.columns = ['count_event']\n",
    "user_event_table.sort_values('count_event', inplace=True)\n",
    "\n",
    "statistics = user_event_table['count_event'].describe()\n",
    "median = statistics['50%']\n",
    "min = statistics.min()\n",
    "print('Медианное число событий на пользователя:', median)"
   ]
  },
  {
   "cell_type": "code",
   "execution_count": null,
   "id": "a112fc9a1bdab47f",
   "metadata": {
    "ExecuteTime": {
     "end_time": "2023-11-16T14:54:12.773284Z",
     "start_time": "2023-11-16T14:54:11.287021Z"
    }
   },
   "outputs": [],
   "source": [
    "plt.figure(figsize=(14, 4))\n",
    "plt.boxplot(user_event_table['count_event'], vert=False)\n",
    "plt.xlabel('Количество событий на пользователя')\n",
    "plt.title('Количество событий на пользователя')\n",
    "plt.show()"
   ]
  },
  {
   "cell_type": "markdown",
   "id": "bc6ee55a1f1326ed",
   "metadata": {},
   "source": [
    "По графику видим, что в данных есть выбросы, это пользователи на которых зафиксировано более 300 событий за неделю. Это могут быть как активные пользователи, так и боты. Посчитаем количество таких пользователей."
   ]
  },
  {
   "cell_type": "code",
   "execution_count": null,
   "id": "fe4a684f",
   "metadata": {},
   "outputs": [],
   "source": [
    "# посмотрим распределение\n",
    "percentiles = [ 0.9, 0.95, 0.99] \n",
    "column_percentiles = user_event_table['count_event'].quantile(percentiles)\n",
    "\n",
    "print(column_percentiles)"
   ]
  },
  {
   "cell_type": "code",
   "execution_count": null,
   "id": "2a8148fc",
   "metadata": {},
   "outputs": [],
   "source": [
    "# смотрим сколько событий на пользователя отклоняются от  99 перцентиля\n",
    "threshold = user_event_table['count_event'].quantile(0.99)\n",
    "user_break = user_event_table[user_event_table['count_event'] > threshold].index.tolist()\n",
    "\n",
    "print('Количество записей с выбросами в данных:',len(user_break))"
   ]
  },
  {
   "cell_type": "code",
   "execution_count": null,
   "id": "6c68923348d9d0ef",
   "metadata": {
    "ExecuteTime": {
     "end_time": "2023-11-16T14:54:19.554586Z",
     "start_time": "2023-11-16T14:54:18.763223Z"
    }
   },
   "outputs": [],
   "source": [
    "# cмотрим сколько записей приходится на аккаунты в которых есть выбросы\n",
    "user_break_data = mobile_data.query('user_id in @user_break')['event_name'].count()\n",
    "rate_break_data = len(user_break)/mobile_data['user_id'].nunique() * 100\n",
    "\n",
    "print(f'Общее количество записей - {user_break_data}')\n",
    "print(f'Процент выбросов от всех аккаунтов - {round(rate_break_data, 2)} %')\n"
   ]
  },
  {
   "cell_type": "markdown",
   "id": "4e35c049f286fbe4",
   "metadata": {},
   "source": [
    "Удаление выбросов в этом случае приведет к потере 9626 строк. Данные оставляем.  \n"
   ]
  },
  {
   "cell_type": "markdown",
   "id": "227834a019534ef2",
   "metadata": {},
   "source": [
    "В результате предобработки данные очищены от дубликатов, добавлены новые столбцы, проведен анализ аномалий, изменен тип данный."
   ]
  },
  {
   "cell_type": "markdown",
   "id": "e9e63ebe64afc1bc",
   "metadata": {},
   "source": [
    "## 3. Исследователький анализ ##"
   ]
  },
  {
   "cell_type": "markdown",
   "id": "cd095219f8e954a4",
   "metadata": {},
   "source": [
    "###  Анализ активности пользователей ##"
   ]
  },
  {
   "cell_type": "markdown",
   "id": "3158fececc3733a4",
   "metadata": {},
   "source": [
    "\n",
    "#### Количество событий в зависимости от времени ####"
   ]
  },
  {
   "cell_type": "code",
   "execution_count": null,
   "id": "9f45bdde8e757663",
   "metadata": {
    "ExecuteTime": {
     "end_time": "2023-11-16T14:54:28.223989Z",
     "start_time": "2023-11-16T14:54:25.727888Z"
    }
   },
   "outputs": [],
   "source": [
    "# проверим, на все ли дни исследуемого месяца приходятся события. \n",
    "plt.figure(figsize=(12, 6))\n",
    "ax = mobile_data['event_datetime'].hist(bins=500, alpha=0.9, color='#3A3238')\n",
    "\n",
    "plt.title('Количество событий в зависимости от времени')\n",
    "plt.ylabel(\"Дата\")\n",
    "plt.ylabel(\"Число событий\")\n",
    "plt.xticks(rotation=90)\n",
    "\n",
    "plt.show()"
   ]
  },
  {
   "cell_type": "markdown",
   "id": "5a7ff09ba02367b7",
   "metadata": {},
   "source": [
    "Нормальное распределение в каждом из дней. Видим пик и спуски, в некоторые дни распределение смещено влево или вправо. Прослеживается связь между днями недели и активностью. \n",
    "Посмотрим на активность пользователей по дням недели"
   ]
  },
  {
   "cell_type": "markdown",
   "id": "64bc2f0af659f95b",
   "metadata": {},
   "source": [
    "#### Активность пользователей по дням недели ####"
   ]
  },
  {
   "cell_type": "code",
   "execution_count": null,
   "id": "99237b478998a818",
   "metadata": {
    "ExecuteTime": {
     "end_time": "2023-11-16T14:54:29.769804Z",
     "start_time": "2023-11-16T14:54:28.894882Z"
    }
   },
   "outputs": [],
   "source": [
    "grouped_data = mobile_data.groupby('day_of_week').count()['event_name']\n",
    "\n",
    "fig, ax = plt.subplots(figsize=(10, 4))\n",
    "ax.bar(grouped_data.index, grouped_data.values, color='#9C9281')\n",
    "ax.set_xlabel('День недели')\n",
    "ax.set_ylabel('Количество событий')\n",
    "ax.set_title('График количества событий по дням недели')\n",
    "\n",
    "trend_line = np.polyfit(np.arange(len(grouped_data)), grouped_data.values, 1)\n",
    "trend_values = np.polyval(trend_line, np.arange(len(grouped_data)))\n",
    "\n",
    "ax.plot(grouped_data.index, trend_values, color='red', linestyle='--', label='Линия тренда')\n",
    "ax.legend()\n",
    "days_of_week = ['', 'Mon', 'Tue', 'Wed', 'Thu', 'Fri', 'Sat', 'Sun']\n",
    "ax.set_xticklabels(days_of_week);\n",
    "\n",
    "plt.show();\n"
   ]
  },
  {
   "cell_type": "markdown",
   "id": "cb692f51139b00f2",
   "metadata": {},
   "source": [
    "Линия тренда указывает на то, что активность пользователей снижается ближе к выходным, в воскресенье снова начинается рост активности."
   ]
  },
  {
   "cell_type": "markdown",
   "id": "9d2f4ecab01c122b",
   "metadata": {},
   "source": [
    "####  Число уникальных пользователей в день - DAU ####\n"
   ]
  },
  {
   "cell_type": "code",
   "execution_count": null,
   "id": "1e8b8f5f75f4985",
   "metadata": {
    "ExecuteTime": {
     "end_time": "2023-11-16T14:54:33.224350Z",
     "start_time": "2023-11-16T14:54:31.384041Z"
    }
   },
   "outputs": [],
   "source": [
    "\n",
    "dau_mobile_data = mobile_data.groupby('event_date')['user_id'].nunique()\n",
    "\n",
    "trend_line = np.polyfit(np.arange(len(dau_mobile_data)), dau_mobile_data.values, 1)\n",
    "trend_values = np.polyval(trend_line, np.arange(len(dau_mobile_data)))\n",
    "\n",
    "fig, ax = plt.subplots(figsize=(15, 6))\n",
    "ax.bar(dau_mobile_data.index, dau_mobile_data.values, color='#6B6570')\n",
    "ax.plot(dau_mobile_data.index, trend_values, color='red', linestyle='--', label='Линия тренда')\n",
    "ax.set_xlabel('Дата')\n",
    "ax.set_ylabel('Число пользователей')\n",
    "ax.set_title('График числа уникальных пользователей в день')\n",
    "plt.xticks(rotation=90)\n",
    "ax.legend()\n",
    "plt.show()\n",
    "\n"
   ]
  },
  {
   "cell_type": "markdown",
   "id": "1271f7681965a900",
   "metadata": {},
   "source": [
    "Линия тренда указывает на рост числа уникальных пользователей на протяжении всего исследуемого периода. Видимо каналы привлечения клиентов работают, рекомендация - поддерживать рекламу в каналах привлечения."
   ]
  },
  {
   "cell_type": "markdown",
   "id": "acb1a92d115fa0f1",
   "metadata": {},
   "source": [
    "####  Число уникальный пользователей в неделю - WAU ####"
   ]
  },
  {
   "cell_type": "code",
   "execution_count": null,
   "id": "aefa8f41473cc0dd",
   "metadata": {
    "ExecuteTime": {
     "end_time": "2023-11-16T14:54:35.265254Z",
     "start_time": "2023-11-16T14:54:34.329035Z"
    }
   },
   "outputs": [],
   "source": [
    "\n",
    "\n",
    "mobile_data['date'] = mobile_data['event_time'].dt.date\n",
    "mobile_data['session_on_week'] = mobile_data['date'].apply(lambda x: x.isocalendar()[1])\n",
    "\n",
    "wau = mobile_data.groupby('session_on_week').agg({'user_id': 'nunique'}).reset_index()\n",
    "\n",
    "fig, ax = plt.subplots(figsize=(10, 4))\n",
    "sns.barplot(data=wau, x='session_on_week', y='user_id', color='#6B6D76')\n",
    "\n",
    "\n",
    "plt.xlabel('Неделя')\n",
    "plt.ylabel('Количество уникальных пользователей')\n",
    "plt.title('Количество уникальных пользователей приложения в неделю')\n",
    "\n",
    "plt.show()"
   ]
  },
  {
   "cell_type": "markdown",
   "id": "fe08cb9ccd082fb1",
   "metadata": {},
   "source": [
    "Наблюдаем рост числа уникальных пользователей с первой по третью неделю, далее на четвертой неделе наблюдается снижение уникальных пользователей. \n",
    "Рекомендация - Проверить, что изменилось в приложении на последней недели исследования. "
   ]
  },
  {
   "cell_type": "markdown",
   "id": "b42ebaffb011426b",
   "metadata": {},
   "source": [
    "####  Коэффициент удержания пользователей ####"
   ]
  },
  {
   "cell_type": "code",
   "execution_count": null,
   "id": "3eedb0b5bdd4b682",
   "metadata": {
    "ExecuteTime": {
     "end_time": "2023-11-16T14:54:39.393354Z",
     "start_time": "2023-11-16T14:54:37.856670Z"
    }
   },
   "outputs": [],
   "source": [
    "\n",
    "# дата начала первого сеанса для каждого пользователя\n",
    "mobile_data['start_date'] = mobile_data.groupby('user_id')['event_time'].transform('min')\n",
    "df = mobile_data[['user_id','event_datetime','start_date']]\n",
    "df['dt'] = pd.to_datetime(df['start_date']).dt.date #дата первого посещения\n",
    "\n",
    "# Рассчитатем лайфтайм\n",
    "df['lifetime'] = (df['event_datetime'] - df['start_date']).dt.days\n",
    "\n",
    "df.head()"
   ]
  },
  {
   "cell_type": "code",
   "execution_count": null,
   "id": "574eaa84",
   "metadata": {},
   "outputs": [],
   "source": [
    "# задаём момент и горизонт анализа данных\n",
    "moment = datetime(2019, 11, 3).date()\n",
    "horizon_days = 14\n",
    "\n",
    "# рассчитаем максимально возможную дату привлечения пользователя\n",
    "maximum_date = moment - timedelta(days = horizon_days - 1)\n",
    "\n",
    "# исключаем пользователей, пришедших после максимальной даты привлечения\n",
    "df = df.query('dt <= @maximum_date')"
   ]
  },
  {
   "cell_type": "code",
   "execution_count": null,
   "id": "6ce795bb",
   "metadata": {},
   "outputs": [],
   "source": [
    "# создаем сводную для расчета retention\n",
    "retention = df.pivot_table(index='dt', columns='lifetime', values='user_id', aggfunc='nunique')\n",
    "# вычисляем размеры когорт\n",
    "cohortes = (df.groupby('dt').agg({'user_id': 'nunique'}).rename(columns={'user_id': 'cohort_size'}))\n",
    "# объединяем размеры когорт и таблицу удержания\n",
    "retention = cohortes.merge(retention, on='dt', how='left').fillna(0)\n",
    "# рассчитываем % удержания по когортам: \n",
    "retention = retention.div(retention['cohort_size'], axis=0)\n",
    "# исключаем все лайфтаймы, превышающие горизонт анализа\n",
    "retention = retention[['cohort_size'] + list(range(horizon_days))]\n",
    "# восстанавливаем столбец с размерами когорт\n",
    "retention['cohort_size'] = cohortes"
   ]
  },
  {
   "cell_type": "code",
   "execution_count": null,
   "id": "c4afcf28",
   "metadata": {},
   "outputs": [],
   "source": [
    "# построим хитмэп\n",
    "plt.figure(figsize = (15, 6)) \n",
    "sns.heatmap(retention.drop(columns = ['cohort_size',0]), # удаляем размер когорт и 0 лайфтайм, потому что там 100%\n",
    "            annot = True,  \n",
    "            fmt = '.2%'  \n",
    "           )\n",
    "plt.title('Тепловая карта удержания')  \n",
    "plt.show()"
   ]
  },
  {
   "cell_type": "markdown",
   "id": "07e027f8",
   "metadata": {},
   "source": [
    "Судя по тепловой карте % удержания в разных когортах разный, неравномерный. Построим линейный график удержания. "
   ]
  },
  {
   "cell_type": "code",
   "execution_count": null,
   "id": "0627fd7e",
   "metadata": {},
   "outputs": [],
   "source": [
    "# Построим кривые удержания:\n",
    "report = retention.drop(columns = ['cohort_size', 0])\n",
    "\n",
    "report.T.plot(\n",
    "    grid= True,  \n",
    "    xticks=list(report.columns.values),  # отметки на оси X — названия колонок\n",
    "    figsize=(15, 5),  # размер графика\n",
    ")\n",
    "plt.xlabel('Лайфтайм')  # название оси X\n",
    "plt.title('Кривые удержания по дням привлечения')  # название графика\n",
    "plt.show()"
   ]
  },
  {
   "cell_type": "markdown",
   "id": "d544730e",
   "metadata": {},
   "source": [
    "Общая тенденция к снижению прослеживается, к 14 дню лайфтайма графики находятся в диапазоне от 0 до 7%. Посмотрим теперь удержание в динамике:"
   ]
  },
  {
   "cell_type": "code",
   "execution_count": null,
   "id": "1901207b",
   "metadata": {},
   "outputs": [],
   "source": [
    "report_dinamic = retention.drop(columns=['cohort_size', 0])\n",
    "report_dinamic.plot(grid=True, figsize=(15, 5))\n",
    "plt.xlabel('Дата привлечения')\n",
    "plt.title('Динамика удержания пользователей')\n",
    "plt.show()"
   ]
  },
  {
   "cell_type": "markdown",
   "id": "1f02af1a",
   "metadata": {},
   "source": [
    "Очень шумно, отфильтруем данные по 2 (потому что первый день = 100%), 7 и 14 дню лайфтайма: "
   ]
  },
  {
   "cell_type": "code",
   "execution_count": null,
   "id": "5c9f6551",
   "metadata": {},
   "outputs": [],
   "source": [
    "report_dinamic = retention[[1,6,13]]\n",
    "report_dinamic.plot(grid=True, figsize=(15, 5))\n",
    "plt.xlabel('Дата привлечения')\n",
    "plt.title('Динамика удержания пользователей')\n",
    "plt.show()"
   ]
  },
  {
   "cell_type": "markdown",
   "id": "b869cd43",
   "metadata": {},
   "source": [
    "После 17 октября наблюдаем снижение уровня удержания в когортах: графики 2, 7 и 14 дня демонтрируют снижение."
   ]
  },
  {
   "cell_type": "code",
   "execution_count": null,
   "id": "17b75e87",
   "metadata": {},
   "outputs": [],
   "source": [
    "# Построим усредненную кривую удержания, начиная со 2-го дня лайфтайма:\n",
    "report_mean = retention.drop(columns = ['cohort_size',0])\n",
    "report_mean = report_mean.mean()\n",
    "report_mean.T.plot(\n",
    "    grid= True,  \n",
    "    xticks=list(report.columns.values),  # отметки на оси X — названия колонок\n",
    "    figsize=(15, 5),  # размер графика\n",
    ")\n",
    "plt.xlabel('Лайфтайм')  # название оси X\n",
    "plt.title('Усредненная кривая удержания')  # название графика\n",
    "plt.show()"
   ]
  },
  {
   "cell_type": "markdown",
   "id": "dcb3f769",
   "metadata": {},
   "source": [
    "В среднем удержание не равномерно, резко падает со 100% до 12% на второй день, далее наблюдаем плато с 4 по 7 день, и стабилизацию удержания на уровне 2-4% с 9-го дня. "
   ]
  },
  {
   "cell_type": "markdown",
   "id": "c593b0d7be062568",
   "metadata": {},
   "source": [
    " ##  Определение сессий ##"
   ]
  },
  {
   "cell_type": "code",
   "execution_count": null,
   "id": "df46bd80188e2c6f",
   "metadata": {
    "ExecuteTime": {
     "end_time": "2023-11-16T14:54:42.897661Z",
     "start_time": "2023-11-16T14:54:41.881129Z"
    }
   },
   "outputs": [],
   "source": [
    "# cортируем таблицу\n",
    "mobile_data = mobile_data.sort_values(['user_id','event_time'])"
   ]
  },
  {
   "cell_type": "code",
   "execution_count": null,
   "id": "a8d7366df4206725",
   "metadata": {
    "ExecuteTime": {
     "end_time": "2023-11-16T14:54:43.368536Z",
     "start_time": "2023-11-16T14:54:43.046754Z"
    }
   },
   "outputs": [],
   "source": [
    "# устанавливаем Timedelta окончания сеанса использования приложения на уровне 30 мин бездействия. \n",
    "mobile_data['event_time'] = pd.to_datetime(mobile_data['event_time'])\n",
    "g = (mobile_data.groupby('user_id')['event_time'].diff() > pd.Timedelta('30Min')).cumsum()\n",
    "\n",
    "# записываем id сессий в столбец session_id\n",
    "mobile_data['session_id'] = mobile_data.groupby(['user_id', g], sort=False).ngroup() + 1\n"
   ]
  },
  {
   "cell_type": "markdown",
   "id": "e1be8e77",
   "metadata": {},
   "source": [
    "###  Подготовка даных для определения популярных сценариев"
   ]
  },
  {
   "cell_type": "code",
   "execution_count": null,
   "id": "942e6c79",
   "metadata": {},
   "outputs": [],
   "source": [
    "session_table = []\n",
    "grouped_data = mobile_data.sort_values(by=['user_id', 'event_time']).groupby(['user_id', 'session_id'])\n",
    "\n",
    "for (elem, el), group in grouped_data:\n",
    "    event_in_session = group['event_name'].drop_duplicates().tolist()\n",
    "    session_table.append([elem, el, event_in_session])\n",
    "new_data = pd.DataFrame(session_table, columns=['user_id', 'session_id', 'event_in_session'])\n",
    "session_grouped_data = new_data.groupby(new_data['event_in_session'].apply(tuple)).agg({\n",
    "    'session_id': ['count', 'unique'],\n",
    "    'user_id': ['count', 'unique']\n",
    "})\n",
    "session_grouped_data.columns = ['session_count', 'session_id', 'user_count', 'user_id'];\n",
    "session_grouped_data = session_grouped_data.reset_index();\n",
    "# оставляем только сессии c больше чем с одним действием и с целевым действием.\n",
    "session_show_contacts = session_grouped_data[\n",
    "    (session_grouped_data['event_in_session'].apply(lambda x: 'show_contacts' in x)) &\n",
    "    (session_grouped_data['event_in_session'].apply(lambda x: len(x) != 1))]\n",
    " # выясняем id сессий в которых есть show_contacts\n",
    "session_id_show_contacts = session_show_contacts['session_id'].tolist()\n",
    "session_id_show_contacts = np.concatenate(session_id_show_contacts).tolist()"
   ]
  },
  {
   "cell_type": "markdown",
   "id": "4bd522f7",
   "metadata": {},
   "source": [
    "### Диаграмма Сэнки ###"
   ]
  },
  {
   "cell_type": "markdown",
   "id": "e8a338f5",
   "metadata": {},
   "source": [
    "Диаграмма подготовлена по примеру и с использованием кода из рекомендованного источника"
   ]
  },
  {
   "cell_type": "code",
   "execution_count": null,
   "id": "332c3d4d",
   "metadata": {},
   "outputs": [],
   "source": [
    "mobile_data = mobile_data.sort_values(by=['session_id', 'event_time'])"
   ]
  },
  {
   "cell_type": "code",
   "execution_count": null,
   "id": "57e223d1",
   "metadata": {},
   "outputs": [],
   "source": [
    "\n",
    "table = mobile_data[['user_id', 'event_datetime', 'event_name', 'session_id']]\n",
    "# далее удаляем дубликаты\n",
    "table = table.drop_duplicates(subset=['session_id', 'event_name'])\n",
    "# далее отбираем сессии с показом контактов\n",
    "table = table[table['session_id'].isin(session_id_show_contacts)]\n"
   ]
  },
  {
   "cell_type": "code",
   "execution_count": null,
   "id": "250e3b51",
   "metadata": {},
   "outputs": [],
   "source": [
    "def add_features(df):\n",
    "    \n",
    "    \"\"\"Функция генерации новых столбцов для исходной таблицы\n",
    "\n",
    "    \"\"\"\n",
    "    \n",
    "    # сортируем по id и времени\n",
    "    sorted_df = table.sort_values(by=['session_id', 'event_datetime']).copy()\n",
    "    # добавляем шаги событий\n",
    "    sorted_df['step'] = sorted_df.groupby('session_id').cumcount() + 1\n",
    "    \n",
    "    # добавляем узлы-источники и целевые узлы\n",
    "    # узлы-источники - это сами события\n",
    "    sorted_df['source'] = sorted_df['event_name']\n",
    "    # добавляем целевые узлы\n",
    "    sorted_df['target'] = sorted_df.groupby('session_id')['source'].shift(-1)\n",
    "    \n",
    "    # возврат таблицы без имени событий\n",
    "    return sorted_df#.drop(['event_name'], axis=1)\n",
    "\n",
    "table = add_features(table)"
   ]
  },
  {
   "cell_type": "code",
   "execution_count": null,
   "id": "6f999cc7",
   "metadata": {},
   "outputs": [],
   "source": [
    "def get_source_index(df):\n",
    "    \n",
    "    \"\"\"Функция генерации индексов source\n",
    "\n",
    "    \"\"\"   \n",
    "    res_dict = {}\n",
    "    \n",
    "    count = 0\n",
    "    # получаем индексы источников\n",
    "    for no, step in enumerate(df['step'].unique().tolist()):\n",
    "        # получаем уникальные наименования для шага\n",
    "        res_dict[no+1] = {}\n",
    "        res_dict[no+1]['sources'] = df[df['step'] == step]['source'].unique().tolist()\n",
    "        res_dict[no+1]['sources_index'] = []\n",
    "        for i in range(len(res_dict[no+1]['sources'])):\n",
    "            res_dict[no+1]['sources_index'].append(count)\n",
    "            count += 1\n",
    "            \n",
    "    # соединим списки\n",
    "    for key in res_dict:\n",
    "        res_dict[key]['sources_dict'] = {}\n",
    "        for name, no in zip(res_dict[key]['sources'], res_dict[key]['sources_index']):\n",
    "            res_dict[key]['sources_dict'][name] = no\n",
    "    return res_dict"
   ]
  },
  {
   "cell_type": "code",
   "execution_count": null,
   "id": "07f70700",
   "metadata": {},
   "outputs": [],
   "source": [
    "test_df = table.groupby('session_id')['event_name'].nunique()\n",
    "\n",
    "# Визуализируем распределение уникальных событий в разрезе сессий\n",
    "plt.hist(test_df, bins='auto')\n",
    "plt.xlabel('События на сессию')\n",
    "plt.ylabel('Число событий')\n",
    "plt.title('Число уникальных событий в разрезе сессий')\n",
    "plt.show()"
   ]
  },
  {
   "cell_type": "markdown",
   "id": "884ef03d",
   "metadata": {},
   "source": [
    "Видим, что максимальное число событий на сессию - 6. Но по распределению числа событий на графике популярным можно назвать сценарии до 4 шагов. Далее по диаграмме увидим популярные сессии и максимальное число шагов в них."
   ]
  },
  {
   "cell_type": "code",
   "execution_count": null,
   "id": "c2a50ee3",
   "metadata": {},
   "outputs": [],
   "source": [
    "df_comp = table[table['step'] <= 4].copy().reset_index(drop=True)"
   ]
  },
  {
   "cell_type": "code",
   "execution_count": null,
   "id": "ee7e46ec",
   "metadata": {},
   "outputs": [],
   "source": [
    "source_indexes = get_source_index(df_comp)"
   ]
  },
  {
   "cell_type": "code",
   "execution_count": null,
   "id": "5dd20bee",
   "metadata": {},
   "outputs": [],
   "source": [
    "def show_example(step, source_indexes=source_indexes):\n",
    "    \n",
    "    \"\"\"Функция для вывода данных для конкретного шага будущей диаграммы\n",
    "\n",
    "    \"\"\"\n",
    "    \n",
    "    print(f'Пример подготовленных данных для шага {step}\\n')\n",
    "    for key in source_indexes[step]:\n",
    "        print(f'{key}\\n', source_indexes[step][key], '\\n')"
   ]
  },
  {
   "cell_type": "code",
   "execution_count": null,
   "id": "cb7d90b3",
   "metadata": {},
   "outputs": [],
   "source": [
    "\n",
    "def colors_for_sources(mode):\n",
    "    \n",
    "    \"\"\"Генерация цветов rgba\n",
    "\n",
    "    \"\"\"\n",
    "    # словарь, в который сложим цвета в соответствии с индексом\n",
    "    colors_dict = {}\n",
    "    \n",
    "    if mode == 'random':\n",
    "        for label in df_comp['source'].unique():\n",
    "            r, g, b = np.random.randint(255, size=3)            \n",
    "            colors_dict[label] = f'rgba({r}, {g}, {b}, 1)'\n",
    "            \n",
    "    elif mode == 'custom':\n",
    "        colors = requests\\\n",
    "        .get('https://raw.githubusercontent.com/rusantsovsv/senkey_tutorial/main/json/colors_senkey.json').json()\n",
    "        for no, label in enumerate(df_comp['source'].unique()):\n",
    "            colors_dict[label] = colors['custom_colors'][no]\n",
    "            \n",
    "    return colors_dict"
   ]
  },
  {
   "cell_type": "code",
   "execution_count": null,
   "id": "5aac7a15",
   "metadata": {},
   "outputs": [],
   "source": [
    "colors_dict = colors_for_sources(mode='custom')"
   ]
  },
  {
   "cell_type": "code",
   "execution_count": null,
   "id": "c1ebd81d",
   "metadata": {},
   "outputs": [],
   "source": [
    "# пересчитаем количестов юзеров в процентах от входа\n",
    "def percent_users(sources, targets, values):\n",
    "    \n",
    "    \"\"\"\n",
    "    Расчет уникальных id в процентах (для вывода в hover text каждого узла)\n",
    "\n",
    "    \"\"\"\n",
    "    \n",
    "    # объединим источники и метки и найдем пары\n",
    "    zip_lists = list(zip(sources, targets, values))\n",
    "    \n",
    "    new_list = []\n",
    "    \n",
    "    # подготовим список словарь с общим объемом трафика в узлах\n",
    "    unique_dict = {}\n",
    "    \n",
    "    # проходим по каждому узлу\n",
    "    for source, target, value in zip_lists:\n",
    "        if source not in unique_dict:\n",
    "            # находим все источники и считаем общий трафик\n",
    "            unique_dict[source] = 0\n",
    "            for sr, tg, vl in zip_lists:\n",
    "                if sr == source:\n",
    "                    unique_dict[source] += vl\n",
    "                    \n",
    "    # считаем проценты\n",
    "    for source, target, value in zip_lists:\n",
    "        new_list.append(round(100 * value / unique_dict[source], 1))\n",
    "    \n",
    "    return new_list"
   ]
  },
  {
   "cell_type": "code",
   "execution_count": null,
   "id": "8589805a",
   "metadata": {},
   "outputs": [],
   "source": [
    "def lists_for_plot(source_indexes=source_indexes, colors=colors_dict, frac=10):\n",
    "\n",
    "    \"\"\"\n",
    "    Создаем необходимые для отрисовки диаграммы переменные списков \n",
    "    \n",
    "    \"\"\"\n",
    "    \n",
    "    sources = []\n",
    "    targets = []\n",
    "    values = []\n",
    "    labels = []\n",
    "    link_color = []\n",
    "    link_text = []\n",
    "\n",
    "    # проходим по каждому шагу\n",
    "    for step in tqdm(sorted(df_comp['step'].unique()), desc='Шаг'):\n",
    "        if step + 1 not in source_indexes:\n",
    "            continue\n",
    "\n",
    "        # получаем индекс источника\n",
    "        temp_dict_source = source_indexes[step]['sources_dict']\n",
    "\n",
    "        # получаем индексы цели\n",
    "        temp_dict_target = source_indexes[step+1]['sources_dict']\n",
    "\n",
    "        # проходим по каждой возможной паре, считаем количество таких пар\n",
    "        for source, index_source in tqdm(temp_dict_source.items()):\n",
    "            for target, index_target in temp_dict_target.items():\n",
    "                # делаем срез данных и считаем количество id            \n",
    "                temp_df = df_comp[(df_comp['step'] == step)&(df_comp['source'] == source)\\\n",
    "                                  &(df_comp['target'] == target)]\n",
    "                value = len(temp_df)\n",
    "                # проверяем минимальный объем потока и добавляем нужные данные\n",
    "                if value > frac:\n",
    "                    sources.append(index_source)\n",
    "                    targets.append(index_target)\n",
    "                    values.append(value)\n",
    "                    # делаем поток прозрачным для лучшего отображения\n",
    "                    link_color.append(colors[source].replace(', 1)', ', 0.2)'))\n",
    "                    \n",
    "    labels = []\n",
    "    colors_labels = []\n",
    "    for key in source_indexes:\n",
    "        for name in source_indexes[key]['sources']:\n",
    "            labels.append(name)\n",
    "            colors_labels.append(colors[name])\n",
    "            \n",
    "    # посчитаем проценты всех потоков\n",
    "    perc_values = percent_users(sources, targets, values)\n",
    "    \n",
    "    # добавим значения процентов для howertext\n",
    "    link_text = []\n",
    "    for perc in perc_values:\n",
    "        link_text.append(f\"{perc}%\")\n",
    "    \n",
    "    # возвратим словарь с вложенными списками\n",
    "    return {'sources': sources, \n",
    "            'targets': targets, \n",
    "            'values': values, \n",
    "            'labels': labels, \n",
    "            'colors_labels': colors_labels, \n",
    "            'link_color': link_color, \n",
    "            'link_text': link_text}"
   ]
  },
  {
   "cell_type": "code",
   "execution_count": null,
   "id": "89563b2a",
   "metadata": {},
   "outputs": [],
   "source": [
    "data_for_plot = lists_for_plot();"
   ]
  },
  {
   "cell_type": "code",
   "execution_count": null,
   "id": "c91ec101",
   "metadata": {},
   "outputs": [],
   "source": [
    "def plot_senkey_diagram(data_dict=data_for_plot):    \n",
    "    \n",
    "    \"\"\"\n",
    "    Функция для генерации объекта диаграммы Сенкей \n",
    "    \n",
    "    \"\"\"\n",
    "    \n",
    "    fig = go.Figure(data=[go.Sankey(\n",
    "        domain = dict(\n",
    "          x =  [0,1],\n",
    "          y =  [0,1]\n",
    "        ),\n",
    "        orientation = \"h\",\n",
    "        valueformat = \".0f\",\n",
    "        node = dict(\n",
    "          pad = 50,\n",
    "          thickness = 15,\n",
    "          line = dict(color = \"black\", width = 0.1),\n",
    "          label = data_dict['labels'],\n",
    "          color = data_dict['colors_labels']\n",
    "        ),\n",
    "        link = dict(\n",
    "          source = data_dict['sources'], # indices correspond to labels, eg A1, A2, A1, B1, ...\n",
    "          target = data_dict['targets'],\n",
    "          value = data_dict['values'],\n",
    "          label = data_dict['link_text'],\n",
    "          color = data_dict['link_color']\n",
    "      ))])\n",
    "    fig.update_layout(title_text=\"Sankey Diagram\", font_size=10, width=900, height=520)\n",
    "    \n",
    "    # возвращаем объект диаграммы\n",
    "    return fig\n"
   ]
  },
  {
   "cell_type": "code",
   "execution_count": null,
   "id": "d1562283",
   "metadata": {},
   "outputs": [],
   "source": [
    "senkey_diagram = plot_senkey_diagram()"
   ]
  },
  {
   "cell_type": "code",
   "execution_count": null,
   "id": "58d50bb8",
   "metadata": {},
   "outputs": [],
   "source": [
    "senkey_diagram.show()"
   ]
  },
  {
   "cell_type": "markdown",
   "id": "2d0e19e89e073c6b",
   "metadata": {},
   "source": [
    "### Определение сессий с помощью таблицы"
   ]
  },
  {
   "cell_type": "code",
   "execution_count": null,
   "id": "a5f84659",
   "metadata": {},
   "outputs": [],
   "source": [
    "session_show_contacts['count_session'] = session_show_contacts\\\n",
    "                                .groupby('event_in_session')['session_id'].transform('count')\n",
    "session_show_contacts = session_show_contacts.sort_values('session_count', ascending=False)\n",
    "session_show_contacts.head(6)\n",
    "\n",
    "session_show_contacts[['event_in_session', 'session_count']].head(6)\n"
   ]
  },
  {
   "cell_type": "markdown",
   "id": "29ea289583919046",
   "metadata": {},
   "source": [
    "Можно выделить 6 самых популярных сценариев:\n",
    "1. tips_show - show_contacts  - 342 сессии  \n",
    "2. show_contacts - contacts_call  - 120 сессий  - это сценарий где 100 пользователей сразу приходят в целевое действие. Скорее всего они заходят в приложение сразу по ссылке на обьявление.\n",
    "3. map - tips_show - show_contacts - 94 сессии  \n",
    "4. photos_show - show_contacts - 85 сессий  \n",
    "5. show_contacts - tips_show - 74 сессии  \n",
    "6. search - show_contacts - contacts_call - 54 сессии  \n",
    "Визуализируем некоторые из них"
   ]
  },
  {
   "cell_type": "markdown",
   "id": "66eea08a0e130bff",
   "metadata": {},
   "source": [
    "### Воронка по сценарию \"tips_show -> show_contacts''"
   ]
  },
  {
   "cell_type": "code",
   "execution_count": null,
   "id": "a517173538ffffee",
   "metadata": {
    "ExecuteTime": {
     "end_time": "2023-11-16T14:55:21.328264Z",
     "start_time": "2023-11-16T14:55:21.001775Z"
    }
   },
   "outputs": [],
   "source": [
    "# считаем общее число уникальных пользователей на этапе tips_shows\n",
    "step_1 = mobile_data.query('event_name==\"tips_show\"')['user_id'].nunique()\n",
    "# список уникальных пользователей на этапе tips_show \n",
    "list_users = mobile_data.query('event_name==\"tips_show\"')['user_id'].unique().tolist()\n",
    "\n",
    "# считаем число уникальных пользователей на этапе show_contacts, из тех, что были на этапе tips_show\n",
    "step_2 = mobile_data.query('user_id in @list_users and event_name==\"show_contacts\"')['user_id'].nunique()\n"
   ]
  },
  {
   "cell_type": "code",
   "execution_count": null,
   "id": "be68cbcf",
   "metadata": {},
   "outputs": [],
   "source": [
    "# строим воронку \n",
    "funnel_labels = ['tips_show', 'show_contacts']\n",
    "funnel_counts = [step_1, step_2]\n",
    "\n",
    "fig = go.Figure(go.Funnel(\n",
    "    y = funnel_labels,\n",
    "    x = funnel_counts,\n",
    "    textinfo = \"value+percent initial\"))\n",
    "\n",
    "fig.update_layout(\n",
    "    title=\"Воронка по сценарию \\\"tips_show -> show_contacts\\\"\",\n",
    "    xaxis_title=\"Количество пользователей\",\n",
    "    yaxis_title=\"Этапы воронки\",\n",
    "    width = 800\n",
    ")\n",
    "\n",
    "fig.show()"
   ]
  },
  {
   "cell_type": "markdown",
   "id": "9f18738538213944",
   "metadata": {},
   "source": [
    "В первом по популярности сценарии пользователи кликают на показанное обьявление и только 18% пользователей доходят до целевого действия"
   ]
  },
  {
   "cell_type": "markdown",
   "id": "76ee0b260169b3be",
   "metadata": {},
   "source": [
    "### Воронка по сценарию \"map -> tips_show -> show_contacts\" ###"
   ]
  },
  {
   "cell_type": "code",
   "execution_count": null,
   "id": "6af0256226ef53d1",
   "metadata": {
    "ExecuteTime": {
     "end_time": "2023-11-16T14:55:23.371120Z",
     "start_time": "2023-11-16T14:55:22.805682Z"
    }
   },
   "outputs": [],
   "source": [
    "# считаем общее число уникальных пользователей на этапе map  \n",
    "step_1 = mobile_data.query('event_name==\"map\"')['user_id'].nunique()\n",
    "# список уникальных пользователей на этапе tips_show\n",
    "list_users_1 = mobile_data.query('event_name==\"map\"')['user_id'].unique().tolist()\n",
    "\n",
    "# считаем число уникальных пользователей на этапе tips_show, из тех, что были на этапе map\n",
    "step_2 = mobile_data.query('user_id in @list_users_1 and event_name==\"tips_show\"')['user_id'].nunique()\n",
    "list_users_2 = mobile_data.query('user_id in @list_users_1 and event_name==\"tips_show\"')['user_id']\\\n",
    "                          .unique()\\\n",
    "                          .tolist()\n",
    "\n",
    "# считаем число уникальных пользователей на этапе show_contacts, из тех, что были на этапе tips_show\n",
    "step_3 = mobile_data.query('user_id in @list_users_2 and event_name==\"show_contacts\"')['user_id'].nunique()\n"
   ]
  },
  {
   "cell_type": "code",
   "execution_count": null,
   "id": "dc4843bc",
   "metadata": {
    "scrolled": false
   },
   "outputs": [],
   "source": [
    "# строим воронку \n",
    "funnel_labels = ['map', 'tips_show', 'show_contacts']\n",
    "funnel_counts = [step_1, step_2, step_3]\n",
    "\n",
    "fig = go.Figure(go.Funnel(\n",
    "    y = funnel_labels,\n",
    "    x = funnel_counts,\n",
    "    textinfo = \"value+percent initial\"))\n",
    "\n",
    "fig.update_layout(\n",
    "    title=\"Воронка по сценарию \\\"map -> tips_show -> show_contacts\\\"\",\n",
    "    xaxis_title=\"Количество пользователей\",\n",
    "    yaxis_title=\"Этапы воронки\",\n",
    "    width = 800\n",
    ")\n",
    "\n",
    "fig.show()"
   ]
  },
  {
   "cell_type": "markdown",
   "id": "3f5e3794acbcc268",
   "metadata": {},
   "source": [
    "19% пользователей доходят до целевого действия в данном сценарии.Большая часть людей теряется в этом сценарии на этапе tips_show - show_contact. Возможно следует пересмотреть алгоритм рекомендации обьявлений, это может увеличить конверсию на данном этапе"
   ]
  },
  {
   "cell_type": "markdown",
   "id": "655b01d0b757f81e",
   "metadata": {},
   "source": [
    "### c) Воронка по сценарию \"photos_show -> show_contacts\""
   ]
  },
  {
   "cell_type": "code",
   "execution_count": null,
   "id": "df40cf53330f307",
   "metadata": {
    "ExecuteTime": {
     "end_time": "2023-11-16T14:55:27.745877Z",
     "start_time": "2023-11-16T14:55:26.825417Z"
    }
   },
   "outputs": [],
   "source": [
    "# считаем общее число уникальных пользователей на этапе photos_show\n",
    "step_1 = mobile_data.query('event_name==\"photos_show\"')['user_id'].nunique()\n",
    "# список уникальных пользователей на этапе tips_show\n",
    "list_users = mobile_data.query('event_name==\"photos_show\"')['user_id'].unique().tolist()\n",
    "\n",
    "# считаем число уникальных пользователей на этапе show_contacts, из тех, что были на этапе photos_show\n",
    "step_2 = mobile_data.query('user_id in @list_users and event_name==\"show_contacts\"')['user_id'].nunique()"
   ]
  },
  {
   "cell_type": "code",
   "execution_count": null,
   "id": "1efbfd07",
   "metadata": {
    "scrolled": false
   },
   "outputs": [],
   "source": [
    "# строим воронку \n",
    "funnel_labels = ['photos_show', 'show_contacts']\n",
    "funnel_counts = [step_1, step_2]\n",
    "\n",
    "fig = go.Figure(go.Funnel(\n",
    "    y = funnel_labels,\n",
    "    x = funnel_counts,\n",
    "    textinfo = \"value+percent initial\"))\n",
    "\n",
    "fig.update_layout(\n",
    "    title=\"Воронка по сценарию \\\"photos_show -> show_contacts\\\"\",\n",
    "    xaxis_title=\"Количество пользователей\",\n",
    "    yaxis_title=\"Этапы воронки\",\n",
    "    width = 800\n",
    ")\n",
    "\n",
    "fig.show()\n"
   ]
  },
  {
   "cell_type": "markdown",
   "id": "d13ed9a0",
   "metadata": {},
   "source": [
    "31% пользователей после просмотра фото доходит до целевого дейтсвий."
   ]
  },
  {
   "cell_type": "markdown",
   "id": "6253df93166c8840",
   "metadata": {},
   "source": [
    "### d) Воронка по сценарию \"search -> show_contacts -> contacts_call\" ###"
   ]
  },
  {
   "cell_type": "code",
   "execution_count": null,
   "id": "d866274504ac1e07",
   "metadata": {
    "ExecuteTime": {
     "end_time": "2023-11-16T14:55:30.037910Z",
     "start_time": "2023-11-16T14:55:29.156596Z"
    }
   },
   "outputs": [],
   "source": [
    "# считаем общее число уникальных пользователей на этапе search  \n",
    "step_1 = mobile_data.query('event_name==\"search\"')['user_id'].nunique()\n",
    "# список уникальных пользователей на этапе tips_show\n",
    "list_users_1 = mobile_data.query('event_name==\"search\"')['user_id'].unique().tolist()\n",
    "\n",
    "# считаем число уникальных пользователей на этапе show_contacts, из тех, что были на этапе search\n",
    "step_2 = mobile_data.query('user_id in @list_users_1 and event_name==\"show_contacts\"')['user_id'].nunique()\n",
    "list_users_2 = mobile_data.query('user_id in @list_users_1 and event_name==\"show_contacts\"')['user_id']\\\n",
    "                          .unique()\\\n",
    "                          .tolist()\n",
    "\n",
    "# считаем число уникальных пользователей на этапе contacts_call, из тех, что были на этапе show_contacts\n",
    "step_3 = mobile_data.query('user_id in @list_users_2 and event_name==\"contacts_call\"')['user_id'].nunique()\n"
   ]
  },
  {
   "cell_type": "code",
   "execution_count": null,
   "id": "6451ba49",
   "metadata": {},
   "outputs": [],
   "source": [
    "# строим воронку \n",
    "funnel_labels = ['map', 'tips_show', 'show_contacts']\n",
    "funnel_counts = [step_1, step_2, step_3]\n",
    "\n",
    "fig = go.Figure(go.Funnel(\n",
    "    y = funnel_labels,\n",
    "    x = funnel_counts,\n",
    "    textinfo = \"value+percent initial\"))\n",
    "\n",
    "fig.update_layout(\n",
    "    title=\"Воронка по сценарию \\\"search -> show_contacts -> contacts_call\\\"\",\n",
    "    xaxis_title=\"Количество пользователей\",\n",
    "    yaxis_title=\"Этапы воронки\",\n",
    "    width = 800\n",
    ")\n",
    "\n",
    "fig.show()"
   ]
  },
  {
   "cell_type": "markdown",
   "id": "b1fbed1d14aa356b",
   "metadata": {},
   "source": [
    "В данном сценарии 23% пользователе посте поиска переходят на просмотр контактов - целевое действие. Только 7% пользователей звонят по обьявлению. "
   ]
  },
  {
   "cell_type": "markdown",
   "id": "a5591ca3f90865b3",
   "metadata": {},
   "source": [
    "Самый популярный сценарий - tips_show -> show_contacts. Люди видят обьявление и переходят в контакты.\n",
    "Больший всего процент пользователей(31%) доходит до целевого действий по сценарию - photos_show -> show_contacts\n",
    "Пользователей переходят на просмотр контактов после показа фото. Рекомендация - стоит ввести требования к фотографии, так как качетсво фото влияет на достижение пользователем целевого действия. \n",
    "\n",
    "Боьше всего людей теряется теряется на этапе tips_show в воронке map -> tips_show -> show_contacts. Возможно следует пересмотреть алгоритм рекомендации обьявлений, это может увеличить конверсию на данном этапе"
   ]
  },
  {
   "cell_type": "markdown",
   "id": "82953276a6e47fe0",
   "metadata": {},
   "source": [
    "## Оценить, какие действия чаще совершают те пользователи, которые просматривают контакты. ##"
   ]
  },
  {
   "cell_type": "markdown",
   "id": "c128635da5e75b0",
   "metadata": {},
   "source": [
    "Рассчитать относительную частоту событий в разрезе двух групп пользователей:\n",
    "○ группа пользователей, которые смотрели контакты contacts_show\n",
    "○ группа пользователей, которые не смотрели контакты contacts_show"
   ]
  },
  {
   "cell_type": "code",
   "execution_count": null,
   "id": "716fa05ec69c3d88",
   "metadata": {
    "ExecuteTime": {
     "end_time": "2023-11-16T14:55:31.435980Z",
     "start_time": "2023-11-16T14:55:31.249134Z"
    }
   },
   "outputs": [],
   "source": [
    "# пользователи, посмотревшие контакты\n",
    "list_show_contacts = mobile_data.query('event_name ==\"show_contacts\"')['user_id'].unique().tolist()\n",
    "show_contacts = mobile_data.query('user_id in @list_show_contacts')"
   ]
  },
  {
   "cell_type": "code",
   "execution_count": null,
   "id": "053de866",
   "metadata": {},
   "outputs": [],
   "source": [
    "# строим сводную таблицу по тем, кто посмотрел контакты\n",
    "# группируем по событиям, считаем количество сессий по событиям и количество уникальных сессий\n",
    "pivot_show_contacts = show_contacts.groupby('event_name')\\\n",
    "                                   .agg({'session_id':['count','nunique']})\\\n",
    "                                   .reset_index()\n",
    "pivot_show_contacts.columns = ['event_name','session_count', 'session_unique']\n",
    "\n",
    "# считаем среднее количество событий за сессию\n",
    "pivot_show_contacts['count_per_session'] = round\\\n",
    "                                (pivot_show_contacts['session_count']\\\n",
    "                                 /pivot_show_contacts['session_unique'],2)\n",
    "# считаем относительное количество событий по отношению к общему числу событий\n",
    "pivot_show_contacts['ratio_show'] = round(pivot_show_contacts['session_count']\\\n",
    "                                          /pivot_show_contacts['session_count']\\\n",
    "                                          .sum(),2)\n",
    "pivot_show_contacts.sort_values('ratio_show', ascending = False)"
   ]
  },
  {
   "cell_type": "code",
   "execution_count": null,
   "id": "3501ada1f446546e",
   "metadata": {
    "ExecuteTime": {
     "end_time": "2023-11-16T14:55:32.659235Z",
     "start_time": "2023-11-16T14:55:32.495410Z"
    }
   },
   "outputs": [],
   "source": [
    "# пользователи, не посмотревшие контакты\n",
    "list_non_show_contacts = mobile_data.query('user_id not in @list_show_contacts')['user_id'].unique().tolist()\n",
    "non_show_contacts = mobile_data.query('user_id in @list_non_show_contacts')"
   ]
  },
  {
   "cell_type": "code",
   "execution_count": null,
   "id": "c2dac8ca1bb9007a",
   "metadata": {
    "ExecuteTime": {
     "end_time": "2023-11-16T14:55:35.362221Z",
     "start_time": "2023-11-16T14:55:33.467825Z"
    }
   },
   "outputs": [],
   "source": [
    "# расчет таблицы аналогично предыдущей\n",
    "pivot_non_show_contacts = non_show_contacts.groupby('event_name')\\\n",
    "                                            .agg({'session_id':['count','nunique']})\\\n",
    "                                            .reset_index()\n",
    "pivot_non_show_contacts.columns = ['event_name','session_count', 'session_unique']\n",
    "pivot_non_show_contacts['count_per_session'] = round(pivot_non_show_contacts['session_count']\\\n",
    "                                                    / pivot_non_show_contacts['session_unique'],2)\n",
    "pivot_non_show_contacts['ratio_non_show'] = round(pivot_non_show_contacts['session_count']\\\n",
    "                                                  /pivot_non_show_contacts['session_count'].sum(),2)\n",
    "pivot_non_show_contacts.sort_values('ratio_non_show', ascending = False)"
   ]
  },
  {
   "cell_type": "code",
   "execution_count": null,
   "id": "42dda671",
   "metadata": {},
   "outputs": [],
   "source": [
    "# строим барплот для сравнения частоты событий по группам пользователей \n",
    "\n",
    "compare = pivot_show_contacts.merge(pivot_non_show_contacts, on = 'event_name', \\\n",
    "                                    how = 'left', suffixes=('_show','non_show'))\\\n",
    "                                    .sort_values('ratio_show')\n",
    "\n",
    "import plotly.express as px\n",
    "fig = px.bar(compare, y=\"event_name\", x=['ratio_show','ratio_non_show'], barmode = 'group', \n",
    "            title = 'Относительная частота событий', \n",
    "            labels={'event_name':'Событие', 'value':'Относительная частота'},\n",
    "            )\n",
    "fig.update_layout(legend_title_text='Пользователи')\n",
    "fig.show()"
   ]
  },
  {
   "cell_type": "markdown",
   "id": "5373b6842a92077a",
   "metadata": {},
   "source": [
    "\n",
    "На первом месте у обоих групп - переход по обьявлению. Далее действия различаются.\n",
    "  \n",
    "1. Первая группа - те, кто просматривал контакты. \n",
    "Самое частое действие (кроме открытия обьявления и просмотра контактов) - просмотр фото, поиск и открытие карточки\n",
    "\n",
    "2. Вторая группа - те, кто не просматривал контакты\n",
    "Самое частое действие(кроме открытия обьявления) - просмотр фото,открытие карточки объявления и поиск.\n",
    "\n",
    "Нет значимых различий в пользовательских сценариях групп тех юзеров, которые просматривают контакты и тех кто не просматривают. \n"
   ]
  },
  {
   "cell_type": "markdown",
   "id": "fb026b965966d6e6",
   "metadata": {},
   "source": [
    "## Проверка гипотез"
   ]
  },
  {
   "cell_type": "markdown",
   "id": "18ccfa1bf31e5b33",
   "metadata": {},
   "source": [
    "### Основная гипотеза ###"
   ]
  },
  {
   "cell_type": "markdown",
   "id": "3aabe90af421f94c",
   "metadata": {},
   "source": [
    "Одни пользователи совершают действия tips_show и tips_click, другие только tips_click.  Проверить гипотезу - Конверсия и просмотры контактов различается у этих групп.  \n",
    "\n",
    "Создаем две группы пользователей. Первая - которая совершает дейтсвие и tips_show и tips_click;\n",
    "Вторая группа - пользователи, которые совершают только tips_click  \n",
    "       \n",
    "- Нулевая гипотеза - Данные групп по конверсии и просмотру контактов не различаются\n",
    "- Альтернативная гипотеза - Есть различия в конверсии у двух выделенных групп"
   ]
  },
  {
   "cell_type": "code",
   "execution_count": null,
   "id": "ef5361b8",
   "metadata": {},
   "outputs": [],
   "source": [
    "# отберем пользователей, которые совершили tips_show:\n",
    "list_total_users = mobile_data.query('event_name==\"tips_show\"')['user_id'].unique().tolist()\n",
    "# датасет с такими пользователями\n",
    "total_users = mobile_data.query('user_id in @list_total_users')\n",
    "print('Всего пользователей, совершивших tips_show:', len(list_total_users))"
   ]
  },
  {
   "cell_type": "code",
   "execution_count": null,
   "id": "546ee526",
   "metadata": {},
   "outputs": [],
   "source": [
    "# Получим датасет с теми пользователями, кто совершил оба действия:\n",
    "# список пользователей, совершивших оба действия:\n",
    "list_users_tips_show_click = total_users.query('event_name==\"tips_click\"')['user_id'].unique().tolist()\n",
    "users_tips_show_click = total_users.query('user_id in @list_users_tips_show_click')\n",
    "print('Всего пользователей, совершивших (tips_show + tips_click):', users_tips_show_click['user_id'].nunique())"
   ]
  },
  {
   "cell_type": "code",
   "execution_count": null,
   "id": "24bb10e1",
   "metadata": {},
   "outputs": [],
   "source": [
    "# Получим датасет с теми пользователями, кто совершил только  tips_click:\n",
    "\n",
    "# формируем датасет, исключая список с теми пользователями, кто совершил оба действия:\n",
    "users_tips_show = total_users.query('user_id not in @list_users_tips_show_click')\n",
    "print('Всего пользователей, совершивших только tips_show:', users_tips_show['user_id'].nunique())"
   ]
  },
  {
   "cell_type": "markdown",
   "id": "1bdc1b8e",
   "metadata": {},
   "source": [
    "Получили два датасета, с неравным количеством пользователей. Что логично, далеко не все пользователи открывают все объявления, которые видят. "
   ]
  },
  {
   "cell_type": "code",
   "execution_count": null,
   "id": "b8c0deba",
   "metadata": {},
   "outputs": [],
   "source": [
    "''' Считаем conversion_rates по группам. Затем проверяем гипотезу z_тестом'''\n",
    "\n",
    "# количество уникальных пользователей на этапе show_contacts по группам\n",
    "successes_tips_show_click = users_tips_show_click[users_tips_show_click['event_name']==\"show_contacts\"]\\\n",
    "                                                                                ['user_id'].nunique()\n",
    "successes_tips_show = users_tips_show[users_tips_show['event_name']==\"show_contacts\"]['user_id']\\\n",
    "                                                                                        .nunique()\n",
    "\n",
    "# всего пользователей в группах\n",
    "totals_tips_show_click = users_tips_show_click['user_id'].nunique()\n",
    "totals_tips_show = users_tips_show['user_id'].nunique()\n",
    "\n",
    "# рассчитаем конверсии по группам: \n",
    "conversion_rate_tips_show_click = (successes_tips_show_click / totals_tips_show_click)*100\n",
    "conversion_rate_tips_show = (successes_tips_show /totals_tips_show)*100\n",
    "\n",
    "print(\"Conversion Rates:\")\n",
    "print('Конверсия в группе \"tips_show + tips_click\"', \"{:.2f}%\".format(conversion_rate_tips_show_click))\n",
    "print('Конверсия в группе \"tips_show\"', \"{:.2f}%\".format(conversion_rate_tips_show))\n",
    "    \n",
    "from statsmodels.stats.proportion import proportions_ztest\n",
    "\n",
    "# количество пользователей, совершивших целевое действие\n",
    "successes = [successes_tips_show_click, successes_tips_show]\n",
    "totals = [totals_tips_show_click, totals_tips_show]\n",
    "\n",
    "stat, p_value = proportions_ztest(successes, totals)\n",
    "\n",
    "alpha = 0.05\n",
    "print('p_value:',p_value)\n",
    "# Проверка гипотезы\n",
    "if p_value < alpha:\n",
    "    print(\"Отвергаем нулевую гипотезу. Конверсия в первой и второй группе различается.\")\n",
    "else:\n",
    "    print(\"Не получилось опровергнуть нулевую гипотезу.\\\n",
    "    Конверсия в первой и второй группе не имеет существенных различий.\")\n",
    "\n"
   ]
  },
  {
   "cell_type": "markdown",
   "id": "290643833645bb2a",
   "metadata": {},
   "source": [
    "Конверсия в группах 1 и 2  различается. Конверсия в группе, которая и смотрела обьявление и кликала на него почти в 2 раза выше групы, которая только видела обьявление.\n",
    "    "
   ]
  },
  {
   "cell_type": "markdown",
   "id": "a83fabd8a925b7c8",
   "metadata": {},
   "source": [
    "### 5.2. Дополнительная гипотеза ###"
   ]
  },
  {
   "cell_type": "markdown",
   "id": "6e0890eb0f579448",
   "metadata": {},
   "source": [
    "Проверяем, влияет ли источник привлечения клиентов на совершение ими целевого действия - show_contacts. Для проверки будем использовать 2 источника yandex и google  \n",
    "Нулевая гипотеза: разницы между конверсиями у выборок нет     \n",
    "Альтернативная гипотеза: разница между конверсиями выборок присутствует"
   ]
  },
  {
   "cell_type": "markdown",
   "id": "e3a0a7265b3fab9d",
   "metadata": {},
   "source": [
    "Выделяем три группы в зависимости от источника привлечения: yandex, goodle, other"
   ]
  },
  {
   "cell_type": "code",
   "execution_count": null,
   "id": "fab59a35520ef105",
   "metadata": {
    "ExecuteTime": {
     "end_time": "2023-11-16T14:55:42.777750Z",
     "start_time": "2023-11-16T14:55:42.633667Z"
    }
   },
   "outputs": [],
   "source": [
    "# обьединяем данные из таблиц mobile_sources и new_data\n",
    "source_mapping = mobile_sources.set_index('user_id')['source']\n",
    "mobile_data['source'] = mobile_data['user_id'].map(source_mapping)"
   ]
  },
  {
   "cell_type": "code",
   "execution_count": null,
   "id": "477fc365290cc4d7",
   "metadata": {
    "ExecuteTime": {
     "end_time": "2023-11-16T14:55:44.386299Z",
     "start_time": "2023-11-16T14:55:43.943537Z"
    }
   },
   "outputs": [],
   "source": [
    "''' Считаем conversion_rates по группам. Затем проверяем гипотезу z_тестом'''\n",
    "grouped_data_source = mobile_data.groupby('source')\n",
    "conversion_rates = {}\n",
    "\n",
    "for group, group_data in grouped_data_source:\n",
    "    total_users = group_data['user_id'].nunique()\n",
    "    target_action_users = group_data[group_data['event_name']=='show_contacts']['user_id'].nunique()\n",
    "\n",
    "    conversion_rate = (target_action_users / total_users) * 100\n",
    "\n",
    "    conversion_rates[group] = conversion_rate\n",
    "\n",
    "print(\"Conversion Rates:\")\n",
    "for group, rate in conversion_rates.items():\n",
    "    print(\"Group {}: {:.2f}%\".format(group, rate))\n",
    "    \n",
    "successes_source = [\n",
    "    mobile_data[(mobile_data['event_name'].apply(lambda actions: 'show_contacts' in actions))\\\n",
    "                & (mobile_data['source'] == 'yandex')]['user_id'].nunique(),\n",
    "    mobile_data[(mobile_data['event_name'].apply(lambda actions: 'show_contacts' in actions))\\\n",
    "                & (mobile_data['source'] == 'google')]['user_id'].nunique()                \n",
    "                    ]\n",
    "\n",
    "totals_source = [\n",
    "    mobile_data[mobile_data['source'] == 'yandex']['user_id'].nunique(),\n",
    "    mobile_data[mobile_data['source'] == 'google']['user_id'].nunique()\n",
    "                ]\n",
    "stat, p_value = proportions_ztest(successes_source, totals_source)\n",
    "\n",
    "alpha = 0.05\n",
    "print('p_value:', p_value)\n",
    "\n",
    "# Проверка гипотезы\n",
    "if p_value < alpha:\n",
    "    print(\"Отвергаем нулевую гипотезу. Конверсия у разных источников различается.\")\n",
    "else:\n",
    "    print(\"Не получилось опровергнуть нулевую гипотезу. Нет различия в конверсиях у источников привлечения.\")\n",
    "\n"
   ]
  },
  {
   "cell_type": "markdown",
   "id": "c7a8e8a68f788eae",
   "metadata": {},
   "source": [
    "После проведения проверки гипотезы мы приходим к выводу, что конверсия во всех источниках рекламы одинаковая. Следовательно, мы можем оптимизировать бюджет на рекламу, сделать акцент на более дешевом источнике.\n"
   ]
  },
  {
   "cell_type": "markdown",
   "id": "e10dffcd6116fc93",
   "metadata": {},
   "source": [
    "## Выводы ##\n",
    "\n"
   ]
  },
  {
   "cell_type": "markdown",
   "id": "2a60059a151f3160",
   "metadata": {},
   "source": [
    "В результате исследования датасетов приложения «Ненужные вещи» получили следущие выводы и рекомендации.Общий обзор пользовательских действий показал -   Число уникальных пользователей приложения растет на протяжении исследуемого периода. \n",
    "В разрезе по неделям фиксируем рост числа уникальных пользователей с первой по третью неделю, далее на четвертой неделе наблюдается снижение уникальных пользователей. В разрезе дней недели - активность пользователей снижается ближе к выходным и повышается в начале недели. Это можно учитывать при планировании рекламы в приложении. \n",
    "\n",
    "Анализ удержания. В среднем удержание не равномерно, резко падает со 100% до 12% на второй день, далее наблюдаем плато с 4 по 7 день, и стабилизацию удержания на уровне 2-4% с 9-го дня. \n",
    "\n",
    "**1. Ответ на вопросы заказчика** \n",
    "\n",
    "1.1. Проанализируйте связь целевого события —\n",
    "просмотра контактов — и других действий\n",
    "пользователей:  \n",
    "\n",
    "По результатам анализа сессии можно выделить 6 самых популярных сценариев пользователей: \n",
    "- tips_show - show_contacts - 342 сессии   \n",
    "- show_contacts - contacts_call - 120 сессий - это сценарий где 100 %   пользователей приходят в целевое действие. Скорее всего они заходят в приложение сразу по ссылке на объявление.   \n",
    "- map - tips_show - show_contacts - 94 сессии   \n",
    "- photos_show - show_contacts - 85 сессий   \n",
    "- show_contacts - tips_show - 74 сессии   \n",
    "- search - show_contacts - contacts_call - 54 сессии  \n",
    "\n",
    "Построены воронки. Самый популярный сценарий - tips_show -> show_contacts. Люди видят обьявление и переходят в контакты.\n",
    "Больший всего процент пользователей(31%) доходит до целевого действий по сценарию - photos_show -> show_contacts\n",
    "Пользователей переходят на просмотр контактов после показа фото. Рекомендация - стоит ввести требования к фотографии, так как качетсво фото влияет на достижение пользователем целевого действия. \n",
    "\n",
    "Боьше всего людей теряется теряется на этапе tips_show в воронке map -> tips_show -> show_contacts. Возможно следует пересмотреть алгоритм рекомендации обьявлений, это может увеличить конверсию на данном этапе \n",
    "*Рекомендация - Возможно следует пересмотреть алгоритм рекомендации обьявлений в картах, это может увеличить конверсию на данном этапе.\n",
    "\n",
    "1.2. Рассчитать относительную частоту событий в разрезе двух групп пользователей:\n",
    "--группа 1. пользователей, которые смотрели контакты contacts_show\n",
    "--группа 2. пользователей, которые не смотрели контакты contacts_show\n",
    "\n",
    "Исследование показало, что частота событий в обоих группа не сильно различается, кроме факта просмотра контактов. \n",
    "\n",
    "\n",
    "\n",
    "**2. Проверка  гипотез** \n",
    "Гипотеза 1: Одни пользователи совершают действия tips_show и tips_click, другие только tips_click.  Проверить гипотезу - Конверсия и просмотры контактов различается у этих групп.  \n",
    "\n",
    "Конверсия в группах 1 и 2 различается. Конверсия в группе, которая и смотрела обьявление и кликала на него почти в 2 раза выше групы, которая только видела обьявление. \n",
    "\n",
    "Гипотеза 2 (дополнительная): Проверяем, влияет ли источник привлечения клиентов на совершение ими целевого действия - show_contacts. Для проверки будем использовать 2 источника yаndeх и google\n",
    "Гипотеза - есть связь между целевым действием и источником привлечения.\n",
    "После проведения проверки гипотезы мы приходим к выводу, что конверсия во всех источниках рекламы одинаковая. Следовательно, рекомендуем оптимизировать бюджет на рекламу, сделать акцент на более дешевом источнике.\n"
   ]
  },
  {
   "cell_type": "code",
   "execution_count": null,
   "id": "d9d525af",
   "metadata": {},
   "outputs": [],
   "source": []
  }
 ],
 "metadata": {
  "ExecuteTimeLog": [
   {
    "duration": 1195,
    "start_time": "2023-11-17T06:04:43.465Z"
   },
   {
    "duration": 160,
    "start_time": "2023-11-17T06:04:44.662Z"
   },
   {
    "duration": 0,
    "start_time": "2023-11-17T06:04:44.825Z"
   },
   {
    "duration": 0,
    "start_time": "2023-11-17T06:04:44.826Z"
   },
   {
    "duration": 0,
    "start_time": "2023-11-17T06:04:44.830Z"
   },
   {
    "duration": 0,
    "start_time": "2023-11-17T06:04:44.831Z"
   },
   {
    "duration": 0,
    "start_time": "2023-11-17T06:04:44.832Z"
   },
   {
    "duration": 0,
    "start_time": "2023-11-17T06:04:44.833Z"
   },
   {
    "duration": 0,
    "start_time": "2023-11-17T06:04:44.834Z"
   },
   {
    "duration": 0,
    "start_time": "2023-11-17T06:04:44.836Z"
   },
   {
    "duration": 0,
    "start_time": "2023-11-17T06:04:44.837Z"
   },
   {
    "duration": 0,
    "start_time": "2023-11-17T06:04:44.838Z"
   },
   {
    "duration": 0,
    "start_time": "2023-11-17T06:04:44.839Z"
   },
   {
    "duration": 0,
    "start_time": "2023-11-17T06:04:44.840Z"
   },
   {
    "duration": 0,
    "start_time": "2023-11-17T06:04:44.841Z"
   },
   {
    "duration": 0,
    "start_time": "2023-11-17T06:04:44.842Z"
   },
   {
    "duration": 0,
    "start_time": "2023-11-17T06:04:44.843Z"
   },
   {
    "duration": 0,
    "start_time": "2023-11-17T06:04:44.844Z"
   },
   {
    "duration": 0,
    "start_time": "2023-11-17T06:04:44.845Z"
   },
   {
    "duration": 0,
    "start_time": "2023-11-17T06:04:44.846Z"
   },
   {
    "duration": 0,
    "start_time": "2023-11-17T06:04:44.847Z"
   },
   {
    "duration": 0,
    "start_time": "2023-11-17T06:04:44.848Z"
   },
   {
    "duration": 0,
    "start_time": "2023-11-17T06:04:44.849Z"
   },
   {
    "duration": 0,
    "start_time": "2023-11-17T06:04:44.850Z"
   },
   {
    "duration": 0,
    "start_time": "2023-11-17T06:04:44.851Z"
   },
   {
    "duration": 0,
    "start_time": "2023-11-17T06:04:44.852Z"
   },
   {
    "duration": 0,
    "start_time": "2023-11-17T06:04:44.853Z"
   },
   {
    "duration": 0,
    "start_time": "2023-11-17T06:04:44.854Z"
   },
   {
    "duration": 0,
    "start_time": "2023-11-17T06:04:44.855Z"
   },
   {
    "duration": 0,
    "start_time": "2023-11-17T06:04:44.856Z"
   },
   {
    "duration": 0,
    "start_time": "2023-11-17T06:04:44.857Z"
   },
   {
    "duration": 0,
    "start_time": "2023-11-17T06:04:44.858Z"
   },
   {
    "duration": 0,
    "start_time": "2023-11-17T06:04:44.859Z"
   },
   {
    "duration": 0,
    "start_time": "2023-11-17T06:04:44.859Z"
   },
   {
    "duration": 0,
    "start_time": "2023-11-17T06:04:44.860Z"
   },
   {
    "duration": 0,
    "start_time": "2023-11-17T06:04:44.862Z"
   },
   {
    "duration": 1,
    "start_time": "2023-11-17T06:04:44.862Z"
   },
   {
    "duration": 1,
    "start_time": "2023-11-17T06:04:44.863Z"
   },
   {
    "duration": 0,
    "start_time": "2023-11-17T06:04:44.865Z"
   },
   {
    "duration": 0,
    "start_time": "2023-11-17T06:04:44.866Z"
   },
   {
    "duration": 0,
    "start_time": "2023-11-17T06:04:44.867Z"
   },
   {
    "duration": 0,
    "start_time": "2023-11-17T06:04:44.868Z"
   },
   {
    "duration": 0,
    "start_time": "2023-11-17T06:04:44.869Z"
   },
   {
    "duration": 0,
    "start_time": "2023-11-17T06:04:44.932Z"
   },
   {
    "duration": 0,
    "start_time": "2023-11-17T06:04:44.934Z"
   },
   {
    "duration": 0,
    "start_time": "2023-11-17T06:04:44.935Z"
   },
   {
    "duration": 0,
    "start_time": "2023-11-17T06:04:44.936Z"
   },
   {
    "duration": 0,
    "start_time": "2023-11-17T06:04:44.937Z"
   },
   {
    "duration": 0,
    "start_time": "2023-11-17T06:04:44.939Z"
   },
   {
    "duration": 0,
    "start_time": "2023-11-17T06:04:44.940Z"
   },
   {
    "duration": 0,
    "start_time": "2023-11-17T06:04:44.941Z"
   },
   {
    "duration": 0,
    "start_time": "2023-11-17T06:04:44.942Z"
   },
   {
    "duration": 0,
    "start_time": "2023-11-17T06:04:44.943Z"
   },
   {
    "duration": 0,
    "start_time": "2023-11-17T06:04:44.944Z"
   },
   {
    "duration": 0,
    "start_time": "2023-11-17T06:04:44.946Z"
   },
   {
    "duration": 0,
    "start_time": "2023-11-17T06:04:44.947Z"
   },
   {
    "duration": 0,
    "start_time": "2023-11-17T06:04:44.948Z"
   },
   {
    "duration": 0,
    "start_time": "2023-11-17T06:04:44.949Z"
   },
   {
    "duration": 1368,
    "start_time": "2023-11-17T09:33:14.648Z"
   },
   {
    "duration": 49,
    "start_time": "2023-11-17T09:33:21.672Z"
   },
   {
    "duration": 347,
    "start_time": "2023-11-17T09:33:24.626Z"
   },
   {
    "duration": 20,
    "start_time": "2023-11-17T09:33:25.742Z"
   },
   {
    "duration": 10,
    "start_time": "2023-11-17T09:33:27.196Z"
   },
   {
    "duration": 20,
    "start_time": "2023-11-17T09:33:27.778Z"
   },
   {
    "duration": 3,
    "start_time": "2023-11-17T09:33:28.744Z"
   },
   {
    "duration": 9,
    "start_time": "2023-11-17T09:33:29.730Z"
   },
   {
    "duration": 9,
    "start_time": "2023-11-17T09:33:30.224Z"
   },
   {
    "duration": 1595,
    "start_time": "2023-11-17T09:33:31.235Z"
   },
   {
    "duration": 1413,
    "start_time": "2023-11-17T09:34:01.303Z"
   },
   {
    "duration": 24,
    "start_time": "2023-11-17T09:34:35.511Z"
   },
   {
    "duration": 6,
    "start_time": "2023-11-17T09:34:41.422Z"
   },
   {
    "duration": 22,
    "start_time": "2023-11-17T09:34:42.735Z"
   },
   {
    "duration": 7,
    "start_time": "2023-11-17T09:34:43.892Z"
   },
   {
    "duration": 9257,
    "start_time": "2023-11-17T09:34:46.885Z"
   },
   {
    "duration": 7,
    "start_time": "2023-11-17T09:34:56.144Z"
   },
   {
    "duration": 47,
    "start_time": "2023-11-17T09:34:56.156Z"
   },
   {
    "duration": 35,
    "start_time": "2023-11-17T09:34:56.205Z"
   },
   {
    "duration": 40,
    "start_time": "2023-11-17T09:34:59.499Z"
   },
   {
    "duration": 13,
    "start_time": "2023-11-17T09:35:00.072Z"
   },
   {
    "duration": 18,
    "start_time": "2023-11-17T09:35:01.277Z"
   },
   {
    "duration": 114,
    "start_time": "2023-11-17T09:35:01.717Z"
   },
   {
    "duration": 4,
    "start_time": "2023-11-17T09:35:03.500Z"
   },
   {
    "duration": 59,
    "start_time": "2023-11-17T09:35:03.853Z"
   },
   {
    "duration": 897,
    "start_time": "2023-11-17T09:35:06.429Z"
   },
   {
    "duration": 173,
    "start_time": "2023-11-17T09:35:07.993Z"
   },
   {
    "duration": 257,
    "start_time": "2023-11-17T09:35:08.914Z"
   },
   {
    "duration": 185,
    "start_time": "2023-11-17T09:35:09.987Z"
   },
   {
    "duration": 55,
    "start_time": "2023-11-17T09:35:11.465Z"
   },
   {
    "duration": 52,
    "start_time": "2023-11-17T09:35:13.110Z"
   },
   {
    "duration": 884,
    "start_time": "2023-11-17T09:35:13.656Z"
   },
   {
    "duration": 111,
    "start_time": "2023-11-17T09:35:19.836Z"
   },
   {
    "duration": 35,
    "start_time": "2023-11-17T09:35:20.616Z"
   },
   {
    "duration": 7,
    "start_time": "2023-11-17T09:35:21.458Z"
   },
   {
    "duration": 26,
    "start_time": "2023-11-17T09:35:23.708Z"
   },
   {
    "duration": 273,
    "start_time": "2023-11-17T09:35:24.292Z"
   },
   {
    "duration": 4,
    "start_time": "2023-11-17T09:35:25.192Z"
   },
   {
    "duration": 3,
    "start_time": "2023-11-17T09:35:25.920Z"
   },
   {
    "duration": 4,
    "start_time": "2023-11-17T09:35:26.740Z"
   },
   {
    "duration": 161,
    "start_time": "2023-11-17T09:35:27.405Z"
   },
   {
    "duration": 5,
    "start_time": "2023-11-17T09:35:28.116Z"
   },
   {
    "duration": 8,
    "start_time": "2023-11-17T09:35:28.803Z"
   },
   {
    "duration": 902,
    "start_time": "2023-11-17T09:35:29.560Z"
   },
   {
    "duration": 5,
    "start_time": "2023-11-17T09:35:34.423Z"
   },
   {
    "duration": 104,
    "start_time": "2023-11-17T09:35:35.576Z"
   },
   {
    "duration": 151,
    "start_time": "2023-11-17T09:35:37.042Z"
   },
   {
    "duration": 3612,
    "start_time": "2023-11-17T09:35:43.916Z"
   },
   {
    "duration": 32,
    "start_time": "2023-11-17T09:35:47.530Z"
   },
   {
    "duration": 19,
    "start_time": "2023-11-17T09:35:50.052Z"
   },
   {
    "duration": 15,
    "start_time": "2023-11-17T09:35:52.135Z"
   },
   {
    "duration": 17,
    "start_time": "2023-11-17T09:35:53.942Z"
   },
   {
    "duration": 4,
    "start_time": "2023-11-17T09:35:57.084Z"
   },
   {
    "duration": 5,
    "start_time": "2023-11-17T09:35:58.844Z"
   },
   {
    "duration": 532,
    "start_time": "2023-11-17T09:36:00.356Z"
   },
   {
    "duration": 106,
    "start_time": "2023-11-17T09:36:05.111Z"
   },
   {
    "duration": 6,
    "start_time": "2023-11-17T09:36:05.892Z"
   },
   {
    "duration": 22,
    "start_time": "2023-11-17T09:36:06.781Z"
   },
   {
    "duration": 8,
    "start_time": "2023-11-17T09:36:10.183Z"
   },
   {
    "duration": 25,
    "start_time": "2023-11-17T09:36:10.897Z"
   },
   {
    "duration": 1618,
    "start_time": "2023-11-17T09:39:34.553Z"
   },
   {
    "duration": 5888,
    "start_time": "2023-11-17T09:39:40.433Z"
   },
   {
    "duration": 2341,
    "start_time": "2023-11-17T09:39:55.079Z"
   },
   {
    "duration": 2502,
    "start_time": "2023-11-17T09:40:07.076Z"
   },
   {
    "duration": 2350,
    "start_time": "2023-11-17T09:40:13.444Z"
   },
   {
    "duration": 832,
    "start_time": "2023-11-17T09:40:37.652Z"
   },
   {
    "duration": 4,
    "start_time": "2023-11-17T09:41:18.472Z"
   },
   {
    "duration": 2417,
    "start_time": "2023-11-17T09:41:33.865Z"
   },
   {
    "duration": 1254,
    "start_time": "2023-11-17T09:41:40.920Z"
   },
   {
    "duration": 2277,
    "start_time": "2023-11-17T09:41:42.176Z"
   },
   {
    "duration": 263,
    "start_time": "2023-11-17T09:41:44.454Z"
   },
   {
    "duration": 19,
    "start_time": "2023-11-17T09:41:44.719Z"
   },
   {
    "duration": 69,
    "start_time": "2023-11-17T09:41:44.740Z"
   },
   {
    "duration": 34,
    "start_time": "2023-11-17T09:41:44.811Z"
   },
   {
    "duration": 4,
    "start_time": "2023-11-17T09:41:44.847Z"
   },
   {
    "duration": 20,
    "start_time": "2023-11-17T09:41:44.852Z"
   },
   {
    "duration": 12,
    "start_time": "2023-11-17T09:41:44.873Z"
   },
   {
    "duration": 32,
    "start_time": "2023-11-17T09:41:44.887Z"
   },
   {
    "duration": 6,
    "start_time": "2023-11-17T09:41:44.920Z"
   },
   {
    "duration": 33,
    "start_time": "2023-11-17T09:41:44.928Z"
   },
   {
    "duration": 20,
    "start_time": "2023-11-17T09:41:44.962Z"
   },
   {
    "duration": 8888,
    "start_time": "2023-11-17T09:41:44.983Z"
   },
   {
    "duration": 7,
    "start_time": "2023-11-17T09:41:53.872Z"
   },
   {
    "duration": 121,
    "start_time": "2023-11-17T09:41:53.881Z"
   },
   {
    "duration": 107,
    "start_time": "2023-11-17T09:41:54.004Z"
   },
   {
    "duration": 129,
    "start_time": "2023-11-17T09:41:54.112Z"
   },
   {
    "duration": 80,
    "start_time": "2023-11-17T09:41:54.243Z"
   },
   {
    "duration": 93,
    "start_time": "2023-11-17T09:41:54.325Z"
   },
   {
    "duration": 220,
    "start_time": "2023-11-17T09:41:54.420Z"
   },
   {
    "duration": 4,
    "start_time": "2023-11-17T09:41:54.642Z"
   },
   {
    "duration": 180,
    "start_time": "2023-11-17T09:41:54.647Z"
   },
   {
    "duration": 938,
    "start_time": "2023-11-17T09:41:54.828Z"
   },
   {
    "duration": 169,
    "start_time": "2023-11-17T09:41:55.768Z"
   },
   {
    "duration": 253,
    "start_time": "2023-11-17T09:41:55.939Z"
   },
   {
    "duration": 187,
    "start_time": "2023-11-17T09:41:56.194Z"
   },
   {
    "duration": 55,
    "start_time": "2023-11-17T09:41:56.384Z"
   },
   {
    "duration": 108,
    "start_time": "2023-11-17T09:41:56.440Z"
   },
   {
    "duration": 830,
    "start_time": "2023-11-17T09:41:56.549Z"
   },
   {
    "duration": 119,
    "start_time": "2023-11-17T09:41:57.380Z"
   },
   {
    "duration": 36,
    "start_time": "2023-11-17T09:41:57.500Z"
   },
   {
    "duration": 87,
    "start_time": "2023-11-17T09:41:57.537Z"
   },
   {
    "duration": 166,
    "start_time": "2023-11-17T09:41:57.625Z"
   },
   {
    "duration": 373,
    "start_time": "2023-11-17T09:41:57.793Z"
   },
   {
    "duration": 3,
    "start_time": "2023-11-17T09:41:58.167Z"
   },
   {
    "duration": 182,
    "start_time": "2023-11-17T09:41:58.171Z"
   },
   {
    "duration": 153,
    "start_time": "2023-11-17T09:41:58.355Z"
   },
   {
    "duration": 229,
    "start_time": "2023-11-17T09:41:58.509Z"
   },
   {
    "duration": 4,
    "start_time": "2023-11-17T09:41:58.740Z"
   },
   {
    "duration": 82,
    "start_time": "2023-11-17T09:41:58.745Z"
   },
   {
    "duration": 1016,
    "start_time": "2023-11-17T09:41:58.829Z"
   },
   {
    "duration": 5,
    "start_time": "2023-11-17T09:41:59.856Z"
   },
   {
    "duration": 112,
    "start_time": "2023-11-17T09:41:59.862Z"
   },
   {
    "duration": 162,
    "start_time": "2023-11-17T09:41:59.975Z"
   },
   {
    "duration": 3648,
    "start_time": "2023-11-17T09:42:00.139Z"
   },
   {
    "duration": 22,
    "start_time": "2023-11-17T09:42:03.788Z"
   },
   {
    "duration": 102,
    "start_time": "2023-11-17T09:42:03.812Z"
   },
   {
    "duration": 18,
    "start_time": "2023-11-17T09:42:03.915Z"
   },
   {
    "duration": 18,
    "start_time": "2023-11-17T09:42:03.934Z"
   },
   {
    "duration": 13,
    "start_time": "2023-11-17T09:42:03.953Z"
   },
   {
    "duration": 9,
    "start_time": "2023-11-17T09:42:03.967Z"
   },
   {
    "duration": 497,
    "start_time": "2023-11-17T09:42:03.977Z"
   },
   {
    "duration": 105,
    "start_time": "2023-11-17T09:42:04.476Z"
   },
   {
    "duration": 6,
    "start_time": "2023-11-17T09:42:04.583Z"
   },
   {
    "duration": 26,
    "start_time": "2023-11-17T09:42:04.591Z"
   },
   {
    "duration": 7,
    "start_time": "2023-11-17T09:42:04.619Z"
   },
   {
    "duration": 47,
    "start_time": "2023-11-17T09:42:04.627Z"
   },
   {
    "duration": 3589,
    "start_time": "2023-11-17T09:44:19.664Z"
   },
   {
    "duration": 3427,
    "start_time": "2023-11-17T09:53:25.940Z"
   },
   {
    "duration": 61,
    "start_time": "2023-11-17T09:53:29.369Z"
   },
   {
    "duration": 64,
    "start_time": "2023-11-17T09:54:24.749Z"
   },
   {
    "duration": 18,
    "start_time": "2023-11-17T09:54:31.161Z"
   },
   {
    "duration": 62,
    "start_time": "2023-11-17T09:54:47.041Z"
   },
   {
    "duration": 62,
    "start_time": "2023-11-17T09:54:51.763Z"
   },
   {
    "duration": 61,
    "start_time": "2023-11-17T09:54:58.133Z"
   },
   {
    "duration": 62,
    "start_time": "2023-11-17T09:55:05.656Z"
   },
   {
    "duration": 55,
    "start_time": "2023-11-17T09:55:29.246Z"
   },
   {
    "duration": 11,
    "start_time": "2023-11-17T09:55:39.111Z"
   },
   {
    "duration": 55,
    "start_time": "2023-11-17T09:56:09.958Z"
   },
   {
    "duration": 10,
    "start_time": "2023-11-17T09:56:13.930Z"
   },
   {
    "duration": 8,
    "start_time": "2023-11-17T09:56:36.634Z"
   },
   {
    "duration": 9,
    "start_time": "2023-11-17T09:56:43.243Z"
   },
   {
    "duration": 129,
    "start_time": "2023-11-17T09:57:39.578Z"
   },
   {
    "duration": 28,
    "start_time": "2023-11-17T09:58:03.836Z"
   },
   {
    "duration": 28,
    "start_time": "2023-11-17T09:58:26.110Z"
   },
   {
    "duration": 16,
    "start_time": "2023-11-17T09:58:49.079Z"
   },
   {
    "duration": 15,
    "start_time": "2023-11-17T09:59:07.700Z"
   },
   {
    "duration": 1177,
    "start_time": "2023-11-17T09:59:38.038Z"
   },
   {
    "duration": 2277,
    "start_time": "2023-11-17T09:59:39.216Z"
   },
   {
    "duration": 295,
    "start_time": "2023-11-17T09:59:41.496Z"
   },
   {
    "duration": 20,
    "start_time": "2023-11-17T09:59:41.793Z"
   },
   {
    "duration": 69,
    "start_time": "2023-11-17T09:59:41.814Z"
   },
   {
    "duration": 94,
    "start_time": "2023-11-17T09:59:41.885Z"
   },
   {
    "duration": 21,
    "start_time": "2023-11-17T09:59:41.981Z"
   },
   {
    "duration": 43,
    "start_time": "2023-11-17T09:59:42.004Z"
   },
   {
    "duration": 57,
    "start_time": "2023-11-17T09:59:42.049Z"
   },
   {
    "duration": 34,
    "start_time": "2023-11-17T09:59:42.109Z"
   },
   {
    "duration": 34,
    "start_time": "2023-11-17T09:59:42.145Z"
   },
   {
    "duration": 46,
    "start_time": "2023-11-17T09:59:42.180Z"
   },
   {
    "duration": 39,
    "start_time": "2023-11-17T09:59:42.228Z"
   },
   {
    "duration": 9000,
    "start_time": "2023-11-17T09:59:42.269Z"
   },
   {
    "duration": 6,
    "start_time": "2023-11-17T09:59:51.271Z"
   },
   {
    "duration": 91,
    "start_time": "2023-11-17T09:59:51.278Z"
   },
   {
    "duration": 121,
    "start_time": "2023-11-17T09:59:51.370Z"
   },
   {
    "duration": 80,
    "start_time": "2023-11-17T09:59:51.492Z"
   },
   {
    "duration": 34,
    "start_time": "2023-11-17T09:59:51.573Z"
   },
   {
    "duration": 63,
    "start_time": "2023-11-17T09:59:51.609Z"
   },
   {
    "duration": 163,
    "start_time": "2023-11-17T09:59:51.674Z"
   },
   {
    "duration": 5,
    "start_time": "2023-11-17T09:59:51.838Z"
   },
   {
    "duration": 125,
    "start_time": "2023-11-17T09:59:51.844Z"
   },
   {
    "duration": 978,
    "start_time": "2023-11-17T09:59:51.971Z"
   },
   {
    "duration": 182,
    "start_time": "2023-11-17T09:59:52.950Z"
   },
   {
    "duration": 259,
    "start_time": "2023-11-17T09:59:53.134Z"
   },
   {
    "duration": 196,
    "start_time": "2023-11-17T09:59:53.395Z"
   },
   {
    "duration": 71,
    "start_time": "2023-11-17T09:59:53.597Z"
   },
   {
    "duration": 66,
    "start_time": "2023-11-17T09:59:53.670Z"
   },
   {
    "duration": 770,
    "start_time": "2023-11-17T09:59:53.737Z"
   },
   {
    "duration": 102,
    "start_time": "2023-11-17T09:59:54.509Z"
   },
   {
    "duration": 43,
    "start_time": "2023-11-17T09:59:54.613Z"
   },
   {
    "duration": 69,
    "start_time": "2023-11-17T09:59:54.658Z"
   },
   {
    "duration": 83,
    "start_time": "2023-11-17T09:59:54.728Z"
   },
   {
    "duration": 264,
    "start_time": "2023-11-17T09:59:54.812Z"
   },
   {
    "duration": 3,
    "start_time": "2023-11-17T09:59:55.078Z"
   },
   {
    "duration": 6,
    "start_time": "2023-11-17T09:59:55.083Z"
   },
   {
    "duration": 6,
    "start_time": "2023-11-17T09:59:55.090Z"
   },
   {
    "duration": 349,
    "start_time": "2023-11-17T09:59:55.097Z"
   },
   {
    "duration": 5,
    "start_time": "2023-11-17T09:59:55.448Z"
   },
   {
    "duration": 29,
    "start_time": "2023-11-17T09:59:55.455Z"
   },
   {
    "duration": 845,
    "start_time": "2023-11-17T09:59:55.486Z"
   },
   {
    "duration": 5,
    "start_time": "2023-11-17T09:59:56.332Z"
   },
   {
    "duration": 118,
    "start_time": "2023-11-17T09:59:56.338Z"
   },
   {
    "duration": 145,
    "start_time": "2023-11-17T09:59:56.458Z"
   },
   {
    "duration": 3662,
    "start_time": "2023-11-17T09:59:56.605Z"
   },
   {
    "duration": 56,
    "start_time": "2023-11-17T10:00:00.269Z"
   },
   {
    "duration": 62,
    "start_time": "2023-11-17T10:00:00.327Z"
   },
   {
    "duration": 95,
    "start_time": "2023-11-17T10:00:00.391Z"
   },
   {
    "duration": 44,
    "start_time": "2023-11-17T10:00:00.488Z"
   },
   {
    "duration": 74,
    "start_time": "2023-11-17T10:00:00.533Z"
   },
   {
    "duration": 66,
    "start_time": "2023-11-17T10:00:00.609Z"
   },
   {
    "duration": 26,
    "start_time": "2023-11-17T10:00:00.677Z"
   },
   {
    "duration": 26,
    "start_time": "2023-11-17T10:00:00.704Z"
   },
   {
    "duration": 455,
    "start_time": "2023-11-17T10:00:00.732Z"
   },
   {
    "duration": 112,
    "start_time": "2023-11-17T10:00:01.189Z"
   },
   {
    "duration": 6,
    "start_time": "2023-11-17T10:00:01.303Z"
   },
   {
    "duration": 72,
    "start_time": "2023-11-17T10:00:01.310Z"
   },
   {
    "duration": 58,
    "start_time": "2023-11-17T10:00:01.383Z"
   },
   {
    "duration": 56,
    "start_time": "2023-11-17T10:00:01.443Z"
   },
   {
    "duration": 91,
    "start_time": "2023-11-17T10:06:37.949Z"
   },
   {
    "duration": 2470,
    "start_time": "2023-11-17T10:07:00.936Z"
   },
   {
    "duration": 2195,
    "start_time": "2023-11-17T10:07:14.578Z"
   },
   {
    "duration": 4,
    "start_time": "2023-11-17T10:07:20.010Z"
   },
   {
    "duration": 5,
    "start_time": "2023-11-17T10:08:05.120Z"
   },
   {
    "duration": 281,
    "start_time": "2023-11-17T10:08:08.217Z"
   },
   {
    "duration": 4,
    "start_time": "2023-11-17T10:08:08.889Z"
   },
   {
    "duration": 9,
    "start_time": "2023-11-17T10:08:19.491Z"
   },
   {
    "duration": 914,
    "start_time": "2023-11-17T10:08:21.765Z"
   },
   {
    "duration": 844,
    "start_time": "2023-11-17T10:08:30.079Z"
   },
   {
    "duration": 5,
    "start_time": "2023-11-17T10:08:51.399Z"
   },
   {
    "duration": 79,
    "start_time": "2023-11-17T10:08:52.982Z"
   },
   {
    "duration": 18,
    "start_time": "2023-11-17T10:08:53.490Z"
   },
   {
    "duration": 3835,
    "start_time": "2023-11-17T10:09:07.775Z"
   },
   {
    "duration": 60,
    "start_time": "2023-11-17T10:09:11.612Z"
   },
   {
    "duration": 26,
    "start_time": "2023-11-17T10:09:11.673Z"
   },
   {
    "duration": 21,
    "start_time": "2023-11-17T10:09:22.036Z"
   },
   {
    "duration": 4,
    "start_time": "2023-11-17T10:09:46.774Z"
   },
   {
    "duration": 83,
    "start_time": "2023-11-17T10:10:18.407Z"
   },
   {
    "duration": 5,
    "start_time": "2023-11-17T10:10:32.869Z"
   },
   {
    "duration": 1160,
    "start_time": "2023-11-17T10:10:40.368Z"
   },
   {
    "duration": 54,
    "start_time": "2023-11-17T10:10:41.530Z"
   },
   {
    "duration": 237,
    "start_time": "2023-11-17T10:10:41.585Z"
   },
   {
    "duration": 19,
    "start_time": "2023-11-17T10:10:41.824Z"
   },
   {
    "duration": 14,
    "start_time": "2023-11-17T10:10:41.845Z"
   },
   {
    "duration": 31,
    "start_time": "2023-11-17T10:10:41.860Z"
   },
   {
    "duration": 22,
    "start_time": "2023-11-17T10:10:41.893Z"
   },
   {
    "duration": 30,
    "start_time": "2023-11-17T10:10:41.917Z"
   },
   {
    "duration": 24,
    "start_time": "2023-11-17T10:10:41.949Z"
   },
   {
    "duration": 64,
    "start_time": "2023-11-17T10:10:41.976Z"
   },
   {
    "duration": 11,
    "start_time": "2023-11-17T10:10:42.042Z"
   },
   {
    "duration": 34,
    "start_time": "2023-11-17T10:10:42.054Z"
   },
   {
    "duration": 7,
    "start_time": "2023-11-17T10:10:42.090Z"
   },
   {
    "duration": 9197,
    "start_time": "2023-11-17T10:10:42.098Z"
   },
   {
    "duration": 7,
    "start_time": "2023-11-17T10:10:51.296Z"
   },
   {
    "duration": 29,
    "start_time": "2023-11-17T10:10:51.305Z"
   },
   {
    "duration": 45,
    "start_time": "2023-11-17T10:10:51.335Z"
   },
   {
    "duration": 37,
    "start_time": "2023-11-17T10:10:51.382Z"
   },
   {
    "duration": 25,
    "start_time": "2023-11-17T10:10:51.421Z"
   },
   {
    "duration": 31,
    "start_time": "2023-11-17T10:10:51.448Z"
   },
   {
    "duration": 120,
    "start_time": "2023-11-17T10:10:51.481Z"
   },
   {
    "duration": 5,
    "start_time": "2023-11-17T10:10:51.603Z"
   },
   {
    "duration": 88,
    "start_time": "2023-11-17T10:10:51.609Z"
   },
   {
    "duration": 887,
    "start_time": "2023-11-17T10:10:51.698Z"
   },
   {
    "duration": 169,
    "start_time": "2023-11-17T10:10:52.587Z"
   },
   {
    "duration": 245,
    "start_time": "2023-11-17T10:10:52.758Z"
   },
   {
    "duration": 187,
    "start_time": "2023-11-17T10:10:53.005Z"
   },
   {
    "duration": 63,
    "start_time": "2023-11-17T10:10:53.195Z"
   },
   {
    "duration": 48,
    "start_time": "2023-11-17T10:10:53.260Z"
   },
   {
    "duration": 789,
    "start_time": "2023-11-17T10:10:53.309Z"
   },
   {
    "duration": 114,
    "start_time": "2023-11-17T10:10:54.100Z"
   },
   {
    "duration": 44,
    "start_time": "2023-11-17T10:10:54.216Z"
   },
   {
    "duration": 6,
    "start_time": "2023-11-17T10:10:54.261Z"
   },
   {
    "duration": 52,
    "start_time": "2023-11-17T10:10:54.268Z"
   },
   {
    "duration": 302,
    "start_time": "2023-11-17T10:10:54.322Z"
   },
   {
    "duration": 4,
    "start_time": "2023-11-17T10:10:54.625Z"
   },
   {
    "duration": 28,
    "start_time": "2023-11-17T10:10:54.630Z"
   },
   {
    "duration": 353,
    "start_time": "2023-11-17T10:10:54.660Z"
   },
   {
    "duration": 4,
    "start_time": "2023-11-17T10:10:55.015Z"
   },
   {
    "duration": 29,
    "start_time": "2023-11-17T10:10:55.021Z"
   },
   {
    "duration": 924,
    "start_time": "2023-11-17T10:10:55.051Z"
   },
   {
    "duration": 4,
    "start_time": "2023-11-17T10:10:55.977Z"
   },
   {
    "duration": 120,
    "start_time": "2023-11-17T10:10:55.983Z"
   },
   {
    "duration": 163,
    "start_time": "2023-11-17T10:10:56.105Z"
   },
   {
    "duration": 3813,
    "start_time": "2023-11-17T10:10:56.270Z"
   },
   {
    "duration": 61,
    "start_time": "2023-11-17T10:11:00.084Z"
   },
   {
    "duration": 37,
    "start_time": "2023-11-17T10:11:00.146Z"
   },
   {
    "duration": 47,
    "start_time": "2023-11-17T10:11:00.185Z"
   },
   {
    "duration": 44,
    "start_time": "2023-11-17T10:11:00.233Z"
   },
   {
    "duration": 73,
    "start_time": "2023-11-17T10:11:00.279Z"
   },
   {
    "duration": 103,
    "start_time": "2023-11-17T10:11:00.354Z"
   },
   {
    "duration": 82,
    "start_time": "2023-11-17T10:11:00.459Z"
   },
   {
    "duration": 83,
    "start_time": "2023-11-17T10:11:00.543Z"
   },
   {
    "duration": 509,
    "start_time": "2023-11-17T10:11:00.627Z"
   },
   {
    "duration": 144,
    "start_time": "2023-11-17T10:11:01.138Z"
   },
   {
    "duration": 6,
    "start_time": "2023-11-17T10:11:01.283Z"
   },
   {
    "duration": 65,
    "start_time": "2023-11-17T10:11:01.291Z"
   },
   {
    "duration": 138,
    "start_time": "2023-11-17T10:11:01.358Z"
   },
   {
    "duration": 105,
    "start_time": "2023-11-17T10:11:01.498Z"
   },
   {
    "duration": 4,
    "start_time": "2023-11-17T10:11:29.369Z"
   },
   {
    "duration": 1479,
    "start_time": "2023-11-17T14:07:37.605Z"
   },
   {
    "duration": 63,
    "start_time": "2023-11-17T14:07:39.087Z"
   },
   {
    "duration": 342,
    "start_time": "2023-11-17T14:07:39.155Z"
   },
   {
    "duration": 22,
    "start_time": "2023-11-17T14:07:39.499Z"
   },
   {
    "duration": 13,
    "start_time": "2023-11-17T14:07:39.522Z"
   },
   {
    "duration": 37,
    "start_time": "2023-11-17T14:07:39.537Z"
   },
   {
    "duration": 4,
    "start_time": "2023-11-17T14:07:39.576Z"
   },
   {
    "duration": 14,
    "start_time": "2023-11-17T14:07:39.582Z"
   },
   {
    "duration": 20,
    "start_time": "2023-11-17T14:07:39.606Z"
   },
   {
    "duration": 41,
    "start_time": "2023-11-17T14:07:39.627Z"
   },
   {
    "duration": 7,
    "start_time": "2023-11-17T14:07:39.670Z"
   },
   {
    "duration": 35,
    "start_time": "2023-11-17T14:07:39.678Z"
   },
   {
    "duration": 17,
    "start_time": "2023-11-17T14:07:39.715Z"
   },
   {
    "duration": 9797,
    "start_time": "2023-11-17T14:07:39.734Z"
   },
   {
    "duration": 7,
    "start_time": "2023-11-17T14:07:49.533Z"
   },
   {
    "duration": 38,
    "start_time": "2023-11-17T14:07:49.542Z"
   },
   {
    "duration": 47,
    "start_time": "2023-11-17T14:07:49.581Z"
   },
   {
    "duration": 42,
    "start_time": "2023-11-17T14:07:49.632Z"
   },
   {
    "duration": 13,
    "start_time": "2023-11-17T14:07:49.675Z"
   },
   {
    "duration": 41,
    "start_time": "2023-11-17T14:07:49.689Z"
   },
   {
    "duration": 135,
    "start_time": "2023-11-17T14:07:49.731Z"
   },
   {
    "duration": 5,
    "start_time": "2023-11-17T14:07:49.867Z"
   },
   {
    "duration": 80,
    "start_time": "2023-11-17T14:07:49.874Z"
   },
   {
    "duration": 1001,
    "start_time": "2023-11-17T14:07:49.955Z"
   },
   {
    "duration": 189,
    "start_time": "2023-11-17T14:07:50.957Z"
   },
   {
    "duration": 302,
    "start_time": "2023-11-17T14:07:51.148Z"
   },
   {
    "duration": 212,
    "start_time": "2023-11-17T14:07:51.453Z"
   },
   {
    "duration": 65,
    "start_time": "2023-11-17T14:07:51.667Z"
   },
   {
    "duration": 53,
    "start_time": "2023-11-17T14:07:51.734Z"
   },
   {
    "duration": 855,
    "start_time": "2023-11-17T14:07:51.789Z"
   },
   {
    "duration": 113,
    "start_time": "2023-11-17T14:07:52.646Z"
   },
   {
    "duration": 46,
    "start_time": "2023-11-17T14:07:52.761Z"
   },
   {
    "duration": 7,
    "start_time": "2023-11-17T14:07:52.809Z"
   },
   {
    "duration": 52,
    "start_time": "2023-11-17T14:07:52.818Z"
   },
   {
    "duration": 282,
    "start_time": "2023-11-17T14:07:52.872Z"
   },
   {
    "duration": 3,
    "start_time": "2023-11-17T14:07:53.156Z"
   },
   {
    "duration": 36,
    "start_time": "2023-11-17T14:07:53.162Z"
   },
   {
    "duration": 310,
    "start_time": "2023-11-17T14:07:53.200Z"
   },
   {
    "duration": 5,
    "start_time": "2023-11-17T14:07:53.511Z"
   },
   {
    "duration": 30,
    "start_time": "2023-11-17T14:07:53.518Z"
   },
   {
    "duration": 958,
    "start_time": "2023-11-17T14:07:53.550Z"
   },
   {
    "duration": 5,
    "start_time": "2023-11-17T14:07:54.509Z"
   },
   {
    "duration": 147,
    "start_time": "2023-11-17T14:07:54.517Z"
   },
   {
    "duration": 682,
    "start_time": "2023-11-17T14:07:54.666Z"
   },
   {
    "duration": 3938,
    "start_time": "2023-11-17T14:07:55.350Z"
   },
   {
    "duration": 63,
    "start_time": "2023-11-17T14:07:59.290Z"
   },
   {
    "duration": 31,
    "start_time": "2023-11-17T14:07:59.355Z"
   },
   {
    "duration": 40,
    "start_time": "2023-11-17T14:07:59.387Z"
   },
   {
    "duration": 20,
    "start_time": "2023-11-17T14:07:59.429Z"
   },
   {
    "duration": 56,
    "start_time": "2023-11-17T14:07:59.450Z"
   },
   {
    "duration": 19,
    "start_time": "2023-11-17T14:07:59.507Z"
   },
   {
    "duration": 43,
    "start_time": "2023-11-17T14:07:59.528Z"
   },
   {
    "duration": 25,
    "start_time": "2023-11-17T14:07:59.573Z"
   },
   {
    "duration": 546,
    "start_time": "2023-11-17T14:07:59.599Z"
   },
   {
    "duration": 124,
    "start_time": "2023-11-17T14:08:00.147Z"
   },
   {
    "duration": 6,
    "start_time": "2023-11-17T14:08:00.272Z"
   },
   {
    "duration": 100,
    "start_time": "2023-11-17T14:08:00.280Z"
   },
   {
    "duration": 102,
    "start_time": "2023-11-17T14:08:00.381Z"
   },
   {
    "duration": 51,
    "start_time": "2023-11-17T14:08:00.485Z"
   },
   {
    "duration": 19,
    "start_time": "2023-11-17T14:15:17.202Z"
   },
   {
    "duration": 4,
    "start_time": "2023-11-17T14:20:37.397Z"
   },
   {
    "duration": 20,
    "start_time": "2023-11-17T14:22:15.831Z"
   },
   {
    "duration": 11,
    "start_time": "2023-11-17T14:22:24.128Z"
   },
   {
    "duration": 12,
    "start_time": "2023-11-17T14:23:05.749Z"
   },
   {
    "duration": 14,
    "start_time": "2023-11-17T14:23:55.098Z"
   },
   {
    "duration": 4,
    "start_time": "2023-11-17T14:24:09.666Z"
   },
   {
    "duration": 7,
    "start_time": "2023-11-17T14:24:13.550Z"
   },
   {
    "duration": 21,
    "start_time": "2023-11-17T14:24:37.143Z"
   },
   {
    "duration": 3,
    "start_time": "2023-11-17T14:24:44.789Z"
   },
   {
    "duration": 15,
    "start_time": "2023-11-17T14:24:49.733Z"
   },
   {
    "duration": 22,
    "start_time": "2023-11-17T14:24:58.496Z"
   },
   {
    "duration": 83,
    "start_time": "2023-11-17T14:26:07.164Z"
   },
   {
    "duration": 21,
    "start_time": "2023-11-17T14:26:19.185Z"
   },
   {
    "duration": 56,
    "start_time": "2023-11-17T14:26:42.856Z"
   },
   {
    "duration": 22,
    "start_time": "2023-11-17T14:27:46.164Z"
   },
   {
    "duration": 21,
    "start_time": "2023-11-17T14:27:48.523Z"
   },
   {
    "duration": 1201,
    "start_time": "2023-11-17T14:28:52.415Z"
   },
   {
    "duration": 52,
    "start_time": "2023-11-17T14:28:53.618Z"
   },
   {
    "duration": 406,
    "start_time": "2023-11-17T14:28:53.671Z"
   },
   {
    "duration": 20,
    "start_time": "2023-11-17T14:28:54.079Z"
   },
   {
    "duration": 11,
    "start_time": "2023-11-17T14:28:54.100Z"
   },
   {
    "duration": 31,
    "start_time": "2023-11-17T14:28:54.112Z"
   },
   {
    "duration": 3,
    "start_time": "2023-11-17T14:28:54.145Z"
   },
   {
    "duration": 27,
    "start_time": "2023-11-17T14:28:54.150Z"
   },
   {
    "duration": 28,
    "start_time": "2023-11-17T14:28:54.178Z"
   },
   {
    "duration": 54,
    "start_time": "2023-11-17T14:28:54.209Z"
   },
   {
    "duration": 6,
    "start_time": "2023-11-17T14:28:54.264Z"
   },
   {
    "duration": 47,
    "start_time": "2023-11-17T14:28:54.271Z"
   },
   {
    "duration": 22,
    "start_time": "2023-11-17T14:28:54.320Z"
   },
   {
    "duration": 9830,
    "start_time": "2023-11-17T14:28:54.344Z"
   },
   {
    "duration": 7,
    "start_time": "2023-11-17T14:29:04.176Z"
   },
   {
    "duration": 52,
    "start_time": "2023-11-17T14:29:04.185Z"
   },
   {
    "duration": 39,
    "start_time": "2023-11-17T14:29:04.238Z"
   },
   {
    "duration": 49,
    "start_time": "2023-11-17T14:29:04.279Z"
   },
   {
    "duration": 14,
    "start_time": "2023-11-17T14:29:04.329Z"
   },
   {
    "duration": 45,
    "start_time": "2023-11-17T14:29:04.345Z"
   },
   {
    "duration": 129,
    "start_time": "2023-11-17T14:29:04.391Z"
   },
   {
    "duration": 5,
    "start_time": "2023-11-17T14:29:04.522Z"
   },
   {
    "duration": 61,
    "start_time": "2023-11-17T14:29:04.529Z"
   },
   {
    "duration": 37,
    "start_time": "2023-11-17T14:29:04.592Z"
   },
   {
    "duration": 1001,
    "start_time": "2023-11-17T14:29:04.631Z"
   },
   {
    "duration": 185,
    "start_time": "2023-11-17T14:29:05.634Z"
   },
   {
    "duration": 293,
    "start_time": "2023-11-17T14:29:05.821Z"
   },
   {
    "duration": 209,
    "start_time": "2023-11-17T14:29:06.118Z"
   },
   {
    "duration": 58,
    "start_time": "2023-11-17T14:29:06.328Z"
   },
   {
    "duration": 55,
    "start_time": "2023-11-17T14:29:06.388Z"
   },
   {
    "duration": 823,
    "start_time": "2023-11-17T14:29:06.445Z"
   },
   {
    "duration": 109,
    "start_time": "2023-11-17T14:29:07.270Z"
   },
   {
    "duration": 41,
    "start_time": "2023-11-17T14:29:07.380Z"
   },
   {
    "duration": 5,
    "start_time": "2023-11-17T14:29:07.423Z"
   },
   {
    "duration": 36,
    "start_time": "2023-11-17T14:29:07.429Z"
   },
   {
    "duration": 282,
    "start_time": "2023-11-17T14:29:07.467Z"
   },
   {
    "duration": 3,
    "start_time": "2023-11-17T14:29:07.750Z"
   },
   {
    "duration": 47,
    "start_time": "2023-11-17T14:29:07.755Z"
   },
   {
    "duration": 316,
    "start_time": "2023-11-17T14:29:07.804Z"
   },
   {
    "duration": 4,
    "start_time": "2023-11-17T14:29:08.122Z"
   },
   {
    "duration": 75,
    "start_time": "2023-11-17T14:29:08.128Z"
   },
   {
    "duration": 1044,
    "start_time": "2023-11-17T14:29:08.205Z"
   },
   {
    "duration": 4,
    "start_time": "2023-11-17T14:29:09.251Z"
   },
   {
    "duration": 145,
    "start_time": "2023-11-17T14:29:09.257Z"
   },
   {
    "duration": 487,
    "start_time": "2023-11-17T14:29:09.403Z"
   },
   {
    "duration": 3920,
    "start_time": "2023-11-17T14:29:09.892Z"
   },
   {
    "duration": 62,
    "start_time": "2023-11-17T14:29:13.814Z"
   },
   {
    "duration": 43,
    "start_time": "2023-11-17T14:29:13.878Z"
   },
   {
    "duration": 69,
    "start_time": "2023-11-17T14:29:13.923Z"
   },
   {
    "duration": 19,
    "start_time": "2023-11-17T14:29:13.993Z"
   },
   {
    "duration": 52,
    "start_time": "2023-11-17T14:29:14.014Z"
   },
   {
    "duration": 54,
    "start_time": "2023-11-17T14:29:14.068Z"
   },
   {
    "duration": 19,
    "start_time": "2023-11-17T14:29:14.124Z"
   },
   {
    "duration": 34,
    "start_time": "2023-11-17T14:29:14.145Z"
   },
   {
    "duration": 462,
    "start_time": "2023-11-17T14:29:14.180Z"
   },
   {
    "duration": 127,
    "start_time": "2023-11-17T14:29:14.643Z"
   },
   {
    "duration": 6,
    "start_time": "2023-11-17T14:29:14.772Z"
   },
   {
    "duration": 49,
    "start_time": "2023-11-17T14:29:14.779Z"
   },
   {
    "duration": 13,
    "start_time": "2023-11-17T14:29:14.830Z"
   },
   {
    "duration": 39,
    "start_time": "2023-11-17T14:29:14.845Z"
   },
   {
    "duration": 20,
    "start_time": "2023-11-17T14:40:43.816Z"
   },
   {
    "duration": 21,
    "start_time": "2023-11-17T14:43:39.932Z"
   },
   {
    "duration": 3,
    "start_time": "2023-11-17T14:43:57.023Z"
   },
   {
    "duration": 3,
    "start_time": "2023-11-17T14:46:25.926Z"
   },
   {
    "duration": 50,
    "start_time": "2023-11-20T13:16:31.417Z"
   },
   {
    "duration": 1327,
    "start_time": "2023-11-20T13:16:39.752Z"
   },
   {
    "duration": 53,
    "start_time": "2023-11-20T13:16:45.124Z"
   },
   {
    "duration": 398,
    "start_time": "2023-11-20T13:16:50.176Z"
   },
   {
    "duration": 20,
    "start_time": "2023-11-20T13:17:18.767Z"
   },
   {
    "duration": 14,
    "start_time": "2023-11-20T13:17:20.481Z"
   },
   {
    "duration": 19,
    "start_time": "2023-11-20T13:17:21.004Z"
   },
   {
    "duration": 3,
    "start_time": "2023-11-20T13:17:22.045Z"
   },
   {
    "duration": 10,
    "start_time": "2023-11-20T13:17:22.599Z"
   },
   {
    "duration": 9,
    "start_time": "2023-11-20T13:17:23.565Z"
   },
   {
    "duration": 25,
    "start_time": "2023-11-20T13:17:24.384Z"
   },
   {
    "duration": 6,
    "start_time": "2023-11-20T13:17:28.214Z"
   },
   {
    "duration": 24,
    "start_time": "2023-11-20T13:18:21.823Z"
   },
   {
    "duration": 7,
    "start_time": "2023-11-20T13:18:23.384Z"
   },
   {
    "duration": 9349,
    "start_time": "2023-11-20T13:18:27.007Z"
   },
   {
    "duration": 6,
    "start_time": "2023-11-20T13:18:36.358Z"
   },
   {
    "duration": 38,
    "start_time": "2023-11-20T13:18:36.366Z"
   },
   {
    "duration": 47,
    "start_time": "2023-11-20T13:18:36.406Z"
   },
   {
    "duration": 77,
    "start_time": "2023-11-20T13:28:24.602Z"
   },
   {
    "duration": 68,
    "start_time": "2023-11-20T13:30:00.875Z"
   },
   {
    "duration": 8,
    "start_time": "2023-11-20T13:30:08.222Z"
   },
   {
    "duration": 24,
    "start_time": "2023-11-20T13:30:09.406Z"
   },
   {
    "duration": 42,
    "start_time": "2023-11-20T13:30:10.092Z"
   },
   {
    "duration": 42,
    "start_time": "2023-11-20T13:30:16.192Z"
   },
   {
    "duration": 13,
    "start_time": "2023-11-20T13:30:17.143Z"
   },
   {
    "duration": 11,
    "start_time": "2023-11-20T13:30:28.196Z"
   },
   {
    "duration": 10,
    "start_time": "2023-11-20T13:31:29.296Z"
   },
   {
    "duration": 19,
    "start_time": "2023-11-20T13:31:49.989Z"
   },
   {
    "duration": 115,
    "start_time": "2023-11-20T13:31:50.795Z"
   },
   {
    "duration": 6,
    "start_time": "2023-11-20T13:31:53.038Z"
   },
   {
    "duration": 5,
    "start_time": "2023-11-20T13:32:25.031Z"
   },
   {
    "duration": 29,
    "start_time": "2023-11-20T13:33:06.977Z"
   },
   {
    "duration": 76,
    "start_time": "2023-11-20T13:33:57.806Z"
   },
   {
    "duration": 63,
    "start_time": "2023-11-20T13:34:18.735Z"
   },
   {
    "duration": 4,
    "start_time": "2023-11-20T13:36:20.212Z"
   },
   {
    "duration": 22,
    "start_time": "2023-11-20T13:36:35.852Z"
   },
   {
    "duration": 936,
    "start_time": "2023-11-20T13:36:46.513Z"
   },
   {
    "duration": 182,
    "start_time": "2023-11-20T13:36:50.509Z"
   },
   {
    "duration": 262,
    "start_time": "2023-11-20T13:36:55.425Z"
   },
   {
    "duration": 183,
    "start_time": "2023-11-20T13:37:06.660Z"
   },
   {
    "duration": 188,
    "start_time": "2023-11-20T13:37:19.240Z"
   },
   {
    "duration": 3,
    "start_time": "2023-11-20T13:37:53.354Z"
   },
   {
    "duration": 188,
    "start_time": "2023-11-20T13:38:09.675Z"
   },
   {
    "duration": 69,
    "start_time": "2023-11-20T13:39:13.106Z"
   },
   {
    "duration": 10,
    "start_time": "2023-11-20T13:39:40.818Z"
   },
   {
    "duration": 9,
    "start_time": "2023-11-20T13:40:20.367Z"
   },
   {
    "duration": 67,
    "start_time": "2023-11-20T13:40:24.819Z"
   },
   {
    "duration": 4,
    "start_time": "2023-11-20T13:42:37.968Z"
   },
   {
    "duration": 9,
    "start_time": "2023-11-20T13:42:51.949Z"
   },
   {
    "duration": 4,
    "start_time": "2023-11-20T13:44:11.230Z"
   },
   {
    "duration": 11,
    "start_time": "2023-11-20T13:44:24.480Z"
   },
   {
    "duration": 44,
    "start_time": "2023-11-20T13:44:26.517Z"
   },
   {
    "duration": 1462,
    "start_time": "2023-11-20T13:45:26.880Z"
   },
   {
    "duration": 476,
    "start_time": "2023-11-20T13:45:53.795Z"
   },
   {
    "duration": 350,
    "start_time": "2023-11-20T13:46:40.886Z"
   },
   {
    "duration": 226,
    "start_time": "2023-11-20T13:47:59.791Z"
   },
   {
    "duration": 195,
    "start_time": "2023-11-20T13:49:04.801Z"
   },
   {
    "duration": 865,
    "start_time": "2023-11-20T13:53:20.202Z"
   },
   {
    "duration": 2604,
    "start_time": "2023-11-20T13:54:09.667Z"
   },
   {
    "duration": 9,
    "start_time": "2023-11-20T13:54:34.596Z"
   },
   {
    "duration": 8,
    "start_time": "2023-11-20T13:54:43.313Z"
   },
   {
    "duration": 72,
    "start_time": "2023-11-20T13:57:57.339Z"
   },
   {
    "duration": 14,
    "start_time": "2023-11-20T14:02:35.211Z"
   },
   {
    "duration": 736,
    "start_time": "2023-11-20T14:03:07.183Z"
   },
   {
    "duration": 9357,
    "start_time": "2023-11-20T14:03:10.638Z"
   },
   {
    "duration": 32,
    "start_time": "2023-11-20T14:03:19.997Z"
   },
   {
    "duration": 19,
    "start_time": "2023-11-20T14:03:22.461Z"
   },
   {
    "duration": 110,
    "start_time": "2023-11-20T14:04:02.539Z"
   },
   {
    "duration": 35,
    "start_time": "2023-11-20T14:04:03.502Z"
   },
   {
    "duration": 6,
    "start_time": "2023-11-20T14:04:05.665Z"
   },
   {
    "duration": 23,
    "start_time": "2023-11-20T14:04:06.827Z"
   },
   {
    "duration": 304,
    "start_time": "2023-11-20T14:04:08.362Z"
   },
   {
    "duration": 3,
    "start_time": "2023-11-20T14:04:09.154Z"
   },
   {
    "duration": 4,
    "start_time": "2023-11-20T14:04:09.884Z"
   },
   {
    "duration": 365,
    "start_time": "2023-11-20T14:04:10.756Z"
   },
   {
    "duration": 6,
    "start_time": "2023-11-20T14:04:11.348Z"
   },
   {
    "duration": 8,
    "start_time": "2023-11-20T14:04:12.597Z"
   },
   {
    "duration": 1102,
    "start_time": "2023-11-20T14:04:13.396Z"
   },
   {
    "duration": 5,
    "start_time": "2023-11-20T14:04:15.180Z"
   },
   {
    "duration": 131,
    "start_time": "2023-11-20T14:04:15.836Z"
   },
   {
    "duration": 150,
    "start_time": "2023-11-20T14:04:33.628Z"
   },
   {
    "duration": 224,
    "start_time": "2023-11-20T14:05:41.706Z"
   },
   {
    "duration": 18,
    "start_time": "2023-11-20T14:05:46.310Z"
   },
   {
    "duration": 19,
    "start_time": "2023-11-20T14:06:19.206Z"
   },
   {
    "duration": 379,
    "start_time": "2023-11-20T14:06:57.368Z"
   },
   {
    "duration": 4,
    "start_time": "2023-11-20T14:07:00.194Z"
   },
   {
    "duration": 5,
    "start_time": "2023-11-20T14:07:06.062Z"
   },
   {
    "duration": 4,
    "start_time": "2023-11-20T14:07:11.475Z"
   },
   {
    "duration": 148,
    "start_time": "2023-11-20T14:07:14.603Z"
   },
   {
    "duration": 5,
    "start_time": "2023-11-20T14:07:14.991Z"
   },
   {
    "duration": 8,
    "start_time": "2023-11-20T14:07:16.698Z"
   },
   {
    "duration": 728,
    "start_time": "2023-11-20T14:07:19.375Z"
   },
   {
    "duration": 5,
    "start_time": "2023-11-20T14:07:22.612Z"
   },
   {
    "duration": 96,
    "start_time": "2023-11-20T14:07:23.711Z"
   },
   {
    "duration": 5,
    "start_time": "2023-11-20T14:07:30.157Z"
   },
   {
    "duration": 99,
    "start_time": "2023-11-20T14:07:31.159Z"
   },
   {
    "duration": 15,
    "start_time": "2023-11-20T14:07:32.211Z"
   },
   {
    "duration": 5,
    "start_time": "2023-11-20T14:07:43.618Z"
   },
   {
    "duration": 116,
    "start_time": "2023-11-20T14:07:46.100Z"
   },
   {
    "duration": 16,
    "start_time": "2023-11-20T14:07:46.571Z"
   },
   {
    "duration": 9567,
    "start_time": "2023-11-20T14:09:05.319Z"
   },
   {
    "duration": 23,
    "start_time": "2023-11-20T14:09:31.485Z"
   },
   {
    "duration": 7,
    "start_time": "2023-11-20T14:09:37.703Z"
   },
   {
    "duration": 17,
    "start_time": "2023-11-20T14:09:50.930Z"
   },
   {
    "duration": 20,
    "start_time": "2023-11-20T14:09:51.686Z"
   },
   {
    "duration": 10,
    "start_time": "2023-11-20T14:10:45.694Z"
   },
   {
    "duration": 104,
    "start_time": "2023-11-20T14:10:48.102Z"
   },
   {
    "duration": 5,
    "start_time": "2023-11-20T14:10:50.775Z"
   },
   {
    "duration": 232,
    "start_time": "2023-11-20T14:10:51.637Z"
   },
   {
    "duration": 25,
    "start_time": "2023-11-20T14:10:56.576Z"
   },
   {
    "duration": 320,
    "start_time": "2023-11-20T14:10:58.285Z"
   },
   {
    "duration": 3,
    "start_time": "2023-11-20T14:10:58.865Z"
   },
   {
    "duration": 4,
    "start_time": "2023-11-20T14:10:59.436Z"
   },
   {
    "duration": 275,
    "start_time": "2023-11-20T14:11:00.003Z"
   },
   {
    "duration": 4,
    "start_time": "2023-11-20T14:11:00.496Z"
   },
   {
    "duration": 7,
    "start_time": "2023-11-20T14:11:01.045Z"
   },
   {
    "duration": 914,
    "start_time": "2023-11-20T14:11:01.525Z"
   },
   {
    "duration": 5,
    "start_time": "2023-11-20T14:11:02.542Z"
   },
   {
    "duration": 113,
    "start_time": "2023-11-20T14:11:03.204Z"
   },
   {
    "duration": 18,
    "start_time": "2023-11-20T14:11:03.863Z"
   },
   {
    "duration": 101,
    "start_time": "2023-11-20T14:15:19.451Z"
   },
   {
    "duration": 5,
    "start_time": "2023-11-20T14:15:23.113Z"
   },
   {
    "duration": 221,
    "start_time": "2023-11-20T14:15:23.750Z"
   },
   {
    "duration": 27,
    "start_time": "2023-11-20T14:15:25.457Z"
   },
   {
    "duration": 318,
    "start_time": "2023-11-20T14:15:26.741Z"
   },
   {
    "duration": 3,
    "start_time": "2023-11-20T14:15:27.305Z"
   },
   {
    "duration": 4,
    "start_time": "2023-11-20T14:15:27.855Z"
   },
   {
    "duration": 122,
    "start_time": "2023-11-20T14:15:28.325Z"
   },
   {
    "duration": 4,
    "start_time": "2023-11-20T14:15:28.811Z"
   },
   {
    "duration": 8,
    "start_time": "2023-11-20T14:15:29.300Z"
   },
   {
    "duration": 938,
    "start_time": "2023-11-20T14:15:29.776Z"
   },
   {
    "duration": 6,
    "start_time": "2023-11-20T14:15:30.715Z"
   },
   {
    "duration": 110,
    "start_time": "2023-11-20T14:15:30.955Z"
   },
   {
    "duration": 18,
    "start_time": "2023-11-20T14:15:31.547Z"
   },
   {
    "duration": 9622,
    "start_time": "2023-11-20T14:16:41.841Z"
   },
   {
    "duration": 20,
    "start_time": "2023-11-20T14:16:51.465Z"
   },
   {
    "duration": 69,
    "start_time": "2023-11-20T14:17:04.952Z"
   },
   {
    "duration": 6,
    "start_time": "2023-11-20T14:17:10.750Z"
   },
   {
    "duration": 222,
    "start_time": "2023-11-20T14:17:11.486Z"
   },
   {
    "duration": 64,
    "start_time": "2023-11-20T14:17:13.021Z"
   },
   {
    "duration": 68,
    "start_time": "2023-11-20T14:17:14.913Z"
   },
   {
    "duration": 3,
    "start_time": "2023-11-20T14:17:15.458Z"
   },
   {
    "duration": 4,
    "start_time": "2023-11-20T14:17:16.073Z"
   },
   {
    "duration": 291,
    "start_time": "2023-11-20T14:17:16.660Z"
   },
   {
    "duration": 4,
    "start_time": "2023-11-20T14:17:17.177Z"
   },
   {
    "duration": 8,
    "start_time": "2023-11-20T14:17:17.751Z"
   },
   {
    "duration": 2222,
    "start_time": "2023-11-20T14:17:18.328Z"
   },
   {
    "duration": 6,
    "start_time": "2023-11-20T14:17:20.552Z"
   },
   {
    "duration": 52,
    "start_time": "2023-11-20T14:17:20.559Z"
   },
   {
    "duration": 18,
    "start_time": "2023-11-20T14:17:20.613Z"
   },
   {
    "duration": 5,
    "start_time": "2023-11-20T14:17:32.728Z"
   },
   {
    "duration": 31,
    "start_time": "2023-11-20T14:17:34.759Z"
   },
   {
    "duration": 5,
    "start_time": "2023-11-20T14:17:36.811Z"
   },
   {
    "duration": 30,
    "start_time": "2023-11-20T14:17:37.290Z"
   },
   {
    "duration": 10,
    "start_time": "2023-11-20T14:17:37.568Z"
   },
   {
    "duration": 5,
    "start_time": "2023-11-20T14:17:43.559Z"
   },
   {
    "duration": 5,
    "start_time": "2023-11-20T14:17:47.709Z"
   },
   {
    "duration": 31,
    "start_time": "2023-11-20T14:17:48.185Z"
   },
   {
    "duration": 10,
    "start_time": "2023-11-20T14:17:48.400Z"
   },
   {
    "duration": 4,
    "start_time": "2023-11-20T14:18:58.720Z"
   },
   {
    "duration": 20,
    "start_time": "2023-11-20T14:20:58.154Z"
   },
   {
    "duration": 73,
    "start_time": "2023-11-20T14:21:01.051Z"
   },
   {
    "duration": 5,
    "start_time": "2023-11-20T14:21:02.948Z"
   },
   {
    "duration": 225,
    "start_time": "2023-11-20T14:21:03.499Z"
   },
   {
    "duration": 65,
    "start_time": "2023-11-20T14:21:04.956Z"
   },
   {
    "duration": 73,
    "start_time": "2023-11-20T14:21:06.298Z"
   },
   {
    "duration": 4,
    "start_time": "2023-11-20T14:21:06.769Z"
   },
   {
    "duration": 4,
    "start_time": "2023-11-20T14:21:07.137Z"
   },
   {
    "duration": 118,
    "start_time": "2023-11-20T14:21:07.524Z"
   },
   {
    "duration": 5,
    "start_time": "2023-11-20T14:21:07.904Z"
   },
   {
    "duration": 7,
    "start_time": "2023-11-20T14:21:08.242Z"
   },
   {
    "duration": 2222,
    "start_time": "2023-11-20T14:21:08.699Z"
   },
   {
    "duration": 5,
    "start_time": "2023-11-20T14:21:10.923Z"
   },
   {
    "duration": 42,
    "start_time": "2023-11-20T14:21:10.929Z"
   },
   {
    "duration": 9,
    "start_time": "2023-11-20T14:21:11.243Z"
   },
   {
    "duration": 19,
    "start_time": "2023-11-20T14:21:59.285Z"
   },
   {
    "duration": 62,
    "start_time": "2023-11-20T14:21:59.636Z"
   },
   {
    "duration": 5,
    "start_time": "2023-11-20T14:22:01.037Z"
   },
   {
    "duration": 224,
    "start_time": "2023-11-20T14:22:01.497Z"
   },
   {
    "duration": 64,
    "start_time": "2023-11-20T14:22:02.217Z"
   },
   {
    "duration": 69,
    "start_time": "2023-11-20T14:22:03.650Z"
   },
   {
    "duration": 3,
    "start_time": "2023-11-20T14:22:04.229Z"
   },
   {
    "duration": 4,
    "start_time": "2023-11-20T14:22:05.023Z"
   },
   {
    "duration": 316,
    "start_time": "2023-11-20T14:22:05.506Z"
   },
   {
    "duration": 5,
    "start_time": "2023-11-20T14:22:06.066Z"
   },
   {
    "duration": 7,
    "start_time": "2023-11-20T14:22:06.505Z"
   },
   {
    "duration": 2292,
    "start_time": "2023-11-20T14:22:07.036Z"
   },
   {
    "duration": 6,
    "start_time": "2023-11-20T14:22:09.329Z"
   },
   {
    "duration": 39,
    "start_time": "2023-11-20T14:22:09.336Z"
   },
   {
    "duration": 2209,
    "start_time": "2023-11-20T14:22:58.040Z"
   },
   {
    "duration": 5,
    "start_time": "2023-11-20T14:23:00.339Z"
   },
   {
    "duration": 33,
    "start_time": "2023-11-20T14:23:01.046Z"
   },
   {
    "duration": 11,
    "start_time": "2023-11-20T14:23:01.678Z"
   },
   {
    "duration": 9771,
    "start_time": "2023-11-20T14:23:59.551Z"
   },
   {
    "duration": 28,
    "start_time": "2023-11-20T14:24:09.324Z"
   },
   {
    "duration": 18,
    "start_time": "2023-11-20T14:24:09.354Z"
   },
   {
    "duration": 74,
    "start_time": "2023-11-20T14:24:09.374Z"
   },
   {
    "duration": 5,
    "start_time": "2023-11-20T14:24:09.449Z"
   },
   {
    "duration": 239,
    "start_time": "2023-11-20T14:24:09.456Z"
   },
   {
    "duration": 69,
    "start_time": "2023-11-20T14:24:09.696Z"
   },
   {
    "duration": 75,
    "start_time": "2023-11-20T14:24:09.767Z"
   },
   {
    "duration": 3,
    "start_time": "2023-11-20T14:24:09.844Z"
   },
   {
    "duration": 4,
    "start_time": "2023-11-20T14:24:10.095Z"
   },
   {
    "duration": 164,
    "start_time": "2023-11-20T14:24:10.522Z"
   },
   {
    "duration": 5,
    "start_time": "2023-11-20T14:24:10.841Z"
   },
   {
    "duration": 8,
    "start_time": "2023-11-20T14:24:11.185Z"
   },
   {
    "duration": 2516,
    "start_time": "2023-11-20T14:24:11.617Z"
   },
   {
    "duration": 6,
    "start_time": "2023-11-20T14:24:14.135Z"
   },
   {
    "duration": 50,
    "start_time": "2023-11-20T14:24:14.142Z"
   },
   {
    "duration": 16,
    "start_time": "2023-11-20T14:24:14.194Z"
   },
   {
    "duration": 9510,
    "start_time": "2023-11-20T14:24:23.236Z"
   },
   {
    "duration": 65,
    "start_time": "2023-11-20T14:24:32.748Z"
   },
   {
    "duration": 28,
    "start_time": "2023-11-20T14:24:32.815Z"
   },
   {
    "duration": 35,
    "start_time": "2023-11-20T14:26:20.009Z"
   },
   {
    "duration": 19,
    "start_time": "2023-11-20T14:26:21.167Z"
   },
   {
    "duration": 53,
    "start_time": "2023-11-20T14:27:02.105Z"
   },
   {
    "duration": 13,
    "start_time": "2023-11-20T14:27:15.929Z"
   },
   {
    "duration": 25,
    "start_time": "2023-11-20T14:28:30.323Z"
   },
   {
    "duration": 13,
    "start_time": "2023-11-20T14:28:42.420Z"
   },
   {
    "duration": 39,
    "start_time": "2023-11-20T14:30:04.273Z"
   },
   {
    "duration": 11,
    "start_time": "2023-11-20T14:30:09.073Z"
   },
   {
    "duration": 16,
    "start_time": "2023-11-20T14:34:57.446Z"
   },
   {
    "duration": 15,
    "start_time": "2023-11-20T14:35:33.382Z"
   },
   {
    "duration": 75,
    "start_time": "2023-11-20T14:35:34.270Z"
   },
   {
    "duration": 22,
    "start_time": "2023-11-20T14:35:57.662Z"
   },
   {
    "duration": 20,
    "start_time": "2023-11-20T14:36:12.162Z"
   },
   {
    "duration": 22,
    "start_time": "2023-11-20T14:36:47.037Z"
   },
   {
    "duration": 23,
    "start_time": "2023-11-20T14:36:47.650Z"
   },
   {
    "duration": 103,
    "start_time": "2023-11-20T14:37:32.398Z"
   },
   {
    "duration": 14,
    "start_time": "2023-11-20T14:37:49.645Z"
   },
   {
    "duration": 316,
    "start_time": "2023-11-20T14:37:59.944Z"
   },
   {
    "duration": 24,
    "start_time": "2023-11-20T14:46:03.204Z"
   },
   {
    "duration": 16,
    "start_time": "2023-11-20T14:46:03.608Z"
   },
   {
    "duration": 16,
    "start_time": "2023-11-20T14:46:04.060Z"
   },
   {
    "duration": 23,
    "start_time": "2023-11-20T14:46:05.469Z"
   },
   {
    "duration": 60,
    "start_time": "2023-11-20T15:03:56.595Z"
   },
   {
    "duration": 10,
    "start_time": "2023-11-20T15:03:58.905Z"
   },
   {
    "duration": 16,
    "start_time": "2023-11-20T15:03:59.485Z"
   },
   {
    "duration": 9,
    "start_time": "2023-11-20T15:04:11.609Z"
   },
   {
    "duration": 18,
    "start_time": "2023-11-20T15:04:14.640Z"
   },
   {
    "duration": 12,
    "start_time": "2023-11-20T15:04:45.934Z"
   },
   {
    "duration": 18,
    "start_time": "2023-11-20T15:04:57.398Z"
   },
   {
    "duration": 13,
    "start_time": "2023-11-20T15:05:31.463Z"
   },
   {
    "duration": 102,
    "start_time": "2023-11-20T15:05:32.083Z"
   },
   {
    "duration": 3,
    "start_time": "2023-11-20T15:05:42.623Z"
   },
   {
    "duration": 81,
    "start_time": "2023-11-20T15:18:54.692Z"
   },
   {
    "duration": 99,
    "start_time": "2023-11-20T15:19:41.350Z"
   },
   {
    "duration": 22,
    "start_time": "2023-11-20T15:19:56.284Z"
   },
   {
    "duration": 23,
    "start_time": "2023-11-20T15:20:33.255Z"
   },
   {
    "duration": 41,
    "start_time": "2023-11-20T15:21:07.869Z"
   },
   {
    "duration": 52,
    "start_time": "2023-11-20T15:21:32.218Z"
   },
   {
    "duration": 1199,
    "start_time": "2023-11-20T15:23:38.931Z"
   },
   {
    "duration": 53,
    "start_time": "2023-11-20T15:23:40.131Z"
   },
   {
    "duration": 321,
    "start_time": "2023-11-20T15:23:40.185Z"
   },
   {
    "duration": 22,
    "start_time": "2023-11-20T15:23:40.508Z"
   },
   {
    "duration": 15,
    "start_time": "2023-11-20T15:23:40.531Z"
   },
   {
    "duration": 25,
    "start_time": "2023-11-20T15:23:40.548Z"
   },
   {
    "duration": 4,
    "start_time": "2023-11-20T15:23:40.575Z"
   },
   {
    "duration": 35,
    "start_time": "2023-11-20T15:23:40.580Z"
   },
   {
    "duration": 19,
    "start_time": "2023-11-20T15:23:40.616Z"
   },
   {
    "duration": 30,
    "start_time": "2023-11-20T15:23:40.638Z"
   },
   {
    "duration": 6,
    "start_time": "2023-11-20T15:23:40.670Z"
   },
   {
    "duration": 35,
    "start_time": "2023-11-20T15:23:40.678Z"
   },
   {
    "duration": 7,
    "start_time": "2023-11-20T15:23:40.715Z"
   },
   {
    "duration": 78,
    "start_time": "2023-11-20T15:23:40.723Z"
   },
   {
    "duration": 17,
    "start_time": "2023-11-20T15:23:40.802Z"
   },
   {
    "duration": 32,
    "start_time": "2023-11-20T15:23:40.820Z"
   },
   {
    "duration": 38,
    "start_time": "2023-11-20T15:23:40.854Z"
   },
   {
    "duration": 57,
    "start_time": "2023-11-20T15:23:40.894Z"
   },
   {
    "duration": 11,
    "start_time": "2023-11-20T15:23:40.953Z"
   },
   {
    "duration": 27,
    "start_time": "2023-11-20T15:23:40.965Z"
   },
   {
    "duration": 136,
    "start_time": "2023-11-20T15:23:40.993Z"
   },
   {
    "duration": 6,
    "start_time": "2023-11-20T15:23:41.130Z"
   },
   {
    "duration": 11,
    "start_time": "2023-11-20T15:23:41.138Z"
   },
   {
    "duration": 33,
    "start_time": "2023-11-20T15:23:41.151Z"
   },
   {
    "duration": 39,
    "start_time": "2023-11-20T15:23:41.186Z"
   },
   {
    "duration": 971,
    "start_time": "2023-11-20T15:23:41.226Z"
   },
   {
    "duration": 175,
    "start_time": "2023-11-20T15:23:42.199Z"
   },
   {
    "duration": 268,
    "start_time": "2023-11-20T15:23:42.378Z"
   },
   {
    "duration": 195,
    "start_time": "2023-11-20T15:23:42.647Z"
   },
   {
    "duration": 75,
    "start_time": "2023-11-20T15:23:42.843Z"
   },
   {
    "duration": 14,
    "start_time": "2023-11-20T15:23:42.919Z"
   },
   {
    "duration": 64,
    "start_time": "2023-11-20T15:23:42.934Z"
   },
   {
    "duration": 1426,
    "start_time": "2023-11-20T15:23:42.999Z"
   },
   {
    "duration": 368,
    "start_time": "2023-11-20T15:23:44.427Z"
   },
   {
    "duration": 376,
    "start_time": "2023-11-20T15:23:44.797Z"
   },
   {
    "duration": 121,
    "start_time": "2023-11-20T15:23:45.175Z"
   },
   {
    "duration": 0,
    "start_time": "2023-11-20T15:23:45.298Z"
   },
   {
    "duration": 0,
    "start_time": "2023-11-20T15:23:45.299Z"
   },
   {
    "duration": 0,
    "start_time": "2023-11-20T15:23:45.301Z"
   },
   {
    "duration": 0,
    "start_time": "2023-11-20T15:23:45.302Z"
   },
   {
    "duration": 0,
    "start_time": "2023-11-20T15:23:45.303Z"
   },
   {
    "duration": 0,
    "start_time": "2023-11-20T15:23:45.305Z"
   },
   {
    "duration": 0,
    "start_time": "2023-11-20T15:23:45.306Z"
   },
   {
    "duration": 0,
    "start_time": "2023-11-20T15:23:45.308Z"
   },
   {
    "duration": 0,
    "start_time": "2023-11-20T15:23:45.309Z"
   },
   {
    "duration": 0,
    "start_time": "2023-11-20T15:23:45.310Z"
   },
   {
    "duration": 0,
    "start_time": "2023-11-20T15:23:45.312Z"
   },
   {
    "duration": 0,
    "start_time": "2023-11-20T15:23:45.313Z"
   },
   {
    "duration": 0,
    "start_time": "2023-11-20T15:23:45.315Z"
   },
   {
    "duration": 0,
    "start_time": "2023-11-20T15:23:45.316Z"
   },
   {
    "duration": 0,
    "start_time": "2023-11-20T15:23:45.318Z"
   },
   {
    "duration": 0,
    "start_time": "2023-11-20T15:23:45.319Z"
   },
   {
    "duration": 0,
    "start_time": "2023-11-20T15:23:45.321Z"
   },
   {
    "duration": 0,
    "start_time": "2023-11-20T15:23:45.322Z"
   },
   {
    "duration": 0,
    "start_time": "2023-11-20T15:23:45.324Z"
   },
   {
    "duration": 0,
    "start_time": "2023-11-20T15:23:45.325Z"
   },
   {
    "duration": 0,
    "start_time": "2023-11-20T15:23:45.327Z"
   },
   {
    "duration": 0,
    "start_time": "2023-11-20T15:23:45.328Z"
   },
   {
    "duration": 0,
    "start_time": "2023-11-20T15:23:45.329Z"
   },
   {
    "duration": 0,
    "start_time": "2023-11-20T15:23:45.331Z"
   },
   {
    "duration": 0,
    "start_time": "2023-11-20T15:23:45.332Z"
   },
   {
    "duration": 0,
    "start_time": "2023-11-20T15:23:45.334Z"
   },
   {
    "duration": 0,
    "start_time": "2023-11-20T15:23:45.335Z"
   },
   {
    "duration": 0,
    "start_time": "2023-11-20T15:23:45.336Z"
   },
   {
    "duration": 0,
    "start_time": "2023-11-20T15:23:45.518Z"
   },
   {
    "duration": 0,
    "start_time": "2023-11-20T15:23:45.519Z"
   },
   {
    "duration": 0,
    "start_time": "2023-11-20T15:23:45.520Z"
   },
   {
    "duration": 0,
    "start_time": "2023-11-20T15:23:45.521Z"
   },
   {
    "duration": 0,
    "start_time": "2023-11-20T15:23:45.522Z"
   },
   {
    "duration": 0,
    "start_time": "2023-11-20T15:23:45.523Z"
   },
   {
    "duration": 0,
    "start_time": "2023-11-20T15:23:45.524Z"
   },
   {
    "duration": 0,
    "start_time": "2023-11-20T15:23:45.525Z"
   },
   {
    "duration": 0,
    "start_time": "2023-11-20T15:23:45.526Z"
   },
   {
    "duration": 0,
    "start_time": "2023-11-20T15:23:45.527Z"
   },
   {
    "duration": 0,
    "start_time": "2023-11-20T15:23:45.528Z"
   },
   {
    "duration": 0,
    "start_time": "2023-11-20T15:23:45.529Z"
   },
   {
    "duration": 0,
    "start_time": "2023-11-20T15:23:45.530Z"
   },
   {
    "duration": 0,
    "start_time": "2023-11-20T15:23:45.531Z"
   },
   {
    "duration": 0,
    "start_time": "2023-11-20T15:23:45.532Z"
   },
   {
    "duration": 0,
    "start_time": "2023-11-20T15:23:45.533Z"
   },
   {
    "duration": 0,
    "start_time": "2023-11-20T15:23:45.534Z"
   },
   {
    "duration": 0,
    "start_time": "2023-11-20T15:23:45.535Z"
   },
   {
    "duration": 0,
    "start_time": "2023-11-20T15:23:45.535Z"
   },
   {
    "duration": 0,
    "start_time": "2023-11-20T15:23:45.536Z"
   },
   {
    "duration": 221,
    "start_time": "2023-11-20T15:28:22.420Z"
   },
   {
    "duration": 179,
    "start_time": "2023-11-20T15:28:23.491Z"
   },
   {
    "duration": 39,
    "start_time": "2023-11-20T15:28:28.059Z"
   },
   {
    "duration": 2507,
    "start_time": "2023-11-20T15:28:28.597Z"
   },
   {
    "duration": 8,
    "start_time": "2023-11-20T15:28:31.106Z"
   },
   {
    "duration": 778,
    "start_time": "2023-11-20T15:28:32.073Z"
   },
   {
    "duration": 3561,
    "start_time": "2023-11-20T15:28:34.394Z"
   },
   {
    "duration": 34,
    "start_time": "2023-11-20T15:28:37.957Z"
   },
   {
    "duration": 25,
    "start_time": "2023-11-20T15:28:37.993Z"
   },
   {
    "duration": 111,
    "start_time": "2023-11-20T15:29:11.831Z"
   },
   {
    "duration": 81,
    "start_time": "2023-11-20T15:29:25.909Z"
   },
   {
    "duration": 5,
    "start_time": "2023-11-20T15:29:28.452Z"
   },
   {
    "duration": 188,
    "start_time": "2023-11-20T15:29:28.939Z"
   },
   {
    "duration": 45,
    "start_time": "2023-11-20T15:29:30.129Z"
   },
   {
    "duration": 121,
    "start_time": "2023-11-20T15:29:33.898Z"
   },
   {
    "duration": 4,
    "start_time": "2023-11-20T15:29:34.365Z"
   },
   {
    "duration": 4,
    "start_time": "2023-11-20T15:29:34.949Z"
   },
   {
    "duration": 305,
    "start_time": "2023-11-20T15:29:35.493Z"
   },
   {
    "duration": 5,
    "start_time": "2023-11-20T15:29:36.028Z"
   },
   {
    "duration": 7,
    "start_time": "2023-11-20T15:29:36.551Z"
   },
   {
    "duration": 1356,
    "start_time": "2023-11-20T15:29:37.086Z"
   },
   {
    "duration": 6,
    "start_time": "2023-11-20T15:29:38.444Z"
   },
   {
    "duration": 88,
    "start_time": "2023-11-20T15:29:38.451Z"
   },
   {
    "duration": 116,
    "start_time": "2023-11-20T15:29:38.793Z"
   },
   {
    "duration": 3570,
    "start_time": "2023-11-20T15:29:41.903Z"
   },
   {
    "duration": 64,
    "start_time": "2023-11-20T15:29:45.475Z"
   },
   {
    "duration": 27,
    "start_time": "2023-11-20T15:29:45.540Z"
   },
   {
    "duration": 25,
    "start_time": "2023-11-20T16:45:25.374Z"
   },
   {
    "duration": 2283,
    "start_time": "2023-11-20T16:46:17.715Z"
   },
   {
    "duration": 15,
    "start_time": "2023-11-20T16:46:35.794Z"
   },
   {
    "duration": 22,
    "start_time": "2023-11-20T16:48:25.754Z"
   },
   {
    "duration": 21,
    "start_time": "2023-11-20T16:56:42.051Z"
   },
   {
    "duration": 47,
    "start_time": "2023-11-20T16:56:45.147Z"
   },
   {
    "duration": 19,
    "start_time": "2023-11-20T16:56:45.900Z"
   },
   {
    "duration": 49,
    "start_time": "2023-11-20T16:57:13.130Z"
   },
   {
    "duration": 12,
    "start_time": "2023-11-20T16:57:13.647Z"
   },
   {
    "duration": 25,
    "start_time": "2023-11-20T16:57:15.322Z"
   },
   {
    "duration": 13,
    "start_time": "2023-11-20T16:57:15.695Z"
   },
   {
    "duration": 37,
    "start_time": "2023-11-20T16:58:39.081Z"
   },
   {
    "duration": 11,
    "start_time": "2023-11-20T16:58:39.282Z"
   },
   {
    "duration": 11,
    "start_time": "2023-11-20T17:07:18.953Z"
   },
   {
    "duration": 15,
    "start_time": "2023-11-20T17:07:21.287Z"
   },
   {
    "duration": 22,
    "start_time": "2023-11-20T17:07:23.163Z"
   },
   {
    "duration": 25,
    "start_time": "2023-11-20T17:07:23.776Z"
   },
   {
    "duration": 24,
    "start_time": "2023-11-20T17:07:24.205Z"
   },
   {
    "duration": 357,
    "start_time": "2023-11-20T17:07:25.178Z"
   },
   {
    "duration": 60,
    "start_time": "2023-11-20T17:07:43.465Z"
   },
   {
    "duration": 152,
    "start_time": "2023-11-20T17:54:07.294Z"
   },
   {
    "duration": 27,
    "start_time": "2023-11-20T17:54:10.932Z"
   },
   {
    "duration": 17,
    "start_time": "2023-11-20T17:54:11.467Z"
   },
   {
    "duration": 21,
    "start_time": "2023-11-20T17:54:11.932Z"
   },
   {
    "duration": 23,
    "start_time": "2023-11-20T17:54:12.945Z"
   },
   {
    "duration": 3,
    "start_time": "2023-11-20T17:54:13.495Z"
   },
   {
    "duration": 37,
    "start_time": "2023-11-20T17:55:17.285Z"
   },
   {
    "duration": 14,
    "start_time": "2023-11-20T18:01:29.317Z"
   },
   {
    "duration": 120,
    "start_time": "2023-11-20T18:01:29.951Z"
   },
   {
    "duration": 4,
    "start_time": "2023-11-20T18:01:32.536Z"
   },
   {
    "duration": 103,
    "start_time": "2023-11-20T18:02:35.377Z"
   },
   {
    "duration": 33,
    "start_time": "2023-11-20T18:22:23.686Z"
   },
   {
    "duration": 25,
    "start_time": "2023-11-20T18:22:24.518Z"
   },
   {
    "duration": 39,
    "start_time": "2023-11-20T18:26:12.518Z"
   },
   {
    "duration": 18,
    "start_time": "2023-11-20T18:26:12.951Z"
   },
   {
    "duration": 12,
    "start_time": "2023-11-20T18:26:13.878Z"
   },
   {
    "duration": 5,
    "start_time": "2023-11-20T18:26:14.456Z"
   },
   {
    "duration": 150,
    "start_time": "2023-11-20T18:26:14.878Z"
   },
   {
    "duration": 7,
    "start_time": "2023-11-20T18:26:16.182Z"
   },
   {
    "duration": 5,
    "start_time": "2023-11-20T18:26:22.386Z"
   },
   {
    "duration": 8,
    "start_time": "2023-11-20T18:26:23.286Z"
   },
   {
    "duration": 3,
    "start_time": "2023-11-20T18:26:23.768Z"
   },
   {
    "duration": 5,
    "start_time": "2023-11-20T18:26:24.256Z"
   },
   {
    "duration": 348,
    "start_time": "2023-11-20T18:26:24.840Z"
   },
   {
    "duration": 4,
    "start_time": "2023-11-20T18:26:25.303Z"
   },
   {
    "duration": 12,
    "start_time": "2023-11-20T18:26:25.865Z"
   },
   {
    "duration": 249,
    "start_time": "2023-11-20T18:26:26.494Z"
   },
   {
    "duration": 5,
    "start_time": "2023-11-20T18:26:27.397Z"
   },
   {
    "duration": 14,
    "start_time": "2023-11-20T18:26:27.937Z"
   },
   {
    "duration": 13,
    "start_time": "2023-11-20T18:26:28.521Z"
   },
   {
    "duration": 6,
    "start_time": "2023-11-20T18:26:52.582Z"
   },
   {
    "duration": 8,
    "start_time": "2023-11-20T18:26:54.400Z"
   },
   {
    "duration": 7,
    "start_time": "2023-11-20T18:26:54.705Z"
   },
   {
    "duration": 5,
    "start_time": "2023-11-20T18:27:03.552Z"
   },
   {
    "duration": 9,
    "start_time": "2023-11-20T18:27:07.863Z"
   },
   {
    "duration": 11,
    "start_time": "2023-11-20T18:27:08.216Z"
   },
   {
    "duration": 1256,
    "start_time": "2023-11-20T18:45:15.013Z"
   },
   {
    "duration": 57,
    "start_time": "2023-11-20T18:45:16.271Z"
   },
   {
    "duration": 302,
    "start_time": "2023-11-20T18:45:16.329Z"
   },
   {
    "duration": 21,
    "start_time": "2023-11-20T18:45:16.633Z"
   },
   {
    "duration": 10,
    "start_time": "2023-11-20T18:45:16.656Z"
   },
   {
    "duration": 26,
    "start_time": "2023-11-20T18:45:16.667Z"
   },
   {
    "duration": 4,
    "start_time": "2023-11-20T18:45:16.695Z"
   },
   {
    "duration": 42,
    "start_time": "2023-11-20T18:45:16.712Z"
   },
   {
    "duration": 10,
    "start_time": "2023-11-20T18:45:16.757Z"
   },
   {
    "duration": 27,
    "start_time": "2023-11-20T18:45:16.770Z"
   },
   {
    "duration": 7,
    "start_time": "2023-11-20T18:45:16.799Z"
   },
   {
    "duration": 26,
    "start_time": "2023-11-20T18:45:16.808Z"
   },
   {
    "duration": 10,
    "start_time": "2023-11-20T18:45:16.836Z"
   },
   {
    "duration": 89,
    "start_time": "2023-11-20T18:45:16.848Z"
   },
   {
    "duration": 9,
    "start_time": "2023-11-20T18:45:16.938Z"
   },
   {
    "duration": 26,
    "start_time": "2023-11-20T18:45:16.948Z"
   },
   {
    "duration": 61,
    "start_time": "2023-11-20T18:45:16.976Z"
   },
   {
    "duration": 42,
    "start_time": "2023-11-20T18:45:17.039Z"
   },
   {
    "duration": 11,
    "start_time": "2023-11-20T18:45:17.083Z"
   },
   {
    "duration": 19,
    "start_time": "2023-11-20T18:45:17.113Z"
   },
   {
    "duration": 134,
    "start_time": "2023-11-20T18:45:17.133Z"
   },
   {
    "duration": 7,
    "start_time": "2023-11-20T18:45:17.268Z"
   },
   {
    "duration": 6,
    "start_time": "2023-11-20T18:45:17.276Z"
   },
   {
    "duration": 48,
    "start_time": "2023-11-20T18:45:17.284Z"
   },
   {
    "duration": 24,
    "start_time": "2023-11-20T18:45:17.334Z"
   },
   {
    "duration": 990,
    "start_time": "2023-11-20T18:45:17.360Z"
   },
   {
    "duration": 189,
    "start_time": "2023-11-20T18:45:18.351Z"
   },
   {
    "duration": 270,
    "start_time": "2023-11-20T18:45:18.544Z"
   },
   {
    "duration": 199,
    "start_time": "2023-11-20T18:45:18.816Z"
   },
   {
    "duration": 69,
    "start_time": "2023-11-20T18:45:19.016Z"
   },
   {
    "duration": 27,
    "start_time": "2023-11-20T18:45:19.086Z"
   },
   {
    "duration": 46,
    "start_time": "2023-11-20T18:45:19.115Z"
   },
   {
    "duration": 1631,
    "start_time": "2023-11-20T18:45:19.163Z"
   },
   {
    "duration": 367,
    "start_time": "2023-11-20T18:45:20.796Z"
   },
   {
    "duration": 484,
    "start_time": "2023-11-20T18:45:21.165Z"
   },
   {
    "duration": 241,
    "start_time": "2023-11-20T18:45:21.651Z"
   },
   {
    "duration": 196,
    "start_time": "2023-11-20T18:45:21.894Z"
   },
   {
    "duration": 51,
    "start_time": "2023-11-20T18:45:22.092Z"
   },
   {
    "duration": 2627,
    "start_time": "2023-11-20T18:45:22.145Z"
   },
   {
    "duration": 7,
    "start_time": "2023-11-20T18:45:24.774Z"
   },
   {
    "duration": 819,
    "start_time": "2023-11-20T18:45:24.783Z"
   },
   {
    "duration": 39,
    "start_time": "2023-11-20T18:45:25.604Z"
   },
   {
    "duration": 120,
    "start_time": "2023-11-20T18:45:25.644Z"
   },
   {
    "duration": 0,
    "start_time": "2023-11-20T18:45:25.765Z"
   },
   {
    "duration": 0,
    "start_time": "2023-11-20T18:45:25.767Z"
   },
   {
    "duration": 0,
    "start_time": "2023-11-20T18:45:25.768Z"
   },
   {
    "duration": 0,
    "start_time": "2023-11-20T18:45:25.769Z"
   },
   {
    "duration": 0,
    "start_time": "2023-11-20T18:45:25.770Z"
   },
   {
    "duration": 0,
    "start_time": "2023-11-20T18:45:25.771Z"
   },
   {
    "duration": 0,
    "start_time": "2023-11-20T18:45:25.772Z"
   },
   {
    "duration": 0,
    "start_time": "2023-11-20T18:45:25.773Z"
   },
   {
    "duration": 0,
    "start_time": "2023-11-20T18:45:25.774Z"
   },
   {
    "duration": 0,
    "start_time": "2023-11-20T18:45:25.775Z"
   },
   {
    "duration": 0,
    "start_time": "2023-11-20T18:45:25.776Z"
   },
   {
    "duration": 0,
    "start_time": "2023-11-20T18:45:25.777Z"
   },
   {
    "duration": 0,
    "start_time": "2023-11-20T18:45:25.778Z"
   },
   {
    "duration": 0,
    "start_time": "2023-11-20T18:45:25.779Z"
   },
   {
    "duration": 0,
    "start_time": "2023-11-20T18:45:25.780Z"
   },
   {
    "duration": 0,
    "start_time": "2023-11-20T18:45:25.781Z"
   },
   {
    "duration": 0,
    "start_time": "2023-11-20T18:45:25.782Z"
   },
   {
    "duration": 0,
    "start_time": "2023-11-20T18:45:25.783Z"
   },
   {
    "duration": 0,
    "start_time": "2023-11-20T18:45:25.784Z"
   },
   {
    "duration": 0,
    "start_time": "2023-11-20T18:45:25.813Z"
   },
   {
    "duration": 0,
    "start_time": "2023-11-20T18:45:25.814Z"
   },
   {
    "duration": 0,
    "start_time": "2023-11-20T18:45:25.815Z"
   },
   {
    "duration": 0,
    "start_time": "2023-11-20T18:45:25.816Z"
   },
   {
    "duration": 0,
    "start_time": "2023-11-20T18:45:25.817Z"
   },
   {
    "duration": 0,
    "start_time": "2023-11-20T18:45:25.818Z"
   },
   {
    "duration": 0,
    "start_time": "2023-11-20T18:45:25.819Z"
   },
   {
    "duration": 0,
    "start_time": "2023-11-20T18:45:25.820Z"
   },
   {
    "duration": 0,
    "start_time": "2023-11-20T18:45:25.821Z"
   },
   {
    "duration": 0,
    "start_time": "2023-11-20T18:45:25.821Z"
   },
   {
    "duration": 0,
    "start_time": "2023-11-20T18:45:25.822Z"
   },
   {
    "duration": 0,
    "start_time": "2023-11-20T18:45:25.823Z"
   },
   {
    "duration": 0,
    "start_time": "2023-11-20T18:45:25.824Z"
   },
   {
    "duration": 0,
    "start_time": "2023-11-20T18:45:25.825Z"
   },
   {
    "duration": 0,
    "start_time": "2023-11-20T18:45:25.826Z"
   },
   {
    "duration": 0,
    "start_time": "2023-11-20T18:45:25.827Z"
   },
   {
    "duration": 0,
    "start_time": "2023-11-20T18:45:25.828Z"
   },
   {
    "duration": 0,
    "start_time": "2023-11-20T18:45:25.828Z"
   },
   {
    "duration": 0,
    "start_time": "2023-11-20T18:45:25.829Z"
   },
   {
    "duration": 0,
    "start_time": "2023-11-20T18:45:25.830Z"
   },
   {
    "duration": 3,
    "start_time": "2023-11-20T18:47:36.484Z"
   },
   {
    "duration": 3,
    "start_time": "2023-11-20T18:47:38.506Z"
   },
   {
    "duration": 253,
    "start_time": "2023-11-20T18:47:40.719Z"
   },
   {
    "duration": 19,
    "start_time": "2023-11-20T18:47:42.211Z"
   },
   {
    "duration": 11,
    "start_time": "2023-11-20T18:47:43.302Z"
   },
   {
    "duration": 15,
    "start_time": "2023-11-20T18:47:43.751Z"
   },
   {
    "duration": 4,
    "start_time": "2023-11-20T18:47:44.221Z"
   },
   {
    "duration": 8,
    "start_time": "2023-11-20T18:47:44.425Z"
   },
   {
    "duration": 10,
    "start_time": "2023-11-20T18:47:44.617Z"
   },
   {
    "duration": 27,
    "start_time": "2023-11-20T18:47:44.845Z"
   },
   {
    "duration": 8,
    "start_time": "2023-11-20T18:47:46.102Z"
   },
   {
    "duration": 22,
    "start_time": "2023-11-20T18:47:46.795Z"
   },
   {
    "duration": 7,
    "start_time": "2023-11-20T18:47:47.352Z"
   },
   {
    "duration": 5,
    "start_time": "2023-11-20T18:48:00.060Z"
   },
   {
    "duration": 13,
    "start_time": "2023-11-20T18:48:01.993Z"
   },
   {
    "duration": 7,
    "start_time": "2023-11-20T18:48:02.919Z"
   },
   {
    "duration": 74,
    "start_time": "2023-11-20T18:48:03.903Z"
   },
   {
    "duration": 72,
    "start_time": "2023-11-20T18:48:23.526Z"
   },
   {
    "duration": 7,
    "start_time": "2023-11-20T18:48:24.657Z"
   },
   {
    "duration": 23,
    "start_time": "2023-11-20T18:48:25.795Z"
   },
   {
    "duration": 41,
    "start_time": "2023-11-20T18:48:26.292Z"
   },
   {
    "duration": 40,
    "start_time": "2023-11-20T18:48:27.256Z"
   },
   {
    "duration": 10,
    "start_time": "2023-11-20T18:48:27.832Z"
   },
   {
    "duration": 20,
    "start_time": "2023-11-20T18:48:28.898Z"
   },
   {
    "duration": 106,
    "start_time": "2023-11-20T18:48:29.458Z"
   },
   {
    "duration": 6,
    "start_time": "2023-11-20T18:48:30.601Z"
   },
   {
    "duration": 5,
    "start_time": "2023-11-20T18:48:31.226Z"
   },
   {
    "duration": 26,
    "start_time": "2023-11-20T18:48:32.650Z"
   },
   {
    "duration": 23,
    "start_time": "2023-11-20T18:48:33.076Z"
   },
   {
    "duration": 790,
    "start_time": "2023-11-20T18:48:35.546Z"
   },
   {
    "duration": 253,
    "start_time": "2023-11-20T18:48:38.923Z"
   },
   {
    "duration": 262,
    "start_time": "2023-11-20T18:48:39.580Z"
   },
   {
    "duration": 183,
    "start_time": "2023-11-20T18:48:40.179Z"
   },
   {
    "duration": 69,
    "start_time": "2023-11-20T18:48:43.467Z"
   },
   {
    "duration": 13,
    "start_time": "2023-11-20T18:48:43.633Z"
   },
   {
    "duration": 332,
    "start_time": "2023-11-20T18:48:57.104Z"
   },
   {
    "duration": 226,
    "start_time": "2023-11-20T18:49:12.292Z"
   },
   {
    "duration": 221,
    "start_time": "2023-11-20T18:49:23.141Z"
   },
   {
    "duration": 202,
    "start_time": "2023-11-20T18:49:32.171Z"
   },
   {
    "duration": 61,
    "start_time": "2023-11-20T18:49:40.510Z"
   },
   {
    "duration": 196,
    "start_time": "2023-11-20T18:49:45.766Z"
   },
   {
    "duration": 179,
    "start_time": "2023-11-20T18:49:48.666Z"
   },
   {
    "duration": 13,
    "start_time": "2023-11-20T18:49:49.088Z"
   },
   {
    "duration": 43,
    "start_time": "2023-11-20T18:49:49.451Z"
   },
   {
    "duration": 1397,
    "start_time": "2023-11-20T18:49:49.771Z"
   },
   {
    "duration": 360,
    "start_time": "2023-11-20T18:49:54.534Z"
   },
   {
    "duration": 354,
    "start_time": "2023-11-20T18:49:55.466Z"
   },
   {
    "duration": 225,
    "start_time": "2023-11-20T18:49:56.195Z"
   },
   {
    "duration": 187,
    "start_time": "2023-11-20T18:49:56.938Z"
   },
   {
    "duration": 42,
    "start_time": "2023-11-20T18:50:00.868Z"
   },
   {
    "duration": 40,
    "start_time": "2023-11-20T18:50:06.105Z"
   },
   {
    "duration": 2675,
    "start_time": "2023-11-20T18:50:06.341Z"
   },
   {
    "duration": 9,
    "start_time": "2023-11-20T18:50:09.018Z"
   },
   {
    "duration": 811,
    "start_time": "2023-11-20T18:50:09.028Z"
   },
   {
    "duration": 34,
    "start_time": "2023-11-20T18:50:13.687Z"
   },
   {
    "duration": 21,
    "start_time": "2023-11-20T18:50:14.386Z"
   },
   {
    "duration": 3845,
    "start_time": "2023-11-20T18:52:40.519Z"
   },
   {
    "duration": 36,
    "start_time": "2023-11-20T18:52:44.366Z"
   },
   {
    "duration": 16,
    "start_time": "2023-11-20T18:52:44.533Z"
   },
   {
    "duration": 3850,
    "start_time": "2023-11-20T18:54:42.377Z"
   },
   {
    "duration": 2223,
    "start_time": "2023-11-20T18:55:48.833Z"
   },
   {
    "duration": 2221,
    "start_time": "2023-11-20T18:55:57.805Z"
   },
   {
    "duration": 2338,
    "start_time": "2023-11-20T18:56:05.404Z"
   },
   {
    "duration": 0,
    "start_time": "2023-11-20T18:56:07.744Z"
   },
   {
    "duration": 41,
    "start_time": "2023-11-20T18:56:13.882Z"
   },
   {
    "duration": 2380,
    "start_time": "2023-11-20T18:56:14.554Z"
   },
   {
    "duration": 0,
    "start_time": "2023-11-20T18:56:16.935Z"
   },
   {
    "duration": 3816,
    "start_time": "2023-11-20T18:56:23.732Z"
   },
   {
    "duration": 34,
    "start_time": "2023-11-20T18:56:30.387Z"
   },
   {
    "duration": 19,
    "start_time": "2023-11-20T18:56:30.773Z"
   },
   {
    "duration": 13,
    "start_time": "2023-11-20T18:56:33.114Z"
   },
   {
    "duration": 5,
    "start_time": "2023-11-20T18:56:33.726Z"
   },
   {
    "duration": 172,
    "start_time": "2023-11-20T18:56:34.326Z"
   },
   {
    "duration": 5,
    "start_time": "2023-11-20T18:56:35.214Z"
   },
   {
    "duration": 7,
    "start_time": "2023-11-20T18:56:38.807Z"
   },
   {
    "duration": 5,
    "start_time": "2023-11-20T18:56:39.337Z"
   },
   {
    "duration": 5,
    "start_time": "2023-11-20T18:56:39.826Z"
   },
   {
    "duration": 325,
    "start_time": "2023-11-20T18:56:40.332Z"
   },
   {
    "duration": 5,
    "start_time": "2023-11-20T18:56:40.773Z"
   },
   {
    "duration": 8,
    "start_time": "2023-11-20T18:56:41.262Z"
   },
   {
    "duration": 408,
    "start_time": "2023-11-20T18:56:41.790Z"
   },
   {
    "duration": 4,
    "start_time": "2023-11-20T18:56:42.269Z"
   },
   {
    "duration": 37,
    "start_time": "2023-11-20T18:56:42.696Z"
   },
   {
    "duration": 122,
    "start_time": "2023-11-20T18:56:43.130Z"
   },
   {
    "duration": 14,
    "start_time": "2023-11-20T18:57:23.286Z"
   },
   {
    "duration": 42,
    "start_time": "2023-11-20T18:57:24.254Z"
   },
   {
    "duration": 20,
    "start_time": "2023-11-20T18:57:24.404Z"
   },
   {
    "duration": 20,
    "start_time": "2023-11-20T18:57:32.817Z"
   },
   {
    "duration": 3,
    "start_time": "2023-11-20T18:58:59.579Z"
   },
   {
    "duration": 2,
    "start_time": "2023-11-20T18:59:02.166Z"
   },
   {
    "duration": 1211,
    "start_time": "2023-11-20T18:59:18.136Z"
   },
   {
    "duration": 56,
    "start_time": "2023-11-20T18:59:19.349Z"
   },
   {
    "duration": 222,
    "start_time": "2023-11-20T18:59:19.406Z"
   },
   {
    "duration": 20,
    "start_time": "2023-11-20T18:59:19.630Z"
   },
   {
    "duration": 10,
    "start_time": "2023-11-20T18:59:19.651Z"
   },
   {
    "duration": 25,
    "start_time": "2023-11-20T18:59:19.662Z"
   },
   {
    "duration": 4,
    "start_time": "2023-11-20T18:59:19.688Z"
   },
   {
    "duration": 21,
    "start_time": "2023-11-20T18:59:19.694Z"
   },
   {
    "duration": 14,
    "start_time": "2023-11-20T18:59:19.717Z"
   },
   {
    "duration": 44,
    "start_time": "2023-11-20T18:59:19.733Z"
   },
   {
    "duration": 6,
    "start_time": "2023-11-20T18:59:19.778Z"
   },
   {
    "duration": 35,
    "start_time": "2023-11-20T18:59:19.786Z"
   },
   {
    "duration": 10,
    "start_time": "2023-11-20T18:59:19.823Z"
   },
   {
    "duration": 90,
    "start_time": "2023-11-20T18:59:19.835Z"
   },
   {
    "duration": 7,
    "start_time": "2023-11-20T18:59:19.927Z"
   },
   {
    "duration": 34,
    "start_time": "2023-11-20T18:59:19.935Z"
   },
   {
    "duration": 48,
    "start_time": "2023-11-20T18:59:19.971Z"
   },
   {
    "duration": 43,
    "start_time": "2023-11-20T18:59:20.021Z"
   },
   {
    "duration": 15,
    "start_time": "2023-11-20T18:59:20.066Z"
   },
   {
    "duration": 40,
    "start_time": "2023-11-20T18:59:20.083Z"
   },
   {
    "duration": 130,
    "start_time": "2023-11-20T18:59:20.125Z"
   },
   {
    "duration": 7,
    "start_time": "2023-11-20T18:59:20.257Z"
   },
   {
    "duration": 31,
    "start_time": "2023-11-20T18:59:20.266Z"
   },
   {
    "duration": 37,
    "start_time": "2023-11-20T18:59:20.299Z"
   },
   {
    "duration": 25,
    "start_time": "2023-11-20T18:59:20.338Z"
   },
   {
    "duration": 1002,
    "start_time": "2023-11-20T18:59:20.365Z"
   },
   {
    "duration": 182,
    "start_time": "2023-11-20T18:59:21.369Z"
   },
   {
    "duration": 275,
    "start_time": "2023-11-20T18:59:21.557Z"
   },
   {
    "duration": 217,
    "start_time": "2023-11-20T18:59:21.834Z"
   },
   {
    "duration": 80,
    "start_time": "2023-11-20T18:59:22.054Z"
   },
   {
    "duration": 16,
    "start_time": "2023-11-20T18:59:22.136Z"
   },
   {
    "duration": 65,
    "start_time": "2023-11-20T18:59:22.153Z"
   },
   {
    "duration": 1462,
    "start_time": "2023-11-20T18:59:22.220Z"
   },
   {
    "duration": 368,
    "start_time": "2023-11-20T18:59:23.684Z"
   },
   {
    "duration": 469,
    "start_time": "2023-11-20T18:59:24.054Z"
   },
   {
    "duration": 254,
    "start_time": "2023-11-20T18:59:24.524Z"
   },
   {
    "duration": 188,
    "start_time": "2023-11-20T18:59:24.780Z"
   },
   {
    "duration": 49,
    "start_time": "2023-11-20T18:59:24.970Z"
   },
   {
    "duration": 2587,
    "start_time": "2023-11-20T18:59:25.021Z"
   },
   {
    "duration": 8,
    "start_time": "2023-11-20T18:59:27.610Z"
   },
   {
    "duration": 774,
    "start_time": "2023-11-20T18:59:27.620Z"
   },
   {
    "duration": 3693,
    "start_time": "2023-11-20T18:59:28.396Z"
   },
   {
    "duration": 44,
    "start_time": "2023-11-20T18:59:32.090Z"
   },
   {
    "duration": 18,
    "start_time": "2023-11-20T18:59:32.135Z"
   },
   {
    "duration": 12,
    "start_time": "2023-11-20T18:59:32.154Z"
   },
   {
    "duration": 5,
    "start_time": "2023-11-20T18:59:32.168Z"
   },
   {
    "duration": 199,
    "start_time": "2023-11-20T18:59:32.174Z"
   },
   {
    "duration": 5,
    "start_time": "2023-11-20T18:59:32.375Z"
   },
   {
    "duration": 16,
    "start_time": "2023-11-20T18:59:32.382Z"
   },
   {
    "duration": 5,
    "start_time": "2023-11-20T18:59:32.399Z"
   },
   {
    "duration": 58,
    "start_time": "2023-11-20T18:59:32.405Z"
   },
   {
    "duration": 200,
    "start_time": "2023-11-20T18:59:32.465Z"
   },
   {
    "duration": 4,
    "start_time": "2023-11-20T18:59:32.667Z"
   },
   {
    "duration": 10,
    "start_time": "2023-11-20T18:59:32.673Z"
   },
   {
    "duration": 449,
    "start_time": "2023-11-20T18:59:32.684Z"
   },
   {
    "duration": 5,
    "start_time": "2023-11-20T18:59:33.134Z"
   },
   {
    "duration": 40,
    "start_time": "2023-11-20T18:59:33.141Z"
   },
   {
    "duration": 171,
    "start_time": "2023-11-20T18:59:33.182Z"
   },
   {
    "duration": 15,
    "start_time": "2023-11-20T18:59:33.355Z"
   },
   {
    "duration": 76,
    "start_time": "2023-11-20T18:59:33.372Z"
   },
   {
    "duration": 163,
    "start_time": "2023-11-20T18:59:33.450Z"
   },
   {
    "duration": 19,
    "start_time": "2023-11-20T18:59:33.615Z"
   },
   {
    "duration": 52,
    "start_time": "2023-11-20T18:59:33.636Z"
   },
   {
    "duration": 31,
    "start_time": "2023-11-20T18:59:33.690Z"
   },
   {
    "duration": 26,
    "start_time": "2023-11-20T18:59:33.723Z"
   },
   {
    "duration": 11,
    "start_time": "2023-11-20T18:59:33.751Z"
   },
   {
    "duration": 63,
    "start_time": "2023-11-20T18:59:33.763Z"
   },
   {
    "duration": 11,
    "start_time": "2023-11-20T18:59:33.828Z"
   },
   {
    "duration": 16,
    "start_time": "2023-11-20T18:59:33.841Z"
   },
   {
    "duration": 21,
    "start_time": "2023-11-20T18:59:33.858Z"
   },
   {
    "duration": 51,
    "start_time": "2023-11-20T18:59:33.881Z"
   },
   {
    "duration": 25,
    "start_time": "2023-11-20T18:59:33.933Z"
   },
   {
    "duration": 314,
    "start_time": "2023-11-20T18:59:33.960Z"
   },
   {
    "duration": 39,
    "start_time": "2023-11-20T18:59:34.276Z"
   },
   {
    "duration": 17,
    "start_time": "2023-11-20T18:59:34.317Z"
   },
   {
    "duration": 40,
    "start_time": "2023-11-20T18:59:34.336Z"
   },
   {
    "duration": 31,
    "start_time": "2023-11-20T18:59:34.378Z"
   },
   {
    "duration": 11,
    "start_time": "2023-11-20T18:59:34.414Z"
   },
   {
    "duration": 40,
    "start_time": "2023-11-20T18:59:34.426Z"
   },
   {
    "duration": 118,
    "start_time": "2023-11-20T18:59:34.468Z"
   },
   {
    "duration": 3,
    "start_time": "2023-11-20T18:59:34.587Z"
   },
   {
    "duration": 5,
    "start_time": "2023-11-20T19:14:22.656Z"
   },
   {
    "duration": 1223,
    "start_time": "2023-11-20T19:15:03.014Z"
   },
   {
    "duration": 50,
    "start_time": "2023-11-20T19:15:04.239Z"
   },
   {
    "duration": 334,
    "start_time": "2023-11-20T19:15:04.293Z"
   },
   {
    "duration": 21,
    "start_time": "2023-11-20T19:15:04.629Z"
   },
   {
    "duration": 12,
    "start_time": "2023-11-20T19:15:04.651Z"
   },
   {
    "duration": 24,
    "start_time": "2023-11-20T19:15:04.665Z"
   },
   {
    "duration": 4,
    "start_time": "2023-11-20T19:15:04.690Z"
   },
   {
    "duration": 25,
    "start_time": "2023-11-20T19:15:04.696Z"
   },
   {
    "duration": 10,
    "start_time": "2023-11-20T19:15:04.723Z"
   },
   {
    "duration": 31,
    "start_time": "2023-11-20T19:15:04.735Z"
   },
   {
    "duration": 6,
    "start_time": "2023-11-20T19:15:04.767Z"
   },
   {
    "duration": 42,
    "start_time": "2023-11-20T19:15:04.775Z"
   },
   {
    "duration": 9,
    "start_time": "2023-11-20T19:15:04.819Z"
   },
   {
    "duration": 88,
    "start_time": "2023-11-20T19:15:04.829Z"
   },
   {
    "duration": 7,
    "start_time": "2023-11-20T19:15:04.919Z"
   },
   {
    "duration": 25,
    "start_time": "2023-11-20T19:15:04.928Z"
   },
   {
    "duration": 60,
    "start_time": "2023-11-20T19:15:04.955Z"
   },
   {
    "duration": 42,
    "start_time": "2023-11-20T19:15:05.016Z"
   },
   {
    "duration": 11,
    "start_time": "2023-11-20T19:15:05.060Z"
   },
   {
    "duration": 24,
    "start_time": "2023-11-20T19:15:05.072Z"
   },
   {
    "duration": 122,
    "start_time": "2023-11-20T19:15:05.114Z"
   },
   {
    "duration": 6,
    "start_time": "2023-11-20T19:15:05.238Z"
   },
   {
    "duration": 8,
    "start_time": "2023-11-20T19:15:05.246Z"
   },
   {
    "duration": 40,
    "start_time": "2023-11-20T19:15:05.255Z"
   },
   {
    "duration": 31,
    "start_time": "2023-11-20T19:15:05.297Z"
   },
   {
    "duration": 958,
    "start_time": "2023-11-20T19:15:05.329Z"
   },
   {
    "duration": 185,
    "start_time": "2023-11-20T19:15:06.291Z"
   },
   {
    "duration": 266,
    "start_time": "2023-11-20T19:15:06.477Z"
   },
   {
    "duration": 207,
    "start_time": "2023-11-20T19:15:06.745Z"
   },
   {
    "duration": 77,
    "start_time": "2023-11-20T19:15:06.954Z"
   },
   {
    "duration": 13,
    "start_time": "2023-11-20T19:15:07.033Z"
   },
   {
    "duration": 46,
    "start_time": "2023-11-20T19:15:07.048Z"
   },
   {
    "duration": 1439,
    "start_time": "2023-11-20T19:15:07.095Z"
   },
   {
    "duration": 382,
    "start_time": "2023-11-20T19:15:08.536Z"
   },
   {
    "duration": 490,
    "start_time": "2023-11-20T19:15:08.919Z"
   },
   {
    "duration": 242,
    "start_time": "2023-11-20T19:15:09.411Z"
   },
   {
    "duration": 196,
    "start_time": "2023-11-20T19:15:09.655Z"
   },
   {
    "duration": 43,
    "start_time": "2023-11-20T19:15:09.852Z"
   },
   {
    "duration": 2565,
    "start_time": "2023-11-20T19:15:09.897Z"
   },
   {
    "duration": 7,
    "start_time": "2023-11-20T19:15:12.463Z"
   },
   {
    "duration": 736,
    "start_time": "2023-11-20T19:15:12.472Z"
   },
   {
    "duration": 3615,
    "start_time": "2023-11-20T19:15:13.209Z"
   },
   {
    "duration": 34,
    "start_time": "2023-11-20T19:15:16.825Z"
   },
   {
    "duration": 16,
    "start_time": "2023-11-20T19:15:16.861Z"
   },
   {
    "duration": 11,
    "start_time": "2023-11-20T19:15:16.879Z"
   },
   {
    "duration": 21,
    "start_time": "2023-11-20T19:15:16.892Z"
   },
   {
    "duration": 173,
    "start_time": "2023-11-20T19:15:16.915Z"
   },
   {
    "duration": 6,
    "start_time": "2023-11-20T19:15:17.089Z"
   },
   {
    "duration": 28,
    "start_time": "2023-11-20T19:15:17.096Z"
   },
   {
    "duration": 3,
    "start_time": "2023-11-20T19:15:17.126Z"
   },
   {
    "duration": 16,
    "start_time": "2023-11-20T19:15:17.130Z"
   },
   {
    "duration": 300,
    "start_time": "2023-11-20T19:15:17.147Z"
   },
   {
    "duration": 5,
    "start_time": "2023-11-20T19:15:17.448Z"
   },
   {
    "duration": 8,
    "start_time": "2023-11-20T19:15:17.454Z"
   },
   {
    "duration": 407,
    "start_time": "2023-11-20T19:15:17.464Z"
   },
   {
    "duration": 6,
    "start_time": "2023-11-20T19:15:17.872Z"
   },
   {
    "duration": 54,
    "start_time": "2023-11-20T19:15:17.879Z"
   },
   {
    "duration": 119,
    "start_time": "2023-11-20T19:15:17.935Z"
   },
   {
    "duration": 13,
    "start_time": "2023-11-20T19:15:18.056Z"
   },
   {
    "duration": 80,
    "start_time": "2023-11-20T19:15:18.070Z"
   },
   {
    "duration": 176,
    "start_time": "2023-11-20T19:15:18.153Z"
   },
   {
    "duration": 20,
    "start_time": "2023-11-20T19:15:18.331Z"
   },
   {
    "duration": 68,
    "start_time": "2023-11-20T19:15:18.353Z"
   },
   {
    "duration": 13,
    "start_time": "2023-11-20T19:15:18.423Z"
   },
   {
    "duration": 37,
    "start_time": "2023-11-20T19:15:18.438Z"
   },
   {
    "duration": 15,
    "start_time": "2023-11-20T19:15:18.477Z"
   },
   {
    "duration": 61,
    "start_time": "2023-11-20T19:15:18.494Z"
   },
   {
    "duration": 12,
    "start_time": "2023-11-20T19:15:18.557Z"
   },
   {
    "duration": 20,
    "start_time": "2023-11-20T19:15:18.571Z"
   },
   {
    "duration": 32,
    "start_time": "2023-11-20T19:15:18.592Z"
   },
   {
    "duration": 27,
    "start_time": "2023-11-20T19:15:18.625Z"
   },
   {
    "duration": 24,
    "start_time": "2023-11-20T19:15:18.653Z"
   },
   {
    "duration": 307,
    "start_time": "2023-11-20T19:15:18.679Z"
   },
   {
    "duration": 37,
    "start_time": "2023-11-20T19:15:18.988Z"
   },
   {
    "duration": 16,
    "start_time": "2023-11-20T19:15:19.026Z"
   },
   {
    "duration": 36,
    "start_time": "2023-11-20T19:15:19.043Z"
   },
   {
    "duration": 39,
    "start_time": "2023-11-20T19:15:19.081Z"
   },
   {
    "duration": 3,
    "start_time": "2023-11-20T19:15:19.121Z"
   },
   {
    "duration": 23,
    "start_time": "2023-11-20T19:15:19.125Z"
   },
   {
    "duration": 129,
    "start_time": "2023-11-20T19:15:19.149Z"
   },
   {
    "duration": 3,
    "start_time": "2023-11-20T19:15:19.283Z"
   },
   {
    "duration": 75,
    "start_time": "2023-11-20T19:28:42.799Z"
   },
   {
    "duration": 126,
    "start_time": "2023-11-20T19:34:56.425Z"
   },
   {
    "duration": 5,
    "start_time": "2023-11-20T19:35:18.385Z"
   },
   {
    "duration": 6,
    "start_time": "2023-11-20T19:35:19.803Z"
   },
   {
    "duration": 4,
    "start_time": "2023-11-20T19:35:20.240Z"
   },
   {
    "duration": 5,
    "start_time": "2023-11-20T19:35:20.552Z"
   },
   {
    "duration": 334,
    "start_time": "2023-11-20T19:35:21.082Z"
   },
   {
    "duration": 4,
    "start_time": "2023-11-20T19:35:21.576Z"
   },
   {
    "duration": 9,
    "start_time": "2023-11-20T19:35:21.988Z"
   },
   {
    "duration": 292,
    "start_time": "2023-11-20T19:35:22.736Z"
   },
   {
    "duration": 5,
    "start_time": "2023-11-20T19:35:23.318Z"
   },
   {
    "duration": 11,
    "start_time": "2023-11-20T19:35:24.007Z"
   },
   {
    "duration": 8,
    "start_time": "2023-11-20T19:35:24.509Z"
   },
   {
    "duration": 4,
    "start_time": "2023-11-20T19:40:24.384Z"
   },
   {
    "duration": 1226,
    "start_time": "2023-11-20T19:40:36.844Z"
   },
   {
    "duration": 63,
    "start_time": "2023-11-20T19:40:38.071Z"
   },
   {
    "duration": 365,
    "start_time": "2023-11-20T19:40:38.136Z"
   },
   {
    "duration": 19,
    "start_time": "2023-11-20T19:40:38.503Z"
   },
   {
    "duration": 10,
    "start_time": "2023-11-20T19:40:38.524Z"
   },
   {
    "duration": 34,
    "start_time": "2023-11-20T19:40:38.535Z"
   },
   {
    "duration": 4,
    "start_time": "2023-11-20T19:40:38.571Z"
   },
   {
    "duration": 15,
    "start_time": "2023-11-20T19:40:38.577Z"
   },
   {
    "duration": 21,
    "start_time": "2023-11-20T19:40:38.594Z"
   },
   {
    "duration": 26,
    "start_time": "2023-11-20T19:40:38.618Z"
   },
   {
    "duration": 13,
    "start_time": "2023-11-20T19:40:38.646Z"
   },
   {
    "duration": 28,
    "start_time": "2023-11-20T19:40:38.661Z"
   },
   {
    "duration": 22,
    "start_time": "2023-11-20T19:40:38.691Z"
   },
   {
    "duration": 75,
    "start_time": "2023-11-20T19:40:38.715Z"
   },
   {
    "duration": 24,
    "start_time": "2023-11-20T19:40:38.791Z"
   },
   {
    "duration": 29,
    "start_time": "2023-11-20T19:40:38.817Z"
   },
   {
    "duration": 41,
    "start_time": "2023-11-20T19:40:38.848Z"
   },
   {
    "duration": 63,
    "start_time": "2023-11-20T19:40:38.891Z"
   },
   {
    "duration": 10,
    "start_time": "2023-11-20T19:40:38.956Z"
   },
   {
    "duration": 35,
    "start_time": "2023-11-20T19:40:38.968Z"
   },
   {
    "duration": 129,
    "start_time": "2023-11-20T19:40:39.005Z"
   },
   {
    "duration": 7,
    "start_time": "2023-11-20T19:40:39.135Z"
   },
   {
    "duration": 5,
    "start_time": "2023-11-20T19:40:39.144Z"
   },
   {
    "duration": 30,
    "start_time": "2023-11-20T19:40:39.151Z"
   },
   {
    "duration": 47,
    "start_time": "2023-11-20T19:40:39.183Z"
   },
   {
    "duration": 1000,
    "start_time": "2023-11-20T19:40:39.231Z"
   },
   {
    "duration": 182,
    "start_time": "2023-11-20T19:40:40.233Z"
   },
   {
    "duration": 298,
    "start_time": "2023-11-20T19:40:40.419Z"
   },
   {
    "duration": 213,
    "start_time": "2023-11-20T19:40:40.718Z"
   },
   {
    "duration": 70,
    "start_time": "2023-11-20T19:40:40.933Z"
   },
   {
    "duration": 20,
    "start_time": "2023-11-20T19:40:41.004Z"
   },
   {
    "duration": 45,
    "start_time": "2023-11-20T19:40:41.026Z"
   },
   {
    "duration": 1509,
    "start_time": "2023-11-20T19:40:41.072Z"
   },
   {
    "duration": 375,
    "start_time": "2023-11-20T19:40:42.583Z"
   },
   {
    "duration": 525,
    "start_time": "2023-11-20T19:40:42.959Z"
   },
   {
    "duration": 254,
    "start_time": "2023-11-20T19:40:43.485Z"
   },
   {
    "duration": 217,
    "start_time": "2023-11-20T19:40:43.741Z"
   },
   {
    "duration": 53,
    "start_time": "2023-11-20T19:40:43.960Z"
   },
   {
    "duration": 2626,
    "start_time": "2023-11-20T19:40:44.015Z"
   },
   {
    "duration": 8,
    "start_time": "2023-11-20T19:40:46.643Z"
   },
   {
    "duration": 794,
    "start_time": "2023-11-20T19:40:46.653Z"
   },
   {
    "duration": 3720,
    "start_time": "2023-11-20T19:40:47.449Z"
   },
   {
    "duration": 42,
    "start_time": "2023-11-20T19:40:51.171Z"
   },
   {
    "duration": 16,
    "start_time": "2023-11-20T19:40:51.215Z"
   },
   {
    "duration": 18,
    "start_time": "2023-11-20T19:40:51.233Z"
   },
   {
    "duration": 6,
    "start_time": "2023-11-20T19:40:51.252Z"
   },
   {
    "duration": 193,
    "start_time": "2023-11-20T19:40:51.259Z"
   },
   {
    "duration": 6,
    "start_time": "2023-11-20T19:40:51.453Z"
   },
   {
    "duration": 12,
    "start_time": "2023-11-20T19:40:51.460Z"
   },
   {
    "duration": 4,
    "start_time": "2023-11-20T19:40:51.473Z"
   },
   {
    "duration": 5,
    "start_time": "2023-11-20T19:40:51.479Z"
   },
   {
    "duration": 334,
    "start_time": "2023-11-20T19:40:51.486Z"
   },
   {
    "duration": 5,
    "start_time": "2023-11-20T19:40:51.821Z"
   },
   {
    "duration": 46,
    "start_time": "2023-11-20T19:40:51.828Z"
   },
   {
    "duration": 388,
    "start_time": "2023-11-20T19:40:51.876Z"
   },
   {
    "duration": 6,
    "start_time": "2023-11-20T19:40:52.265Z"
   },
   {
    "duration": 49,
    "start_time": "2023-11-20T19:40:52.272Z"
   },
   {
    "duration": 122,
    "start_time": "2023-11-20T19:40:52.322Z"
   },
   {
    "duration": 13,
    "start_time": "2023-11-20T19:40:52.446Z"
   },
   {
    "duration": 86,
    "start_time": "2023-11-20T19:40:52.460Z"
   },
   {
    "duration": 140,
    "start_time": "2023-11-20T19:40:52.547Z"
   },
   {
    "duration": 42,
    "start_time": "2023-11-20T19:40:52.689Z"
   },
   {
    "duration": 84,
    "start_time": "2023-11-20T19:40:52.733Z"
   },
   {
    "duration": 13,
    "start_time": "2023-11-20T19:40:52.819Z"
   },
   {
    "duration": 36,
    "start_time": "2023-11-20T19:40:52.834Z"
   },
   {
    "duration": 12,
    "start_time": "2023-11-20T19:40:52.872Z"
   },
   {
    "duration": 53,
    "start_time": "2023-11-20T19:40:52.885Z"
   },
   {
    "duration": 11,
    "start_time": "2023-11-20T19:40:52.940Z"
   },
   {
    "duration": 21,
    "start_time": "2023-11-20T19:40:52.953Z"
   },
   {
    "duration": 42,
    "start_time": "2023-11-20T19:40:52.976Z"
   },
   {
    "duration": 25,
    "start_time": "2023-11-20T19:40:53.020Z"
   },
   {
    "duration": 24,
    "start_time": "2023-11-20T19:40:53.047Z"
   },
   {
    "duration": 350,
    "start_time": "2023-11-20T19:40:53.073Z"
   },
   {
    "duration": 28,
    "start_time": "2023-11-20T19:40:53.425Z"
   },
   {
    "duration": 15,
    "start_time": "2023-11-20T19:40:53.455Z"
   },
   {
    "duration": 43,
    "start_time": "2023-11-20T19:40:53.472Z"
   },
   {
    "duration": 31,
    "start_time": "2023-11-20T19:40:53.516Z"
   },
   {
    "duration": 26,
    "start_time": "2023-11-20T19:40:53.548Z"
   },
   {
    "duration": 33,
    "start_time": "2023-11-20T19:40:53.576Z"
   },
   {
    "duration": 147,
    "start_time": "2023-11-20T19:40:53.611Z"
   },
   {
    "duration": 3,
    "start_time": "2023-11-20T19:40:53.759Z"
   },
   {
    "duration": 64,
    "start_time": "2023-11-20T19:46:46.172Z"
   },
   {
    "duration": 168,
    "start_time": "2023-11-20T19:54:39.349Z"
   },
   {
    "duration": 5,
    "start_time": "2023-11-20T19:54:48.371Z"
   },
   {
    "duration": 7,
    "start_time": "2023-11-20T19:54:50.295Z"
   },
   {
    "duration": 4,
    "start_time": "2023-11-20T19:54:50.486Z"
   },
   {
    "duration": 4,
    "start_time": "2023-11-20T19:54:50.723Z"
   },
   {
    "duration": 302,
    "start_time": "2023-11-20T19:54:51.283Z"
   },
   {
    "duration": 5,
    "start_time": "2023-11-20T19:54:51.587Z"
   },
   {
    "duration": 8,
    "start_time": "2023-11-20T19:54:51.785Z"
   },
   {
    "duration": 203,
    "start_time": "2023-11-20T19:54:52.063Z"
   },
   {
    "duration": 5,
    "start_time": "2023-11-20T19:54:52.754Z"
   },
   {
    "duration": 10,
    "start_time": "2023-11-20T19:54:53.139Z"
   },
   {
    "duration": 6,
    "start_time": "2023-11-20T19:54:53.858Z"
   },
   {
    "duration": 5,
    "start_time": "2023-11-20T19:55:04.926Z"
   },
   {
    "duration": 1197,
    "start_time": "2023-11-20T19:56:15.532Z"
   },
   {
    "duration": 51,
    "start_time": "2023-11-20T19:56:16.731Z"
   },
   {
    "duration": 293,
    "start_time": "2023-11-20T19:56:16.783Z"
   },
   {
    "duration": 19,
    "start_time": "2023-11-20T19:56:17.078Z"
   },
   {
    "duration": 11,
    "start_time": "2023-11-20T19:56:17.098Z"
   },
   {
    "duration": 25,
    "start_time": "2023-11-20T19:56:17.111Z"
   },
   {
    "duration": 3,
    "start_time": "2023-11-20T19:56:17.138Z"
   },
   {
    "duration": 10,
    "start_time": "2023-11-20T19:56:17.142Z"
   },
   {
    "duration": 11,
    "start_time": "2023-11-20T19:56:17.154Z"
   },
   {
    "duration": 31,
    "start_time": "2023-11-20T19:56:17.168Z"
   },
   {
    "duration": 15,
    "start_time": "2023-11-20T19:56:17.200Z"
   },
   {
    "duration": 26,
    "start_time": "2023-11-20T19:56:17.217Z"
   },
   {
    "duration": 7,
    "start_time": "2023-11-20T19:56:17.245Z"
   },
   {
    "duration": 94,
    "start_time": "2023-11-20T19:56:17.253Z"
   },
   {
    "duration": 7,
    "start_time": "2023-11-20T19:56:17.350Z"
   },
   {
    "duration": 29,
    "start_time": "2023-11-20T19:56:17.358Z"
   },
   {
    "duration": 52,
    "start_time": "2023-11-20T19:56:17.389Z"
   },
   {
    "duration": 40,
    "start_time": "2023-11-20T19:56:17.443Z"
   },
   {
    "duration": 10,
    "start_time": "2023-11-20T19:56:17.485Z"
   },
   {
    "duration": 33,
    "start_time": "2023-11-20T19:56:17.497Z"
   },
   {
    "duration": 138,
    "start_time": "2023-11-20T19:56:17.531Z"
   },
   {
    "duration": 6,
    "start_time": "2023-11-20T19:56:17.670Z"
   },
   {
    "duration": 18,
    "start_time": "2023-11-20T19:56:17.678Z"
   },
   {
    "duration": 37,
    "start_time": "2023-11-20T19:56:17.698Z"
   },
   {
    "duration": 22,
    "start_time": "2023-11-20T19:56:17.737Z"
   },
   {
    "duration": 962,
    "start_time": "2023-11-20T19:56:17.761Z"
   },
   {
    "duration": 176,
    "start_time": "2023-11-20T19:56:18.725Z"
   },
   {
    "duration": 272,
    "start_time": "2023-11-20T19:56:18.905Z"
   },
   {
    "duration": 209,
    "start_time": "2023-11-20T19:56:19.179Z"
   },
   {
    "duration": 79,
    "start_time": "2023-11-20T19:56:19.389Z"
   },
   {
    "duration": 14,
    "start_time": "2023-11-20T19:56:19.469Z"
   },
   {
    "duration": 62,
    "start_time": "2023-11-20T19:56:19.485Z"
   },
   {
    "duration": 1473,
    "start_time": "2023-11-20T19:56:19.549Z"
   },
   {
    "duration": 435,
    "start_time": "2023-11-20T19:56:21.023Z"
   },
   {
    "duration": 572,
    "start_time": "2023-11-20T19:56:21.460Z"
   },
   {
    "duration": 234,
    "start_time": "2023-11-20T19:56:22.034Z"
   },
   {
    "duration": 193,
    "start_time": "2023-11-20T19:56:22.269Z"
   },
   {
    "duration": 50,
    "start_time": "2023-11-20T19:56:22.463Z"
   },
   {
    "duration": 2533,
    "start_time": "2023-11-20T19:56:22.515Z"
   },
   {
    "duration": 8,
    "start_time": "2023-11-20T19:56:25.050Z"
   },
   {
    "duration": 729,
    "start_time": "2023-11-20T19:56:25.060Z"
   },
   {
    "duration": 3573,
    "start_time": "2023-11-20T19:56:25.791Z"
   },
   {
    "duration": 35,
    "start_time": "2023-11-20T19:56:29.366Z"
   },
   {
    "duration": 26,
    "start_time": "2023-11-20T19:56:29.403Z"
   },
   {
    "duration": 13,
    "start_time": "2023-11-20T19:56:29.431Z"
   },
   {
    "duration": 5,
    "start_time": "2023-11-20T19:56:29.446Z"
   },
   {
    "duration": 197,
    "start_time": "2023-11-20T19:56:29.453Z"
   },
   {
    "duration": 5,
    "start_time": "2023-11-20T19:56:29.652Z"
   },
   {
    "duration": 7,
    "start_time": "2023-11-20T19:56:29.658Z"
   },
   {
    "duration": 6,
    "start_time": "2023-11-20T19:56:29.666Z"
   },
   {
    "duration": 6,
    "start_time": "2023-11-20T19:56:29.673Z"
   },
   {
    "duration": 317,
    "start_time": "2023-11-20T19:56:29.681Z"
   },
   {
    "duration": 6,
    "start_time": "2023-11-20T19:56:30.000Z"
   },
   {
    "duration": 51,
    "start_time": "2023-11-20T19:56:30.008Z"
   },
   {
    "duration": 368,
    "start_time": "2023-11-20T19:56:30.061Z"
   },
   {
    "duration": 6,
    "start_time": "2023-11-20T19:56:30.431Z"
   },
   {
    "duration": 95,
    "start_time": "2023-11-20T19:56:30.439Z"
   },
   {
    "duration": 156,
    "start_time": "2023-11-20T19:56:30.536Z"
   },
   {
    "duration": 12,
    "start_time": "2023-11-20T19:56:30.694Z"
   },
   {
    "duration": 108,
    "start_time": "2023-11-20T19:56:30.714Z"
   },
   {
    "duration": 131,
    "start_time": "2023-11-20T19:56:30.824Z"
   },
   {
    "duration": 19,
    "start_time": "2023-11-20T19:56:30.957Z"
   },
   {
    "duration": 80,
    "start_time": "2023-11-20T19:56:30.977Z"
   },
   {
    "duration": 12,
    "start_time": "2023-11-20T19:56:31.059Z"
   },
   {
    "duration": 58,
    "start_time": "2023-11-20T19:56:31.073Z"
   },
   {
    "duration": 82,
    "start_time": "2023-11-20T19:56:31.133Z"
   },
   {
    "duration": 82,
    "start_time": "2023-11-20T19:56:31.217Z"
   },
   {
    "duration": 65,
    "start_time": "2023-11-20T19:56:31.301Z"
   },
   {
    "duration": 85,
    "start_time": "2023-11-20T19:56:31.368Z"
   },
   {
    "duration": 48,
    "start_time": "2023-11-20T19:56:31.454Z"
   },
   {
    "duration": 87,
    "start_time": "2023-11-20T19:56:31.504Z"
   },
   {
    "duration": 50,
    "start_time": "2023-11-20T19:56:31.592Z"
   },
   {
    "duration": 305,
    "start_time": "2023-11-20T19:56:31.643Z"
   },
   {
    "duration": 27,
    "start_time": "2023-11-20T19:56:31.949Z"
   },
   {
    "duration": 34,
    "start_time": "2023-11-20T19:56:31.978Z"
   },
   {
    "duration": 42,
    "start_time": "2023-11-20T19:56:32.013Z"
   },
   {
    "duration": 29,
    "start_time": "2023-11-20T19:56:32.057Z"
   },
   {
    "duration": 3,
    "start_time": "2023-11-20T19:56:32.087Z"
   },
   {
    "duration": 15,
    "start_time": "2023-11-20T19:56:32.092Z"
   },
   {
    "duration": 121,
    "start_time": "2023-11-20T19:56:32.108Z"
   },
   {
    "duration": 3,
    "start_time": "2023-11-20T19:56:32.231Z"
   },
   {
    "duration": 1462,
    "start_time": "2023-11-21T06:32:27.566Z"
   },
   {
    "duration": 53,
    "start_time": "2023-11-21T06:32:29.030Z"
   },
   {
    "duration": 343,
    "start_time": "2023-11-21T06:32:29.085Z"
   },
   {
    "duration": 20,
    "start_time": "2023-11-21T06:32:29.430Z"
   },
   {
    "duration": 10,
    "start_time": "2023-11-21T06:32:29.452Z"
   },
   {
    "duration": 25,
    "start_time": "2023-11-21T06:32:29.463Z"
   },
   {
    "duration": 3,
    "start_time": "2023-11-21T06:32:29.490Z"
   },
   {
    "duration": 11,
    "start_time": "2023-11-21T06:32:29.495Z"
   },
   {
    "duration": 10,
    "start_time": "2023-11-21T06:32:29.507Z"
   },
   {
    "duration": 46,
    "start_time": "2023-11-21T06:32:29.520Z"
   },
   {
    "duration": 5,
    "start_time": "2023-11-21T06:32:29.568Z"
   },
   {
    "duration": 33,
    "start_time": "2023-11-21T06:32:29.575Z"
   },
   {
    "duration": 11,
    "start_time": "2023-11-21T06:32:29.610Z"
   },
   {
    "duration": 90,
    "start_time": "2023-11-21T06:32:29.622Z"
   },
   {
    "duration": 7,
    "start_time": "2023-11-21T06:32:29.714Z"
   },
   {
    "duration": 43,
    "start_time": "2023-11-21T06:32:29.723Z"
   },
   {
    "duration": 44,
    "start_time": "2023-11-21T06:32:29.769Z"
   },
   {
    "duration": 60,
    "start_time": "2023-11-21T06:32:29.815Z"
   },
   {
    "duration": 12,
    "start_time": "2023-11-21T06:32:29.877Z"
   },
   {
    "duration": 21,
    "start_time": "2023-11-21T06:32:29.890Z"
   },
   {
    "duration": 156,
    "start_time": "2023-11-21T06:32:29.912Z"
   },
   {
    "duration": 7,
    "start_time": "2023-11-21T06:32:30.070Z"
   },
   {
    "duration": 34,
    "start_time": "2023-11-21T06:32:30.079Z"
   },
   {
    "duration": 53,
    "start_time": "2023-11-21T06:32:30.115Z"
   },
   {
    "duration": 41,
    "start_time": "2023-11-21T06:32:30.169Z"
   },
   {
    "duration": 970,
    "start_time": "2023-11-21T06:32:30.212Z"
   },
   {
    "duration": 188,
    "start_time": "2023-11-21T06:32:31.184Z"
   },
   {
    "duration": 301,
    "start_time": "2023-11-21T06:32:31.377Z"
   },
   {
    "duration": 215,
    "start_time": "2023-11-21T06:32:31.679Z"
   },
   {
    "duration": 89,
    "start_time": "2023-11-21T06:32:31.895Z"
   },
   {
    "duration": 16,
    "start_time": "2023-11-21T06:32:31.986Z"
   },
   {
    "duration": 63,
    "start_time": "2023-11-21T06:32:32.004Z"
   },
   {
    "duration": 1498,
    "start_time": "2023-11-21T06:32:32.069Z"
   },
   {
    "duration": 408,
    "start_time": "2023-11-21T06:32:33.569Z"
   },
   {
    "duration": 498,
    "start_time": "2023-11-21T06:32:33.979Z"
   },
   {
    "duration": 245,
    "start_time": "2023-11-21T06:32:34.479Z"
   },
   {
    "duration": 200,
    "start_time": "2023-11-21T06:32:34.726Z"
   },
   {
    "duration": 58,
    "start_time": "2023-11-21T06:32:34.928Z"
   },
   {
    "duration": 2731,
    "start_time": "2023-11-21T06:32:34.988Z"
   },
   {
    "duration": 8,
    "start_time": "2023-11-21T06:32:37.720Z"
   },
   {
    "duration": 815,
    "start_time": "2023-11-21T06:32:37.729Z"
   },
   {
    "duration": 3886,
    "start_time": "2023-11-21T06:32:38.545Z"
   },
   {
    "duration": 43,
    "start_time": "2023-11-21T06:32:42.433Z"
   },
   {
    "duration": 18,
    "start_time": "2023-11-21T06:32:42.478Z"
   },
   {
    "duration": 17,
    "start_time": "2023-11-21T06:32:42.497Z"
   },
   {
    "duration": 32,
    "start_time": "2023-11-21T06:32:42.515Z"
   },
   {
    "duration": 181,
    "start_time": "2023-11-21T06:32:42.549Z"
   },
   {
    "duration": 6,
    "start_time": "2023-11-21T06:32:42.732Z"
   },
   {
    "duration": 21,
    "start_time": "2023-11-21T06:32:42.739Z"
   },
   {
    "duration": 11,
    "start_time": "2023-11-21T06:32:42.761Z"
   },
   {
    "duration": 15,
    "start_time": "2023-11-21T06:32:42.774Z"
   },
   {
    "duration": 278,
    "start_time": "2023-11-21T06:32:42.791Z"
   },
   {
    "duration": 4,
    "start_time": "2023-11-21T06:32:43.071Z"
   },
   {
    "duration": 30,
    "start_time": "2023-11-21T06:32:43.077Z"
   },
   {
    "duration": 324,
    "start_time": "2023-11-21T06:32:43.109Z"
   },
   {
    "duration": 5,
    "start_time": "2023-11-21T06:32:43.435Z"
   },
   {
    "duration": 54,
    "start_time": "2023-11-21T06:32:43.442Z"
   },
   {
    "duration": 628,
    "start_time": "2023-11-21T06:32:43.498Z"
   },
   {
    "duration": 38,
    "start_time": "2023-11-21T06:32:44.128Z"
   },
   {
    "duration": 97,
    "start_time": "2023-11-21T06:32:44.169Z"
   },
   {
    "duration": 140,
    "start_time": "2023-11-21T06:32:44.267Z"
   },
   {
    "duration": 18,
    "start_time": "2023-11-21T06:32:44.409Z"
   },
   {
    "duration": 66,
    "start_time": "2023-11-21T06:32:44.429Z"
   },
   {
    "duration": 20,
    "start_time": "2023-11-21T06:32:44.496Z"
   },
   {
    "duration": 51,
    "start_time": "2023-11-21T06:32:44.517Z"
   },
   {
    "duration": 35,
    "start_time": "2023-11-21T06:32:44.570Z"
   },
   {
    "duration": 74,
    "start_time": "2023-11-21T06:32:44.606Z"
   },
   {
    "duration": 19,
    "start_time": "2023-11-21T06:32:44.681Z"
   },
   {
    "duration": 57,
    "start_time": "2023-11-21T06:32:44.702Z"
   },
   {
    "duration": 39,
    "start_time": "2023-11-21T06:32:44.761Z"
   },
   {
    "duration": 64,
    "start_time": "2023-11-21T06:32:44.801Z"
   },
   {
    "duration": 37,
    "start_time": "2023-11-21T06:32:44.867Z"
   },
   {
    "duration": 311,
    "start_time": "2023-11-21T06:32:44.906Z"
   },
   {
    "duration": 29,
    "start_time": "2023-11-21T06:32:45.219Z"
   },
   {
    "duration": 32,
    "start_time": "2023-11-21T06:32:45.250Z"
   },
   {
    "duration": 56,
    "start_time": "2023-11-21T06:32:45.284Z"
   },
   {
    "duration": 32,
    "start_time": "2023-11-21T06:32:45.341Z"
   },
   {
    "duration": 11,
    "start_time": "2023-11-21T06:32:45.375Z"
   },
   {
    "duration": 39,
    "start_time": "2023-11-21T06:32:45.387Z"
   },
   {
    "duration": 151,
    "start_time": "2023-11-21T06:32:45.428Z"
   },
   {
    "duration": 3,
    "start_time": "2023-11-21T06:32:45.581Z"
   },
   {
    "duration": 49,
    "start_time": "2023-11-21T08:06:31.060Z"
   },
   {
    "duration": 1377,
    "start_time": "2023-11-21T08:06:38.024Z"
   },
   {
    "duration": 59,
    "start_time": "2023-11-21T08:06:39.403Z"
   },
   {
    "duration": 273,
    "start_time": "2023-11-21T08:06:39.464Z"
   },
   {
    "duration": 20,
    "start_time": "2023-11-21T08:06:39.739Z"
   },
   {
    "duration": 39,
    "start_time": "2023-11-21T08:06:39.760Z"
   },
   {
    "duration": 23,
    "start_time": "2023-11-21T08:06:39.801Z"
   },
   {
    "duration": 4,
    "start_time": "2023-11-21T08:06:39.826Z"
   },
   {
    "duration": 15,
    "start_time": "2023-11-21T08:06:39.831Z"
   },
   {
    "duration": 10,
    "start_time": "2023-11-21T08:06:39.847Z"
   },
   {
    "duration": 26,
    "start_time": "2023-11-21T08:06:39.860Z"
   },
   {
    "duration": 6,
    "start_time": "2023-11-21T08:06:39.888Z"
   },
   {
    "duration": 27,
    "start_time": "2023-11-21T08:06:39.895Z"
   },
   {
    "duration": 7,
    "start_time": "2023-11-21T08:06:39.924Z"
   },
   {
    "duration": 100,
    "start_time": "2023-11-21T08:06:39.932Z"
   },
   {
    "duration": 7,
    "start_time": "2023-11-21T08:06:40.034Z"
   },
   {
    "duration": 50,
    "start_time": "2023-11-21T08:06:40.042Z"
   },
   {
    "duration": 38,
    "start_time": "2023-11-21T08:06:40.094Z"
   },
   {
    "duration": 50,
    "start_time": "2023-11-21T08:06:40.134Z"
   },
   {
    "duration": 10,
    "start_time": "2023-11-21T08:06:40.186Z"
   },
   {
    "duration": 20,
    "start_time": "2023-11-21T08:06:40.198Z"
   },
   {
    "duration": 149,
    "start_time": "2023-11-21T08:06:40.220Z"
   },
   {
    "duration": 7,
    "start_time": "2023-11-21T08:06:40.371Z"
   },
   {
    "duration": 10,
    "start_time": "2023-11-21T08:06:40.379Z"
   },
   {
    "duration": 53,
    "start_time": "2023-11-21T08:06:40.391Z"
   },
   {
    "duration": 23,
    "start_time": "2023-11-21T08:06:40.446Z"
   },
   {
    "duration": 995,
    "start_time": "2023-11-21T08:06:40.471Z"
   },
   {
    "duration": 190,
    "start_time": "2023-11-21T08:06:41.468Z"
   },
   {
    "duration": 276,
    "start_time": "2023-11-21T08:06:41.663Z"
   },
   {
    "duration": 211,
    "start_time": "2023-11-21T08:06:41.940Z"
   },
   {
    "duration": 85,
    "start_time": "2023-11-21T08:06:42.152Z"
   },
   {
    "duration": 26,
    "start_time": "2023-11-21T08:06:42.239Z"
   },
   {
    "duration": 45,
    "start_time": "2023-11-21T08:06:42.266Z"
   },
   {
    "duration": 1543,
    "start_time": "2023-11-21T08:06:42.313Z"
   },
   {
    "duration": 382,
    "start_time": "2023-11-21T08:06:43.857Z"
   },
   {
    "duration": 509,
    "start_time": "2023-11-21T08:06:44.241Z"
   },
   {
    "duration": 247,
    "start_time": "2023-11-21T08:06:44.752Z"
   },
   {
    "duration": 209,
    "start_time": "2023-11-21T08:06:45.000Z"
   },
   {
    "duration": 49,
    "start_time": "2023-11-21T08:06:45.211Z"
   },
   {
    "duration": 2656,
    "start_time": "2023-11-21T08:06:45.262Z"
   },
   {
    "duration": 9,
    "start_time": "2023-11-21T08:06:47.920Z"
   },
   {
    "duration": 773,
    "start_time": "2023-11-21T08:06:47.931Z"
   },
   {
    "duration": 3781,
    "start_time": "2023-11-21T08:06:48.705Z"
   },
   {
    "duration": 35,
    "start_time": "2023-11-21T08:06:52.487Z"
   },
   {
    "duration": 17,
    "start_time": "2023-11-21T08:06:52.523Z"
   },
   {
    "duration": 26,
    "start_time": "2023-11-21T08:06:52.541Z"
   },
   {
    "duration": 17,
    "start_time": "2023-11-21T08:06:52.569Z"
   },
   {
    "duration": 210,
    "start_time": "2023-11-21T08:06:52.588Z"
   },
   {
    "duration": 5,
    "start_time": "2023-11-21T08:06:52.800Z"
   },
   {
    "duration": 33,
    "start_time": "2023-11-21T08:06:52.806Z"
   },
   {
    "duration": 18,
    "start_time": "2023-11-21T08:06:52.841Z"
   },
   {
    "duration": 36,
    "start_time": "2023-11-21T08:06:52.861Z"
   },
   {
    "duration": 344,
    "start_time": "2023-11-21T08:06:52.899Z"
   },
   {
    "duration": 5,
    "start_time": "2023-11-21T08:06:53.245Z"
   },
   {
    "duration": 33,
    "start_time": "2023-11-21T08:06:53.251Z"
   },
   {
    "duration": 499,
    "start_time": "2023-11-21T08:06:53.285Z"
   },
   {
    "duration": 5,
    "start_time": "2023-11-21T08:06:53.786Z"
   },
   {
    "duration": 97,
    "start_time": "2023-11-21T08:06:53.792Z"
   },
   {
    "duration": 125,
    "start_time": "2023-11-21T08:06:53.891Z"
   },
   {
    "duration": 13,
    "start_time": "2023-11-21T08:06:54.017Z"
   },
   {
    "duration": 48,
    "start_time": "2023-11-21T08:06:54.059Z"
   },
   {
    "duration": 110,
    "start_time": "2023-11-21T08:06:54.158Z"
   },
   {
    "duration": 18,
    "start_time": "2023-11-21T08:06:54.269Z"
   },
   {
    "duration": 55,
    "start_time": "2023-11-21T08:06:54.289Z"
   },
   {
    "duration": 14,
    "start_time": "2023-11-21T08:06:54.359Z"
   },
   {
    "duration": 37,
    "start_time": "2023-11-21T08:06:54.375Z"
   },
   {
    "duration": 14,
    "start_time": "2023-11-21T08:06:54.414Z"
   },
   {
    "duration": 65,
    "start_time": "2023-11-21T08:06:54.430Z"
   },
   {
    "duration": 13,
    "start_time": "2023-11-21T08:06:54.497Z"
   },
   {
    "duration": 35,
    "start_time": "2023-11-21T08:06:54.512Z"
   },
   {
    "duration": 24,
    "start_time": "2023-11-21T08:06:54.549Z"
   },
   {
    "duration": 42,
    "start_time": "2023-11-21T08:06:54.575Z"
   },
   {
    "duration": 37,
    "start_time": "2023-11-21T08:06:54.619Z"
   },
   {
    "duration": 320,
    "start_time": "2023-11-21T08:06:54.658Z"
   },
   {
    "duration": 30,
    "start_time": "2023-11-21T08:06:54.980Z"
   },
   {
    "duration": 18,
    "start_time": "2023-11-21T08:06:55.012Z"
   },
   {
    "duration": 44,
    "start_time": "2023-11-21T08:06:55.032Z"
   },
   {
    "duration": 30,
    "start_time": "2023-11-21T08:06:55.078Z"
   },
   {
    "duration": 17,
    "start_time": "2023-11-21T08:06:55.110Z"
   },
   {
    "duration": 35,
    "start_time": "2023-11-21T08:06:55.128Z"
   },
   {
    "duration": 142,
    "start_time": "2023-11-21T08:06:55.164Z"
   },
   {
    "duration": 3,
    "start_time": "2023-11-21T08:06:55.308Z"
   },
   {
    "duration": 7,
    "start_time": "2023-11-21T08:07:31.263Z"
   },
   {
    "duration": 6,
    "start_time": "2023-11-21T08:18:15.674Z"
   },
   {
    "duration": 2472,
    "start_time": "2023-11-21T08:24:36.583Z"
   },
   {
    "duration": 3204,
    "start_time": "2023-11-21T08:25:30.176Z"
   },
   {
    "duration": 2356,
    "start_time": "2023-11-21T08:25:53.204Z"
   },
   {
    "duration": 1180,
    "start_time": "2023-11-21T08:26:02.896Z"
   },
   {
    "duration": 55,
    "start_time": "2023-11-21T08:26:04.078Z"
   },
   {
    "duration": 326,
    "start_time": "2023-11-21T08:26:04.135Z"
   },
   {
    "duration": 21,
    "start_time": "2023-11-21T08:26:04.462Z"
   },
   {
    "duration": 11,
    "start_time": "2023-11-21T08:26:04.485Z"
   },
   {
    "duration": 20,
    "start_time": "2023-11-21T08:26:04.497Z"
   },
   {
    "duration": 3,
    "start_time": "2023-11-21T08:26:04.518Z"
   },
   {
    "duration": 39,
    "start_time": "2023-11-21T08:26:04.523Z"
   },
   {
    "duration": 10,
    "start_time": "2023-11-21T08:26:04.563Z"
   },
   {
    "duration": 27,
    "start_time": "2023-11-21T08:26:04.575Z"
   },
   {
    "duration": 6,
    "start_time": "2023-11-21T08:26:04.604Z"
   },
   {
    "duration": 52,
    "start_time": "2023-11-21T08:26:04.611Z"
   },
   {
    "duration": 7,
    "start_time": "2023-11-21T08:26:04.665Z"
   },
   {
    "duration": 92,
    "start_time": "2023-11-21T08:26:04.675Z"
   },
   {
    "duration": 7,
    "start_time": "2023-11-21T08:26:04.769Z"
   },
   {
    "duration": 27,
    "start_time": "2023-11-21T08:26:04.778Z"
   },
   {
    "duration": 56,
    "start_time": "2023-11-21T08:26:04.806Z"
   },
   {
    "duration": 43,
    "start_time": "2023-11-21T08:26:04.864Z"
   },
   {
    "duration": 21,
    "start_time": "2023-11-21T08:26:04.908Z"
   },
   {
    "duration": 29,
    "start_time": "2023-11-21T08:26:04.930Z"
   },
   {
    "duration": 130,
    "start_time": "2023-11-21T08:26:04.961Z"
   },
   {
    "duration": 6,
    "start_time": "2023-11-21T08:26:05.093Z"
   },
   {
    "duration": 17,
    "start_time": "2023-11-21T08:26:05.100Z"
   },
   {
    "duration": 40,
    "start_time": "2023-11-21T08:26:05.119Z"
   },
   {
    "duration": 25,
    "start_time": "2023-11-21T08:26:05.161Z"
   },
   {
    "duration": 1014,
    "start_time": "2023-11-21T08:26:05.188Z"
   },
   {
    "duration": 191,
    "start_time": "2023-11-21T08:26:06.204Z"
   },
   {
    "duration": 280,
    "start_time": "2023-11-21T08:26:06.396Z"
   },
   {
    "duration": 223,
    "start_time": "2023-11-21T08:26:06.677Z"
   },
   {
    "duration": 106,
    "start_time": "2023-11-21T08:26:06.902Z"
   },
   {
    "duration": 15,
    "start_time": "2023-11-21T08:26:07.010Z"
   },
   {
    "duration": 58,
    "start_time": "2023-11-21T08:26:07.026Z"
   },
   {
    "duration": 1463,
    "start_time": "2023-11-21T08:26:07.086Z"
   },
   {
    "duration": 388,
    "start_time": "2023-11-21T08:26:08.550Z"
   },
   {
    "duration": 484,
    "start_time": "2023-11-21T08:26:08.940Z"
   },
   {
    "duration": 249,
    "start_time": "2023-11-21T08:26:09.426Z"
   },
   {
    "duration": 199,
    "start_time": "2023-11-21T08:26:09.677Z"
   },
   {
    "duration": 41,
    "start_time": "2023-11-21T08:26:09.878Z"
   },
   {
    "duration": 2756,
    "start_time": "2023-11-21T08:26:09.921Z"
   },
   {
    "duration": 8,
    "start_time": "2023-11-21T08:26:12.679Z"
   },
   {
    "duration": 76,
    "start_time": "2023-11-21T08:26:12.693Z"
   },
   {
    "duration": 1,
    "start_time": "2023-11-21T08:26:12.770Z"
   },
   {
    "duration": 0,
    "start_time": "2023-11-21T08:26:12.772Z"
   },
   {
    "duration": 0,
    "start_time": "2023-11-21T08:26:12.773Z"
   },
   {
    "duration": 0,
    "start_time": "2023-11-21T08:26:12.774Z"
   },
   {
    "duration": 0,
    "start_time": "2023-11-21T08:26:12.775Z"
   },
   {
    "duration": 0,
    "start_time": "2023-11-21T08:26:12.776Z"
   },
   {
    "duration": 0,
    "start_time": "2023-11-21T08:26:12.777Z"
   },
   {
    "duration": 0,
    "start_time": "2023-11-21T08:26:12.778Z"
   },
   {
    "duration": 0,
    "start_time": "2023-11-21T08:26:12.779Z"
   },
   {
    "duration": 0,
    "start_time": "2023-11-21T08:26:12.780Z"
   },
   {
    "duration": 0,
    "start_time": "2023-11-21T08:26:12.781Z"
   },
   {
    "duration": 1,
    "start_time": "2023-11-21T08:26:12.781Z"
   },
   {
    "duration": 0,
    "start_time": "2023-11-21T08:26:12.782Z"
   },
   {
    "duration": 0,
    "start_time": "2023-11-21T08:26:12.784Z"
   },
   {
    "duration": 0,
    "start_time": "2023-11-21T08:26:12.785Z"
   },
   {
    "duration": 0,
    "start_time": "2023-11-21T08:26:12.786Z"
   },
   {
    "duration": 0,
    "start_time": "2023-11-21T08:26:12.787Z"
   },
   {
    "duration": 0,
    "start_time": "2023-11-21T08:26:12.788Z"
   },
   {
    "duration": 0,
    "start_time": "2023-11-21T08:26:12.789Z"
   },
   {
    "duration": 0,
    "start_time": "2023-11-21T08:26:12.790Z"
   },
   {
    "duration": 0,
    "start_time": "2023-11-21T08:26:12.791Z"
   },
   {
    "duration": 0,
    "start_time": "2023-11-21T08:26:12.792Z"
   },
   {
    "duration": 0,
    "start_time": "2023-11-21T08:26:12.793Z"
   },
   {
    "duration": 0,
    "start_time": "2023-11-21T08:26:12.794Z"
   },
   {
    "duration": 0,
    "start_time": "2023-11-21T08:26:12.795Z"
   },
   {
    "duration": 0,
    "start_time": "2023-11-21T08:26:12.796Z"
   },
   {
    "duration": 0,
    "start_time": "2023-11-21T08:26:12.797Z"
   },
   {
    "duration": 0,
    "start_time": "2023-11-21T08:26:12.798Z"
   },
   {
    "duration": 0,
    "start_time": "2023-11-21T08:26:12.799Z"
   },
   {
    "duration": 0,
    "start_time": "2023-11-21T08:26:12.800Z"
   },
   {
    "duration": 0,
    "start_time": "2023-11-21T08:26:12.801Z"
   },
   {
    "duration": 0,
    "start_time": "2023-11-21T08:26:12.801Z"
   },
   {
    "duration": 0,
    "start_time": "2023-11-21T08:26:12.802Z"
   },
   {
    "duration": 0,
    "start_time": "2023-11-21T08:26:12.803Z"
   },
   {
    "duration": 0,
    "start_time": "2023-11-21T08:26:12.804Z"
   },
   {
    "duration": 1,
    "start_time": "2023-11-21T08:26:12.805Z"
   },
   {
    "duration": 0,
    "start_time": "2023-11-21T08:26:12.807Z"
   },
   {
    "duration": 0,
    "start_time": "2023-11-21T08:26:12.858Z"
   },
   {
    "duration": 0,
    "start_time": "2023-11-21T08:26:12.859Z"
   },
   {
    "duration": 0,
    "start_time": "2023-11-21T08:26:12.861Z"
   },
   {
    "duration": 0,
    "start_time": "2023-11-21T08:26:12.862Z"
   },
   {
    "duration": 94,
    "start_time": "2023-11-21T08:38:05.547Z"
   },
   {
    "duration": 1245,
    "start_time": "2023-11-21T09:26:28.743Z"
   },
   {
    "duration": 53,
    "start_time": "2023-11-21T09:26:29.990Z"
   },
   {
    "duration": 274,
    "start_time": "2023-11-21T09:26:30.044Z"
   },
   {
    "duration": 21,
    "start_time": "2023-11-21T09:26:30.320Z"
   },
   {
    "duration": 49,
    "start_time": "2023-11-21T09:26:30.343Z"
   },
   {
    "duration": 55,
    "start_time": "2023-11-21T09:26:30.393Z"
   },
   {
    "duration": 47,
    "start_time": "2023-11-21T09:26:30.449Z"
   },
   {
    "duration": 54,
    "start_time": "2023-11-21T09:26:30.498Z"
   },
   {
    "duration": 46,
    "start_time": "2023-11-21T09:26:30.554Z"
   },
   {
    "duration": 79,
    "start_time": "2023-11-21T09:26:30.603Z"
   },
   {
    "duration": 83,
    "start_time": "2023-11-21T09:26:30.683Z"
   },
   {
    "duration": 80,
    "start_time": "2023-11-21T09:26:30.767Z"
   },
   {
    "duration": 65,
    "start_time": "2023-11-21T09:26:30.849Z"
   },
   {
    "duration": 114,
    "start_time": "2023-11-21T09:26:30.916Z"
   },
   {
    "duration": 7,
    "start_time": "2023-11-21T09:26:31.032Z"
   },
   {
    "duration": 63,
    "start_time": "2023-11-21T09:26:31.040Z"
   },
   {
    "duration": 44,
    "start_time": "2023-11-21T09:26:31.104Z"
   },
   {
    "duration": 43,
    "start_time": "2023-11-21T09:26:31.150Z"
   },
   {
    "duration": 10,
    "start_time": "2023-11-21T09:26:31.195Z"
   },
   {
    "duration": 60,
    "start_time": "2023-11-21T09:26:31.207Z"
   },
   {
    "duration": 172,
    "start_time": "2023-11-21T09:26:31.269Z"
   },
   {
    "duration": 7,
    "start_time": "2023-11-21T09:26:31.443Z"
   },
   {
    "duration": 29,
    "start_time": "2023-11-21T09:26:31.451Z"
   },
   {
    "duration": 60,
    "start_time": "2023-11-21T09:26:31.482Z"
   },
   {
    "duration": 25,
    "start_time": "2023-11-21T09:26:31.543Z"
   },
   {
    "duration": 967,
    "start_time": "2023-11-21T09:26:31.569Z"
   },
   {
    "duration": 189,
    "start_time": "2023-11-21T09:26:32.537Z"
   },
   {
    "duration": 274,
    "start_time": "2023-11-21T09:26:32.730Z"
   },
   {
    "duration": 216,
    "start_time": "2023-11-21T09:26:33.006Z"
   },
   {
    "duration": 77,
    "start_time": "2023-11-21T09:26:33.223Z"
   },
   {
    "duration": 14,
    "start_time": "2023-11-21T09:26:33.301Z"
   },
   {
    "duration": 84,
    "start_time": "2023-11-21T09:26:33.316Z"
   },
   {
    "duration": 1446,
    "start_time": "2023-11-21T09:26:33.402Z"
   },
   {
    "duration": 382,
    "start_time": "2023-11-21T09:26:34.849Z"
   },
   {
    "duration": 483,
    "start_time": "2023-11-21T09:26:35.233Z"
   },
   {
    "duration": 237,
    "start_time": "2023-11-21T09:26:35.717Z"
   },
   {
    "duration": 193,
    "start_time": "2023-11-21T09:26:35.959Z"
   },
   {
    "duration": 41,
    "start_time": "2023-11-21T09:26:36.153Z"
   },
   {
    "duration": 2660,
    "start_time": "2023-11-21T09:26:36.195Z"
   },
   {
    "duration": 8,
    "start_time": "2023-11-21T09:26:38.857Z"
   },
   {
    "duration": 785,
    "start_time": "2023-11-21T09:26:38.866Z"
   },
   {
    "duration": 3710,
    "start_time": "2023-11-21T09:26:39.652Z"
   },
   {
    "duration": 34,
    "start_time": "2023-11-21T09:26:43.364Z"
   },
   {
    "duration": 18,
    "start_time": "2023-11-21T09:26:43.400Z"
   },
   {
    "duration": 13,
    "start_time": "2023-11-21T09:26:43.419Z"
   },
   {
    "duration": 27,
    "start_time": "2023-11-21T09:26:43.434Z"
   },
   {
    "duration": 179,
    "start_time": "2023-11-21T09:26:43.462Z"
   },
   {
    "duration": 14,
    "start_time": "2023-11-21T09:26:43.644Z"
   },
   {
    "duration": 8,
    "start_time": "2023-11-21T09:26:43.660Z"
   },
   {
    "duration": 10,
    "start_time": "2023-11-21T09:26:43.669Z"
   },
   {
    "duration": 9,
    "start_time": "2023-11-21T09:26:43.681Z"
   },
   {
    "duration": 317,
    "start_time": "2023-11-21T09:26:43.691Z"
   },
   {
    "duration": 6,
    "start_time": "2023-11-21T09:26:44.010Z"
   },
   {
    "duration": 9,
    "start_time": "2023-11-21T09:26:44.018Z"
   },
   {
    "duration": 331,
    "start_time": "2023-11-21T09:26:44.029Z"
   },
   {
    "duration": 5,
    "start_time": "2023-11-21T09:26:44.362Z"
   },
   {
    "duration": 44,
    "start_time": "2023-11-21T09:26:44.369Z"
   },
   {
    "duration": 135,
    "start_time": "2023-11-21T09:26:44.415Z"
   },
   {
    "duration": 17,
    "start_time": "2023-11-21T09:26:44.552Z"
   },
   {
    "duration": 105,
    "start_time": "2023-11-21T09:26:44.572Z"
   },
   {
    "duration": 131,
    "start_time": "2023-11-21T09:26:44.679Z"
   },
   {
    "duration": 18,
    "start_time": "2023-11-21T09:26:44.812Z"
   },
   {
    "duration": 63,
    "start_time": "2023-11-21T09:26:44.831Z"
   },
   {
    "duration": 11,
    "start_time": "2023-11-21T09:26:44.896Z"
   },
   {
    "duration": 26,
    "start_time": "2023-11-21T09:26:44.909Z"
   },
   {
    "duration": 31,
    "start_time": "2023-11-21T09:26:44.937Z"
   },
   {
    "duration": 37,
    "start_time": "2023-11-21T09:26:44.969Z"
   },
   {
    "duration": 12,
    "start_time": "2023-11-21T09:26:45.007Z"
   },
   {
    "duration": 59,
    "start_time": "2023-11-21T09:26:45.020Z"
   },
   {
    "duration": 35,
    "start_time": "2023-11-21T09:26:45.081Z"
   },
   {
    "duration": 26,
    "start_time": "2023-11-21T09:26:45.118Z"
   },
   {
    "duration": 23,
    "start_time": "2023-11-21T09:26:45.146Z"
   },
   {
    "duration": 304,
    "start_time": "2023-11-21T09:26:45.171Z"
   },
   {
    "duration": 28,
    "start_time": "2023-11-21T09:26:45.477Z"
   },
   {
    "duration": 16,
    "start_time": "2023-11-21T09:26:45.507Z"
   },
   {
    "duration": 46,
    "start_time": "2023-11-21T09:26:45.525Z"
   },
   {
    "duration": 30,
    "start_time": "2023-11-21T09:26:45.573Z"
   },
   {
    "duration": 3,
    "start_time": "2023-11-21T09:26:45.605Z"
   },
   {
    "duration": 14,
    "start_time": "2023-11-21T09:26:45.609Z"
   },
   {
    "duration": 139,
    "start_time": "2023-11-21T09:26:45.625Z"
   },
   {
    "duration": 3,
    "start_time": "2023-11-21T09:26:45.766Z"
   },
   {
    "duration": 1180,
    "start_time": "2023-11-21T13:13:34.543Z"
   },
   {
    "duration": 57,
    "start_time": "2023-11-21T13:13:35.725Z"
   },
   {
    "duration": 191,
    "start_time": "2023-11-21T13:13:35.784Z"
   },
   {
    "duration": 19,
    "start_time": "2023-11-21T13:13:35.977Z"
   },
   {
    "duration": 10,
    "start_time": "2023-11-21T13:13:35.997Z"
   },
   {
    "duration": 20,
    "start_time": "2023-11-21T13:13:36.008Z"
   },
   {
    "duration": 4,
    "start_time": "2023-11-21T13:13:36.030Z"
   },
   {
    "duration": 33,
    "start_time": "2023-11-21T13:13:36.035Z"
   },
   {
    "duration": 20,
    "start_time": "2023-11-21T13:13:36.069Z"
   },
   {
    "duration": 43,
    "start_time": "2023-11-21T13:13:36.092Z"
   },
   {
    "duration": 19,
    "start_time": "2023-11-21T13:13:36.136Z"
   },
   {
    "duration": 28,
    "start_time": "2023-11-21T13:13:36.156Z"
   },
   {
    "duration": 12,
    "start_time": "2023-11-21T13:13:36.185Z"
   },
   {
    "duration": 100,
    "start_time": "2023-11-21T13:13:36.199Z"
   },
   {
    "duration": 8,
    "start_time": "2023-11-21T13:13:36.300Z"
   },
   {
    "duration": 47,
    "start_time": "2023-11-21T13:13:36.309Z"
   },
   {
    "duration": 42,
    "start_time": "2023-11-21T13:13:36.358Z"
   },
   {
    "duration": 41,
    "start_time": "2023-11-21T13:13:36.402Z"
   },
   {
    "duration": 23,
    "start_time": "2023-11-21T13:13:36.444Z"
   },
   {
    "duration": 33,
    "start_time": "2023-11-21T13:13:36.468Z"
   },
   {
    "duration": 124,
    "start_time": "2023-11-21T13:13:36.503Z"
   },
   {
    "duration": 7,
    "start_time": "2023-11-21T13:13:36.628Z"
   },
   {
    "duration": 25,
    "start_time": "2023-11-21T13:13:36.637Z"
   },
   {
    "duration": 54,
    "start_time": "2023-11-21T13:13:36.664Z"
   },
   {
    "duration": 22,
    "start_time": "2023-11-21T13:13:36.720Z"
   },
   {
    "duration": 953,
    "start_time": "2023-11-21T13:13:36.744Z"
   },
   {
    "duration": 202,
    "start_time": "2023-11-21T13:13:37.699Z"
   },
   {
    "duration": 287,
    "start_time": "2023-11-21T13:13:37.905Z"
   },
   {
    "duration": 219,
    "start_time": "2023-11-21T13:13:38.193Z"
   },
   {
    "duration": 83,
    "start_time": "2023-11-21T13:13:38.414Z"
   },
   {
    "duration": 14,
    "start_time": "2023-11-21T13:13:38.498Z"
   },
   {
    "duration": 61,
    "start_time": "2023-11-21T13:13:38.514Z"
   },
   {
    "duration": 1459,
    "start_time": "2023-11-21T13:13:38.577Z"
   },
   {
    "duration": 382,
    "start_time": "2023-11-21T13:13:40.037Z"
   },
   {
    "duration": 469,
    "start_time": "2023-11-21T13:13:40.421Z"
   },
   {
    "duration": 244,
    "start_time": "2023-11-21T13:13:40.892Z"
   },
   {
    "duration": 196,
    "start_time": "2023-11-21T13:13:41.137Z"
   },
   {
    "duration": 49,
    "start_time": "2023-11-21T13:13:41.335Z"
   },
   {
    "duration": 2624,
    "start_time": "2023-11-21T13:13:41.386Z"
   },
   {
    "duration": 8,
    "start_time": "2023-11-21T13:13:44.011Z"
   },
   {
    "duration": 762,
    "start_time": "2023-11-21T13:13:44.020Z"
   },
   {
    "duration": 3613,
    "start_time": "2023-11-21T13:13:44.784Z"
   },
   {
    "duration": 34,
    "start_time": "2023-11-21T13:13:48.399Z"
   },
   {
    "duration": 32,
    "start_time": "2023-11-21T13:13:48.435Z"
   },
   {
    "duration": 13,
    "start_time": "2023-11-21T13:13:48.469Z"
   },
   {
    "duration": 6,
    "start_time": "2023-11-21T13:13:48.483Z"
   },
   {
    "duration": 181,
    "start_time": "2023-11-21T13:13:48.491Z"
   },
   {
    "duration": 5,
    "start_time": "2023-11-21T13:13:48.674Z"
   },
   {
    "duration": 24,
    "start_time": "2023-11-21T13:13:48.681Z"
   },
   {
    "duration": 5,
    "start_time": "2023-11-21T13:13:48.707Z"
   },
   {
    "duration": 11,
    "start_time": "2023-11-21T13:13:48.714Z"
   },
   {
    "duration": 316,
    "start_time": "2023-11-21T13:13:48.726Z"
   },
   {
    "duration": 5,
    "start_time": "2023-11-21T13:13:49.044Z"
   },
   {
    "duration": 10,
    "start_time": "2023-11-21T13:13:49.051Z"
   },
   {
    "duration": 351,
    "start_time": "2023-11-21T13:13:49.062Z"
   },
   {
    "duration": 5,
    "start_time": "2023-11-21T13:13:49.415Z"
   },
   {
    "duration": 53,
    "start_time": "2023-11-21T13:13:49.421Z"
   },
   {
    "duration": 493,
    "start_time": "2023-11-21T13:13:49.475Z"
   },
   {
    "duration": 17,
    "start_time": "2023-11-21T13:13:49.970Z"
   },
   {
    "duration": 89,
    "start_time": "2023-11-21T13:13:49.989Z"
   },
   {
    "duration": 141,
    "start_time": "2023-11-21T13:13:50.079Z"
   },
   {
    "duration": 19,
    "start_time": "2023-11-21T13:13:50.221Z"
   },
   {
    "duration": 62,
    "start_time": "2023-11-21T13:13:50.242Z"
   },
   {
    "duration": 12,
    "start_time": "2023-11-21T13:13:50.305Z"
   },
   {
    "duration": 35,
    "start_time": "2023-11-21T13:13:50.319Z"
   },
   {
    "duration": 17,
    "start_time": "2023-11-21T13:13:50.356Z"
   },
   {
    "duration": 46,
    "start_time": "2023-11-21T13:13:50.374Z"
   },
   {
    "duration": 10,
    "start_time": "2023-11-21T13:13:50.422Z"
   },
   {
    "duration": 24,
    "start_time": "2023-11-21T13:13:50.433Z"
   },
   {
    "duration": 24,
    "start_time": "2023-11-21T13:13:50.459Z"
   },
   {
    "duration": 24,
    "start_time": "2023-11-21T13:13:50.485Z"
   },
   {
    "duration": 22,
    "start_time": "2023-11-21T13:13:50.511Z"
   },
   {
    "duration": 323,
    "start_time": "2023-11-21T13:13:50.534Z"
   },
   {
    "duration": 29,
    "start_time": "2023-11-21T13:13:50.858Z"
   },
   {
    "duration": 17,
    "start_time": "2023-11-21T13:13:50.889Z"
   },
   {
    "duration": 30,
    "start_time": "2023-11-21T13:13:50.908Z"
   },
   {
    "duration": 47,
    "start_time": "2023-11-21T13:13:50.940Z"
   },
   {
    "duration": 3,
    "start_time": "2023-11-21T13:13:50.988Z"
   },
   {
    "duration": 30,
    "start_time": "2023-11-21T13:13:50.993Z"
   },
   {
    "duration": 110,
    "start_time": "2023-11-21T13:13:51.025Z"
   },
   {
    "duration": 3,
    "start_time": "2023-11-21T13:13:51.137Z"
   },
   {
    "duration": 1086,
    "start_time": "2024-01-15T17:58:37.175Z"
   },
   {
    "duration": 49,
    "start_time": "2024-01-15T17:58:38.263Z"
   },
   {
    "duration": 347,
    "start_time": "2024-01-15T17:58:38.313Z"
   },
   {
    "duration": 19,
    "start_time": "2024-01-15T17:58:38.661Z"
   },
   {
    "duration": 8,
    "start_time": "2024-01-15T17:58:38.683Z"
   },
   {
    "duration": 17,
    "start_time": "2024-01-15T17:58:38.693Z"
   },
   {
    "duration": 4,
    "start_time": "2024-01-15T17:58:38.711Z"
   },
   {
    "duration": 10,
    "start_time": "2024-01-15T17:58:38.716Z"
   },
   {
    "duration": 33,
    "start_time": "2024-01-15T17:58:38.728Z"
   },
   {
    "duration": 26,
    "start_time": "2024-01-15T17:58:38.763Z"
   },
   {
    "duration": 6,
    "start_time": "2024-01-15T17:58:38.790Z"
   },
   {
    "duration": 24,
    "start_time": "2024-01-15T17:58:38.797Z"
   },
   {
    "duration": 35,
    "start_time": "2024-01-15T17:58:38.822Z"
   },
   {
    "duration": 71,
    "start_time": "2024-01-15T17:58:38.860Z"
   },
   {
    "duration": 7,
    "start_time": "2024-01-15T17:58:38.933Z"
   },
   {
    "duration": 32,
    "start_time": "2024-01-15T17:58:38.941Z"
   },
   {
    "duration": 37,
    "start_time": "2024-01-15T17:58:38.974Z"
   },
   {
    "duration": 62,
    "start_time": "2024-01-15T17:58:39.012Z"
   },
   {
    "duration": 11,
    "start_time": "2024-01-15T17:58:39.075Z"
   },
   {
    "duration": 31,
    "start_time": "2024-01-15T17:58:39.088Z"
   },
   {
    "duration": 123,
    "start_time": "2024-01-15T17:58:39.121Z"
   },
   {
    "duration": 11,
    "start_time": "2024-01-15T17:58:39.245Z"
   },
   {
    "duration": 11,
    "start_time": "2024-01-15T17:58:39.257Z"
   },
   {
    "duration": 28,
    "start_time": "2024-01-15T17:58:39.270Z"
   },
   {
    "duration": 896,
    "start_time": "2024-01-15T17:58:39.300Z"
   },
   {
    "duration": 189,
    "start_time": "2024-01-15T17:58:40.198Z"
   },
   {
    "duration": 255,
    "start_time": "2024-01-15T17:58:40.389Z"
   },
   {
    "duration": 190,
    "start_time": "2024-01-15T17:58:40.645Z"
   },
   {
    "duration": 74,
    "start_time": "2024-01-15T17:58:40.837Z"
   },
   {
    "duration": 13,
    "start_time": "2024-01-15T17:58:40.913Z"
   },
   {
    "duration": 58,
    "start_time": "2024-01-15T17:58:40.928Z"
   },
   {
    "duration": 1409,
    "start_time": "2024-01-15T17:58:40.987Z"
   },
   {
    "duration": 348,
    "start_time": "2024-01-15T17:58:42.398Z"
   },
   {
    "duration": 423,
    "start_time": "2024-01-15T17:58:42.747Z"
   },
   {
    "duration": 224,
    "start_time": "2024-01-15T17:58:43.172Z"
   },
   {
    "duration": 180,
    "start_time": "2024-01-15T17:58:43.398Z"
   },
   {
    "duration": 38,
    "start_time": "2024-01-15T17:58:43.580Z"
   },
   {
    "duration": 690,
    "start_time": "2024-01-15T17:58:43.619Z"
   },
   {
    "duration": 3548,
    "start_time": "2024-01-15T17:58:44.310Z"
   },
   {
    "duration": 31,
    "start_time": "2024-01-15T17:58:47.859Z"
   },
   {
    "duration": 15,
    "start_time": "2024-01-15T17:58:47.894Z"
   },
   {
    "duration": 18,
    "start_time": "2024-01-15T17:58:47.910Z"
   },
   {
    "duration": 5,
    "start_time": "2024-01-15T17:58:47.929Z"
   },
   {
    "duration": 167,
    "start_time": "2024-01-15T17:58:47.935Z"
   },
   {
    "duration": 5,
    "start_time": "2024-01-15T17:58:48.104Z"
   },
   {
    "duration": 10,
    "start_time": "2024-01-15T17:58:48.111Z"
   },
   {
    "duration": 5,
    "start_time": "2024-01-15T17:58:48.122Z"
   },
   {
    "duration": 10,
    "start_time": "2024-01-15T17:58:48.128Z"
   },
   {
    "duration": 303,
    "start_time": "2024-01-15T17:58:48.139Z"
   },
   {
    "duration": 4,
    "start_time": "2024-01-15T17:58:48.444Z"
   },
   {
    "duration": 9,
    "start_time": "2024-01-15T17:58:48.450Z"
   },
   {
    "duration": 300,
    "start_time": "2024-01-15T17:58:48.460Z"
   },
   {
    "duration": 4,
    "start_time": "2024-01-15T17:58:48.762Z"
   },
   {
    "duration": 36,
    "start_time": "2024-01-15T17:58:48.768Z"
   },
   {
    "duration": 187,
    "start_time": "2024-01-15T17:58:48.806Z"
   },
   {
    "duration": 12,
    "start_time": "2024-01-15T17:58:48.994Z"
   },
   {
    "duration": 74,
    "start_time": "2024-01-15T17:58:49.007Z"
   },
   {
    "duration": 17,
    "start_time": "2024-01-15T17:58:49.083Z"
   },
   {
    "duration": 95,
    "start_time": "2024-01-15T17:58:49.102Z"
   },
   {
    "duration": 10,
    "start_time": "2024-01-15T17:58:49.199Z"
   },
   {
    "duration": 47,
    "start_time": "2024-01-15T17:58:49.210Z"
   },
   {
    "duration": 10,
    "start_time": "2024-01-15T17:58:49.258Z"
   },
   {
    "duration": 37,
    "start_time": "2024-01-15T17:58:49.269Z"
   },
   {
    "duration": 10,
    "start_time": "2024-01-15T17:58:49.307Z"
   },
   {
    "duration": 20,
    "start_time": "2024-01-15T17:58:49.318Z"
   },
   {
    "duration": 32,
    "start_time": "2024-01-15T17:58:49.340Z"
   },
   {
    "duration": 21,
    "start_time": "2024-01-15T17:58:49.373Z"
   },
   {
    "duration": 22,
    "start_time": "2024-01-15T17:58:49.395Z"
   },
   {
    "duration": 321,
    "start_time": "2024-01-15T17:58:49.418Z"
   },
   {
    "duration": 29,
    "start_time": "2024-01-15T17:58:49.741Z"
   },
   {
    "duration": 13,
    "start_time": "2024-01-15T17:58:49.772Z"
   },
   {
    "duration": 17,
    "start_time": "2024-01-15T17:58:49.787Z"
   },
   {
    "duration": 51,
    "start_time": "2024-01-15T17:58:49.805Z"
   },
   {
    "duration": 2,
    "start_time": "2024-01-15T17:58:49.858Z"
   },
   {
    "duration": 23,
    "start_time": "2024-01-15T17:58:49.862Z"
   },
   {
    "duration": 109,
    "start_time": "2024-01-15T17:58:49.886Z"
   },
   {
    "duration": 1146,
    "start_time": "2024-01-15T18:03:04.439Z"
   },
   {
    "duration": 48,
    "start_time": "2024-01-15T18:03:05.587Z"
   },
   {
    "duration": 249,
    "start_time": "2024-01-15T18:03:05.636Z"
   },
   {
    "duration": 18,
    "start_time": "2024-01-15T18:03:05.886Z"
   },
   {
    "duration": 9,
    "start_time": "2024-01-15T18:03:05.906Z"
   },
   {
    "duration": 18,
    "start_time": "2024-01-15T18:03:05.916Z"
   },
   {
    "duration": 3,
    "start_time": "2024-01-15T18:03:05.936Z"
   },
   {
    "duration": 11,
    "start_time": "2024-01-15T18:03:05.941Z"
   },
   {
    "duration": 9,
    "start_time": "2024-01-15T18:03:05.954Z"
   },
   {
    "duration": 26,
    "start_time": "2024-01-15T18:03:05.964Z"
   },
   {
    "duration": 6,
    "start_time": "2024-01-15T18:03:05.991Z"
   },
   {
    "duration": 24,
    "start_time": "2024-01-15T18:03:05.999Z"
   },
   {
    "duration": 7,
    "start_time": "2024-01-15T18:03:06.024Z"
   },
   {
    "duration": 71,
    "start_time": "2024-01-15T18:03:06.056Z"
   },
   {
    "duration": 7,
    "start_time": "2024-01-15T18:03:06.128Z"
   },
   {
    "duration": 34,
    "start_time": "2024-01-15T18:03:06.136Z"
   },
   {
    "duration": 34,
    "start_time": "2024-01-15T18:03:06.172Z"
   },
   {
    "duration": 58,
    "start_time": "2024-01-15T18:03:06.208Z"
   },
   {
    "duration": 10,
    "start_time": "2024-01-15T18:03:06.267Z"
   },
   {
    "duration": 16,
    "start_time": "2024-01-15T18:03:06.278Z"
   },
   {
    "duration": 125,
    "start_time": "2024-01-15T18:03:06.295Z"
   },
   {
    "duration": 6,
    "start_time": "2024-01-15T18:03:06.421Z"
   },
   {
    "duration": 8,
    "start_time": "2024-01-15T18:03:06.429Z"
   },
   {
    "duration": 45,
    "start_time": "2024-01-15T18:03:06.439Z"
   },
   {
    "duration": 911,
    "start_time": "2024-01-15T18:03:06.485Z"
   },
   {
    "duration": 194,
    "start_time": "2024-01-15T18:03:07.399Z"
   },
   {
    "duration": 260,
    "start_time": "2024-01-15T18:03:07.595Z"
   },
   {
    "duration": 236,
    "start_time": "2024-01-15T18:03:07.857Z"
   },
   {
    "duration": 74,
    "start_time": "2024-01-15T18:03:08.095Z"
   },
   {
    "duration": 13,
    "start_time": "2024-01-15T18:03:08.170Z"
   },
   {
    "duration": 56,
    "start_time": "2024-01-15T18:03:08.184Z"
   },
   {
    "duration": 1350,
    "start_time": "2024-01-15T18:03:08.242Z"
   },
   {
    "duration": 350,
    "start_time": "2024-01-15T18:03:09.594Z"
   },
   {
    "duration": 353,
    "start_time": "2024-01-15T18:03:09.945Z"
   },
   {
    "duration": 318,
    "start_time": "2024-01-15T18:03:10.300Z"
   },
   {
    "duration": 178,
    "start_time": "2024-01-15T18:03:10.619Z"
   },
   {
    "duration": 41,
    "start_time": "2024-01-15T18:03:10.799Z"
   },
   {
    "duration": 756,
    "start_time": "2024-01-15T18:03:10.841Z"
   },
   {
    "duration": 3523,
    "start_time": "2024-01-15T18:03:11.599Z"
   },
   {
    "duration": 38,
    "start_time": "2024-01-15T18:03:15.123Z"
   },
   {
    "duration": 16,
    "start_time": "2024-01-15T18:03:15.166Z"
   },
   {
    "duration": 13,
    "start_time": "2024-01-15T18:03:15.184Z"
   },
   {
    "duration": 5,
    "start_time": "2024-01-15T18:03:15.199Z"
   },
   {
    "duration": 172,
    "start_time": "2024-01-15T18:03:15.205Z"
   },
   {
    "duration": 5,
    "start_time": "2024-01-15T18:03:15.379Z"
   },
   {
    "duration": 10,
    "start_time": "2024-01-15T18:03:15.385Z"
   },
   {
    "duration": 3,
    "start_time": "2024-01-15T18:03:15.396Z"
   },
   {
    "duration": 4,
    "start_time": "2024-01-15T18:03:15.401Z"
   },
   {
    "duration": 309,
    "start_time": "2024-01-15T18:03:15.406Z"
   },
   {
    "duration": 4,
    "start_time": "2024-01-15T18:03:15.716Z"
   },
   {
    "duration": 10,
    "start_time": "2024-01-15T18:03:15.722Z"
   },
   {
    "duration": 293,
    "start_time": "2024-01-15T18:03:15.733Z"
   },
   {
    "duration": 5,
    "start_time": "2024-01-15T18:03:16.027Z"
   },
   {
    "duration": 46,
    "start_time": "2024-01-15T18:03:16.033Z"
   },
   {
    "duration": 113,
    "start_time": "2024-01-15T18:03:16.080Z"
   },
   {
    "duration": 13,
    "start_time": "2024-01-15T18:03:16.194Z"
   },
   {
    "duration": 74,
    "start_time": "2024-01-15T18:03:16.208Z"
   },
   {
    "duration": 144,
    "start_time": "2024-01-15T18:03:16.284Z"
   },
   {
    "duration": 56,
    "start_time": "2024-01-15T18:03:16.429Z"
   },
   {
    "duration": 10,
    "start_time": "2024-01-15T18:03:16.487Z"
   },
   {
    "duration": 23,
    "start_time": "2024-01-15T18:03:16.498Z"
   },
   {
    "duration": 10,
    "start_time": "2024-01-15T18:03:16.523Z"
   },
   {
    "duration": 32,
    "start_time": "2024-01-15T18:03:16.555Z"
   },
   {
    "duration": 10,
    "start_time": "2024-01-15T18:03:16.589Z"
   },
   {
    "duration": 13,
    "start_time": "2024-01-15T18:03:16.600Z"
   },
   {
    "duration": 44,
    "start_time": "2024-01-15T18:03:16.615Z"
   },
   {
    "duration": 34,
    "start_time": "2024-01-15T18:03:16.660Z"
   },
   {
    "duration": 21,
    "start_time": "2024-01-15T18:03:16.696Z"
   },
   {
    "duration": 289,
    "start_time": "2024-01-15T18:03:16.719Z"
   },
   {
    "duration": 25,
    "start_time": "2024-01-15T18:03:17.009Z"
   },
   {
    "duration": 27,
    "start_time": "2024-01-15T18:03:17.036Z"
   },
   {
    "duration": 19,
    "start_time": "2024-01-15T18:03:17.065Z"
   },
   {
    "duration": 29,
    "start_time": "2024-01-15T18:03:17.085Z"
   },
   {
    "duration": 3,
    "start_time": "2024-01-15T18:03:17.116Z"
   },
   {
    "duration": 41,
    "start_time": "2024-01-15T18:03:17.120Z"
   },
   {
    "duration": 112,
    "start_time": "2024-01-15T18:03:17.163Z"
   },
   {
    "duration": 217,
    "start_time": "2024-01-15T18:04:20.244Z"
   },
   {
    "duration": 201,
    "start_time": "2024-01-15T18:04:32.509Z"
   },
   {
    "duration": 1235,
    "start_time": "2024-01-15T18:04:44.928Z"
   },
   {
    "duration": 51,
    "start_time": "2024-01-15T18:04:46.164Z"
   },
   {
    "duration": 281,
    "start_time": "2024-01-15T18:04:46.216Z"
   },
   {
    "duration": 19,
    "start_time": "2024-01-15T18:04:46.498Z"
   },
   {
    "duration": 14,
    "start_time": "2024-01-15T18:04:46.519Z"
   },
   {
    "duration": 19,
    "start_time": "2024-01-15T18:04:46.534Z"
   },
   {
    "duration": 4,
    "start_time": "2024-01-15T18:04:46.554Z"
   },
   {
    "duration": 13,
    "start_time": "2024-01-15T18:04:46.559Z"
   },
   {
    "duration": 9,
    "start_time": "2024-01-15T18:04:46.574Z"
   },
   {
    "duration": 24,
    "start_time": "2024-01-15T18:04:46.584Z"
   },
   {
    "duration": 5,
    "start_time": "2024-01-15T18:04:46.610Z"
   },
   {
    "duration": 43,
    "start_time": "2024-01-15T18:04:46.617Z"
   },
   {
    "duration": 6,
    "start_time": "2024-01-15T18:04:46.662Z"
   },
   {
    "duration": 87,
    "start_time": "2024-01-15T18:04:46.672Z"
   },
   {
    "duration": 7,
    "start_time": "2024-01-15T18:04:46.760Z"
   },
   {
    "duration": 23,
    "start_time": "2024-01-15T18:04:46.768Z"
   },
   {
    "duration": 38,
    "start_time": "2024-01-15T18:04:46.793Z"
   },
   {
    "duration": 57,
    "start_time": "2024-01-15T18:04:46.832Z"
   },
   {
    "duration": 11,
    "start_time": "2024-01-15T18:04:46.891Z"
   },
   {
    "duration": 25,
    "start_time": "2024-01-15T18:04:46.903Z"
   },
   {
    "duration": 142,
    "start_time": "2024-01-15T18:04:46.929Z"
   },
   {
    "duration": 7,
    "start_time": "2024-01-15T18:04:47.072Z"
   },
   {
    "duration": 12,
    "start_time": "2024-01-15T18:04:47.081Z"
   },
   {
    "duration": 33,
    "start_time": "2024-01-15T18:04:47.094Z"
   },
   {
    "duration": 931,
    "start_time": "2024-01-15T18:04:47.129Z"
   },
   {
    "duration": 161,
    "start_time": "2024-01-15T18:04:48.062Z"
   },
   {
    "duration": 257,
    "start_time": "2024-01-15T18:04:48.225Z"
   },
   {
    "duration": 203,
    "start_time": "2024-01-15T18:04:48.483Z"
   },
   {
    "duration": 70,
    "start_time": "2024-01-15T18:04:48.688Z"
   },
   {
    "duration": 12,
    "start_time": "2024-01-15T18:04:48.759Z"
   },
   {
    "duration": 46,
    "start_time": "2024-01-15T18:04:48.772Z"
   },
   {
    "duration": 1396,
    "start_time": "2024-01-15T18:04:48.820Z"
   },
   {
    "duration": 345,
    "start_time": "2024-01-15T18:04:50.218Z"
   },
   {
    "duration": 338,
    "start_time": "2024-01-15T18:04:50.565Z"
   },
   {
    "duration": 340,
    "start_time": "2024-01-15T18:04:50.905Z"
   },
   {
    "duration": 166,
    "start_time": "2024-01-15T18:04:51.255Z"
   },
   {
    "duration": 48,
    "start_time": "2024-01-15T18:04:51.422Z"
   },
   {
    "duration": 774,
    "start_time": "2024-01-15T18:04:51.472Z"
   },
   {
    "duration": 3484,
    "start_time": "2024-01-15T18:04:52.247Z"
   },
   {
    "duration": 35,
    "start_time": "2024-01-15T18:04:55.733Z"
   },
   {
    "duration": 14,
    "start_time": "2024-01-15T18:04:55.772Z"
   },
   {
    "duration": 21,
    "start_time": "2024-01-15T18:04:55.787Z"
   },
   {
    "duration": 12,
    "start_time": "2024-01-15T18:04:55.809Z"
   },
   {
    "duration": 163,
    "start_time": "2024-01-15T18:04:55.822Z"
   },
   {
    "duration": 5,
    "start_time": "2024-01-15T18:04:55.986Z"
   },
   {
    "duration": 17,
    "start_time": "2024-01-15T18:04:55.992Z"
   },
   {
    "duration": 4,
    "start_time": "2024-01-15T18:04:56.011Z"
   },
   {
    "duration": 7,
    "start_time": "2024-01-15T18:04:56.016Z"
   },
   {
    "duration": 272,
    "start_time": "2024-01-15T18:04:56.024Z"
   },
   {
    "duration": 4,
    "start_time": "2024-01-15T18:04:56.297Z"
   },
   {
    "duration": 17,
    "start_time": "2024-01-15T18:04:56.302Z"
   },
   {
    "duration": 318,
    "start_time": "2024-01-15T18:04:56.320Z"
   },
   {
    "duration": 5,
    "start_time": "2024-01-15T18:04:56.639Z"
   },
   {
    "duration": 43,
    "start_time": "2024-01-15T18:04:56.645Z"
   },
   {
    "duration": 111,
    "start_time": "2024-01-15T18:04:56.689Z"
   },
   {
    "duration": 11,
    "start_time": "2024-01-15T18:04:56.801Z"
   },
   {
    "duration": 74,
    "start_time": "2024-01-15T18:04:56.813Z"
   },
   {
    "duration": 136,
    "start_time": "2024-01-15T18:04:56.889Z"
   },
   {
    "duration": 58,
    "start_time": "2024-01-15T18:04:57.027Z"
   },
   {
    "duration": 10,
    "start_time": "2024-01-15T18:04:57.087Z"
   },
   {
    "duration": 31,
    "start_time": "2024-01-15T18:04:57.099Z"
   },
   {
    "duration": 34,
    "start_time": "2024-01-15T18:04:57.131Z"
   },
   {
    "duration": 34,
    "start_time": "2024-01-15T18:04:57.166Z"
   },
   {
    "duration": 10,
    "start_time": "2024-01-15T18:04:57.201Z"
   },
   {
    "duration": 15,
    "start_time": "2024-01-15T18:04:57.212Z"
   },
   {
    "duration": 39,
    "start_time": "2024-01-15T18:04:57.229Z"
   },
   {
    "duration": 30,
    "start_time": "2024-01-15T18:04:57.269Z"
   },
   {
    "duration": 20,
    "start_time": "2024-01-15T18:04:57.301Z"
   },
   {
    "duration": 304,
    "start_time": "2024-01-15T18:04:57.323Z"
   },
   {
    "duration": 33,
    "start_time": "2024-01-15T18:04:57.629Z"
   },
   {
    "duration": 14,
    "start_time": "2024-01-15T18:04:57.664Z"
   },
   {
    "duration": 40,
    "start_time": "2024-01-15T18:04:57.679Z"
   },
   {
    "duration": 27,
    "start_time": "2024-01-15T18:04:57.720Z"
   },
   {
    "duration": 8,
    "start_time": "2024-01-15T18:04:57.748Z"
   },
   {
    "duration": 14,
    "start_time": "2024-01-15T18:04:57.757Z"
   },
   {
    "duration": 113,
    "start_time": "2024-01-15T18:04:57.772Z"
   },
   {
    "duration": 1167,
    "start_time": "2024-01-15T18:15:18.627Z"
   },
   {
    "duration": 47,
    "start_time": "2024-01-15T18:15:19.796Z"
   },
   {
    "duration": 145,
    "start_time": "2024-01-15T18:15:19.844Z"
   },
   {
    "duration": 0,
    "start_time": "2024-01-15T18:15:19.993Z"
   },
   {
    "duration": 0,
    "start_time": "2024-01-15T18:15:19.994Z"
   },
   {
    "duration": 0,
    "start_time": "2024-01-15T18:15:19.995Z"
   },
   {
    "duration": 0,
    "start_time": "2024-01-15T18:15:19.996Z"
   },
   {
    "duration": 0,
    "start_time": "2024-01-15T18:15:19.997Z"
   },
   {
    "duration": 0,
    "start_time": "2024-01-15T18:15:19.998Z"
   },
   {
    "duration": 0,
    "start_time": "2024-01-15T18:15:19.998Z"
   },
   {
    "duration": 0,
    "start_time": "2024-01-15T18:15:19.999Z"
   },
   {
    "duration": 0,
    "start_time": "2024-01-15T18:15:20.000Z"
   },
   {
    "duration": 0,
    "start_time": "2024-01-15T18:15:20.001Z"
   },
   {
    "duration": 0,
    "start_time": "2024-01-15T18:15:20.002Z"
   },
   {
    "duration": 0,
    "start_time": "2024-01-15T18:15:20.003Z"
   },
   {
    "duration": 0,
    "start_time": "2024-01-15T18:15:20.004Z"
   },
   {
    "duration": 0,
    "start_time": "2024-01-15T18:15:20.005Z"
   },
   {
    "duration": 0,
    "start_time": "2024-01-15T18:15:20.006Z"
   },
   {
    "duration": 0,
    "start_time": "2024-01-15T18:15:20.007Z"
   },
   {
    "duration": 0,
    "start_time": "2024-01-15T18:15:20.008Z"
   },
   {
    "duration": 0,
    "start_time": "2024-01-15T18:15:20.009Z"
   },
   {
    "duration": 0,
    "start_time": "2024-01-15T18:15:20.010Z"
   },
   {
    "duration": 0,
    "start_time": "2024-01-15T18:15:20.011Z"
   },
   {
    "duration": 0,
    "start_time": "2024-01-15T18:15:20.012Z"
   },
   {
    "duration": 0,
    "start_time": "2024-01-15T18:15:20.012Z"
   },
   {
    "duration": 0,
    "start_time": "2024-01-15T18:15:20.013Z"
   },
   {
    "duration": 0,
    "start_time": "2024-01-15T18:15:20.014Z"
   },
   {
    "duration": 0,
    "start_time": "2024-01-15T18:15:20.015Z"
   },
   {
    "duration": 0,
    "start_time": "2024-01-15T18:15:20.016Z"
   },
   {
    "duration": 0,
    "start_time": "2024-01-15T18:15:20.017Z"
   },
   {
    "duration": 0,
    "start_time": "2024-01-15T18:15:20.018Z"
   },
   {
    "duration": 0,
    "start_time": "2024-01-15T18:15:20.018Z"
   },
   {
    "duration": 1,
    "start_time": "2024-01-15T18:15:20.019Z"
   },
   {
    "duration": 0,
    "start_time": "2024-01-15T18:15:20.020Z"
   },
   {
    "duration": 0,
    "start_time": "2024-01-15T18:15:20.056Z"
   },
   {
    "duration": 0,
    "start_time": "2024-01-15T18:15:20.056Z"
   },
   {
    "duration": 0,
    "start_time": "2024-01-15T18:15:20.057Z"
   },
   {
    "duration": 0,
    "start_time": "2024-01-15T18:15:20.058Z"
   },
   {
    "duration": 0,
    "start_time": "2024-01-15T18:15:20.059Z"
   },
   {
    "duration": 0,
    "start_time": "2024-01-15T18:15:20.060Z"
   },
   {
    "duration": 0,
    "start_time": "2024-01-15T18:15:20.061Z"
   },
   {
    "duration": 0,
    "start_time": "2024-01-15T18:15:20.062Z"
   },
   {
    "duration": 0,
    "start_time": "2024-01-15T18:15:20.063Z"
   },
   {
    "duration": 0,
    "start_time": "2024-01-15T18:15:20.064Z"
   },
   {
    "duration": 0,
    "start_time": "2024-01-15T18:15:20.065Z"
   },
   {
    "duration": 0,
    "start_time": "2024-01-15T18:15:20.065Z"
   },
   {
    "duration": 0,
    "start_time": "2024-01-15T18:15:20.066Z"
   },
   {
    "duration": 0,
    "start_time": "2024-01-15T18:15:20.067Z"
   },
   {
    "duration": 0,
    "start_time": "2024-01-15T18:15:20.068Z"
   },
   {
    "duration": 0,
    "start_time": "2024-01-15T18:15:20.069Z"
   },
   {
    "duration": 0,
    "start_time": "2024-01-15T18:15:20.070Z"
   },
   {
    "duration": 0,
    "start_time": "2024-01-15T18:15:20.071Z"
   },
   {
    "duration": 0,
    "start_time": "2024-01-15T18:15:20.072Z"
   },
   {
    "duration": 0,
    "start_time": "2024-01-15T18:15:20.073Z"
   },
   {
    "duration": 0,
    "start_time": "2024-01-15T18:15:20.074Z"
   },
   {
    "duration": 0,
    "start_time": "2024-01-15T18:15:20.075Z"
   },
   {
    "duration": 0,
    "start_time": "2024-01-15T18:15:20.076Z"
   },
   {
    "duration": 0,
    "start_time": "2024-01-15T18:15:20.076Z"
   },
   {
    "duration": 0,
    "start_time": "2024-01-15T18:15:20.077Z"
   },
   {
    "duration": 0,
    "start_time": "2024-01-15T18:15:20.078Z"
   },
   {
    "duration": 0,
    "start_time": "2024-01-15T18:15:20.079Z"
   },
   {
    "duration": 0,
    "start_time": "2024-01-15T18:15:20.080Z"
   },
   {
    "duration": 0,
    "start_time": "2024-01-15T18:15:20.081Z"
   },
   {
    "duration": 0,
    "start_time": "2024-01-15T18:15:20.082Z"
   },
   {
    "duration": 0,
    "start_time": "2024-01-15T18:15:20.083Z"
   },
   {
    "duration": 0,
    "start_time": "2024-01-15T18:15:20.084Z"
   },
   {
    "duration": 0,
    "start_time": "2024-01-15T18:15:20.085Z"
   },
   {
    "duration": 0,
    "start_time": "2024-01-15T18:15:20.086Z"
   },
   {
    "duration": 0,
    "start_time": "2024-01-15T18:15:20.086Z"
   },
   {
    "duration": 0,
    "start_time": "2024-01-15T18:15:20.087Z"
   },
   {
    "duration": 0,
    "start_time": "2024-01-15T18:15:20.088Z"
   },
   {
    "duration": 0,
    "start_time": "2024-01-15T18:15:20.089Z"
   },
   {
    "duration": 0,
    "start_time": "2024-01-15T18:15:20.090Z"
   },
   {
    "duration": 0,
    "start_time": "2024-01-15T18:15:20.091Z"
   },
   {
    "duration": 0,
    "start_time": "2024-01-15T18:15:20.092Z"
   }
  ],
  "kernelspec": {
   "display_name": "Python 3 (ipykernel)",
   "language": "python",
   "name": "python3"
  },
  "language_info": {
   "codemirror_mode": {
    "name": "ipython",
    "version": 3
   },
   "file_extension": ".py",
   "mimetype": "text/x-python",
   "name": "python",
   "nbconvert_exporter": "python",
   "pygments_lexer": "ipython3",
   "version": "3.9.5"
  },
  "toc": {
   "base_numbering": 1,
   "nav_menu": {},
   "number_sections": true,
   "sideBar": true,
   "skip_h1_title": true,
   "title_cell": "Table of Contents",
   "title_sidebar": "Contents",
   "toc_cell": false,
   "toc_position": {},
   "toc_section_display": true,
   "toc_window_display": true
  }
 },
 "nbformat": 4,
 "nbformat_minor": 5
}
